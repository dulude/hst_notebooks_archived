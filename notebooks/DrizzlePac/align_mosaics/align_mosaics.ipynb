{
 "cells": [
  {
   "cell_type": "markdown",
   "metadata": {},
   "source": [
    "# Aligning HST Mosaics "
   ]
  },
  {
   "cell_type": "markdown",
   "metadata": {},
   "source": [
    "<div class=\"alert-danger\">Note: The notebook in this repository 'Initialization.ipynb' goes over many of the basic concepts such as the setup of the environment/package installation and should be read first if you are new to HST images, DrizzlePac, or Astroquery.</div>"
   ]
  },
  {
   "cell_type": "markdown",
   "metadata": {
    "nbpresent": {
     "id": "0d33cc02-bd22-422e-974b-893db4bc8a2e"
    }
   },
   "source": [
    "# Introduction\n",
    "\n",
    "This notebook demonstrates how to align and drizzle mosaicked tiles of the Eagle Nebula (M16) obtained with WFC3 with both UVIS and IR detectors. It is based on the example highlighted in the following WFC3 technical report: [ISR 2015-09: Combining WFC3 Mosaics of M16 with DrizzlePac](http://www.stsci.edu/hst/wfc3/documents/ISRs/WFC3-2015-09.pdf)\n",
    "and highlights special features in DrizzlePac to improve mosaics. \n",
    "\n",
    "In prior alignment [tutorials](https://archive.stsci.edu/prepds/heritage/horsehead/readme_HLSP_v3.txt), building up an aligned set of tiles required an iterative approach. Now, mosaic alignment can be achieved in a single step by building up an expanded reference catalog ‘on-the-fly’. New sky matching options make it easier to produce seamless mosaics, which can be challenging for extended sources with little or no blank sky. "
   ]
  },
  {
   "cell_type": "code",
   "execution_count": 1,
   "metadata": {},
   "outputs": [
    {
     "name": "stdout",
     "output_type": "stream",
     "text": [
      "\n",
      "\n",
      "The following task in the stsci.skypac package can be run with TEAL:\n",
      "                                    skymatch                                    \n",
      "The following tasks in the drizzlepac package can be run with TEAL:\n",
      "    astrodrizzle       config_testbed      imagefindpars           mapreg       \n",
      "       photeq            pixreplace           pixtopix            pixtosky      \n",
      "  refimagefindpars       resetbits          runastrodriz          skytopix      \n",
      "     tweakback            tweakreg           updatenpol\n"
     ]
    }
   ],
   "source": [
    "from astroquery.mast import Observations\n",
    "from ccdproc import ImageFileCollection\n",
    "from astropy.table import Table\n",
    "from astropy.io import fits\n",
    "from astropy.io import ascii\n",
    "from astropy.visualization import ZScaleInterval\n",
    "from IPython.display import Image\n",
    "import glob\n",
    "import matplotlib.pyplot as plt\n",
    "import numpy as np\n",
    "import os\n",
    "import shutil\n",
    "from drizzlepac import tweakreg\n",
    "from drizzlepac import astrodrizzle"
   ]
  },
  {
   "cell_type": "markdown",
   "metadata": {
    "nbpresent": {
     "id": "71a61091-6c4e-4567-880e-8d9908e4dfa4"
    }
   },
   "source": [
    "# 1. Observations\n",
    "\n",
    "Mosaics of the Eagle Nebula were acquired by HST GO/DD [program 13926](http://www.stsci.edu/cgi-bin/get-proposal-info?id=13926&observatory=HST) in September 2014 for HST's 25th Annivery. A 2x2 tile mosaic with the IR detector (~4 arcmin across) was observed in the F110W and F160W filters. \n",
    "\n",
    "A slightly larger 2x2 mosaic with the UVIS detector (~5 arcmin across) was observed with the F502N, F657N, and F673N filters. Small dithers between exposures in a given tile will fill in the UVIS chip gap and allow for the rejection of cosmic rays and detector artifacts. More detail on the observing strategy may be found in the [Phase II file](http://www.stsci.edu/hst/phase2-public/13926.pro).\n",
    "\n",
    "Two additional UVIS tiles overlap the central portion of 2x2 mosaic in order to have very high signal-to-noise in the Eagle's pillars. These two visits (09,10) were not included in this example for brevity. The data used in this notebook example is also limited to the IR/F160W filter (visits 01-04) and UVIS/F657N filters (visits 05-08), shown in the diagrams below.\n",
    ">      IR Mosaic           UVIS Mosaic         UVIS(overlap)\n",
    ">      ____ ____            ____ ____            ____ \n",
    ">     |    |    |          |    |    |          |    |   \n",
    ">     | 02 | 01 |          | 06 | 05 |          | 09 | \n",
    ">     |____|____|          |____|____|          |____|\n",
    ">     |    |    |          |    |    |          |    |  \n",
    ">     | 04 | 03 |          | 08 | 07 |          | 10 |\n",
    ">     |____|____|          |____|____|          |____|"
   ]
  },
  {
   "cell_type": "markdown",
   "metadata": {
    "nbpresent": {
     "id": "71a61091-6c4e-4567-880e-8d9908e4dfa4"
    }
   },
   "source": [
    "# 2. MAST Download\n",
    "\n",
    "In the steps below, the calibrated IR data (\\*\\_flt.fits) and the calibrated, CTE-corrected UVIS data (\\*\\_flc.fits) are retrieved from MAST and placed in the same directory as this notebook, along with the associated telemetry and engineering files (\\*\\_spt.fits)."
   ]
  },
  {
   "cell_type": "code",
   "execution_count": 2,
   "metadata": {},
   "outputs": [
    {
     "name": "stdout",
     "output_type": "stream",
     "text": [
      "Downloading URL https://mast.stsci.edu/api/v0.1/Download/file?uri=mast:HST/product/hst_13926_02_wfc3_ir_f160w_ick902n9_flt.fits to ./science/mastDownload/HST/hst_13926_02_wfc3_ir_f160w_ick902n9/hst_13926_02_wfc3_ir_f160w_ick902n9_flt.fits ... [Done]\n",
      "Downloading URL https://mast.stsci.edu/api/v0.1/Download/file?uri=mast:HST/product/hst_13926_02_wfc3_ir_f160w_ick902ne_flt.fits to ./science/mastDownload/HST/hst_13926_02_wfc3_ir_f160w_ick902ne/hst_13926_02_wfc3_ir_f160w_ick902ne_flt.fits ... [Done]\n",
      "Downloading URL https://mast.stsci.edu/api/v0.1/Download/file?uri=mast:HST/product/ick902030_spt.fits to ./science/mastDownload/HST/ick902030/ick902030_spt.fits ... [Done]\n",
      "Downloading URL https://mast.stsci.edu/api/v0.1/Download/file?uri=mast:HST/product/ick902n9q_spt.fits to ./science/mastDownload/HST/ick902n9q/ick902n9q_spt.fits ... [Done]\n",
      "Downloading URL https://mast.stsci.edu/api/v0.1/Download/file?uri=mast:HST/product/ick902n9q_flt.fits to ./science/mastDownload/HST/ick902n9q/ick902n9q_flt.fits ... [Done]\n",
      "Downloading URL https://mast.stsci.edu/api/v0.1/Download/file?uri=mast:HST/product/ick902neq_spt.fits to ./science/mastDownload/HST/ick902neq/ick902neq_spt.fits ... [Done]\n",
      "Downloading URL https://mast.stsci.edu/api/v0.1/Download/file?uri=mast:HST/product/ick902neq_flt.fits to ./science/mastDownload/HST/ick902neq/ick902neq_flt.fits ... [Done]\n",
      "Downloading URL https://mast.stsci.edu/api/v0.1/Download/file?uri=mast:HST/product/hst_13926_01_wfc3_ir_f160w_ick901hz_flt.fits to ./science/mastDownload/HST/hst_13926_01_wfc3_ir_f160w_ick901hz/hst_13926_01_wfc3_ir_f160w_ick901hz_flt.fits ... [Done]\n",
      "Downloading URL https://mast.stsci.edu/api/v0.1/Download/file?uri=mast:HST/product/hst_13926_01_wfc3_ir_f160w_ick901i7_flt.fits to ./science/mastDownload/HST/hst_13926_01_wfc3_ir_f160w_ick901i7/hst_13926_01_wfc3_ir_f160w_ick901i7_flt.fits ... [Done]\n",
      "Downloading URL https://mast.stsci.edu/api/v0.1/Download/file?uri=mast:HST/product/ick901030_spt.fits to ./science/mastDownload/HST/ick901030/ick901030_spt.fits ... [Done]\n",
      "Downloading URL https://mast.stsci.edu/api/v0.1/Download/file?uri=mast:HST/product/ick901hzq_spt.fits to ./science/mastDownload/HST/ick901hzq/ick901hzq_spt.fits ... [Done]\n",
      "Downloading URL https://mast.stsci.edu/api/v0.1/Download/file?uri=mast:HST/product/ick901hzq_flt.fits to ./science/mastDownload/HST/ick901hzq/ick901hzq_flt.fits ... [Done]\n",
      "Downloading URL https://mast.stsci.edu/api/v0.1/Download/file?uri=mast:HST/product/ick901i7q_spt.fits to ./science/mastDownload/HST/ick901i7q/ick901i7q_spt.fits ... [Done]\n",
      "Downloading URL https://mast.stsci.edu/api/v0.1/Download/file?uri=mast:HST/product/ick901i7q_flt.fits to ./science/mastDownload/HST/ick901i7q/ick901i7q_flt.fits ... [Done]\n",
      "Downloading URL https://mast.stsci.edu/api/v0.1/Download/file?uri=mast:HST/product/hst_13926_04_wfc3_ir_f160w_ick904ob_flt.fits to ./science/mastDownload/HST/hst_13926_04_wfc3_ir_f160w_ick904ob/hst_13926_04_wfc3_ir_f160w_ick904ob_flt.fits ... [Done]\n",
      "Downloading URL https://mast.stsci.edu/api/v0.1/Download/file?uri=mast:HST/product/hst_13926_04_wfc3_ir_f160w_ick904og_flt.fits to ./science/mastDownload/HST/hst_13926_04_wfc3_ir_f160w_ick904og/hst_13926_04_wfc3_ir_f160w_ick904og_flt.fits ... [Done]\n",
      "Downloading URL https://mast.stsci.edu/api/v0.1/Download/file?uri=mast:HST/product/ick904030_spt.fits to ./science/mastDownload/HST/ick904030/ick904030_spt.fits ... [Done]\n",
      "Downloading URL https://mast.stsci.edu/api/v0.1/Download/file?uri=mast:HST/product/ick904obq_spt.fits to ./science/mastDownload/HST/ick904obq/ick904obq_spt.fits ... [Done]\n",
      "Downloading URL https://mast.stsci.edu/api/v0.1/Download/file?uri=mast:HST/product/ick904obq_flt.fits to ./science/mastDownload/HST/ick904obq/ick904obq_flt.fits ... [Done]\n",
      "Downloading URL https://mast.stsci.edu/api/v0.1/Download/file?uri=mast:HST/product/ick904ogq_spt.fits to ./science/mastDownload/HST/ick904ogq/ick904ogq_spt.fits ... [Done]\n",
      "Downloading URL https://mast.stsci.edu/api/v0.1/Download/file?uri=mast:HST/product/ick904ogq_flt.fits to ./science/mastDownload/HST/ick904ogq/ick904ogq_flt.fits ... [Done]\n",
      "Downloading URL https://mast.stsci.edu/api/v0.1/Download/file?uri=mast:HST/product/hst_13926_03_wfc3_ir_f160w_ick903n4_flt.fits to ./science/mastDownload/HST/hst_13926_03_wfc3_ir_f160w_ick903n4/hst_13926_03_wfc3_ir_f160w_ick903n4_flt.fits ... [Done]\n",
      "Downloading URL https://mast.stsci.edu/api/v0.1/Download/file?uri=mast:HST/product/hst_13926_03_wfc3_ir_f160w_ick903nc_flt.fits to ./science/mastDownload/HST/hst_13926_03_wfc3_ir_f160w_ick903nc/hst_13926_03_wfc3_ir_f160w_ick903nc_flt.fits ... [Done]\n",
      "Downloading URL https://mast.stsci.edu/api/v0.1/Download/file?uri=mast:HST/product/ick903030_spt.fits to ./science/mastDownload/HST/ick903030/ick903030_spt.fits ... [Done]\n",
      "Downloading URL https://mast.stsci.edu/api/v0.1/Download/file?uri=mast:HST/product/ick903n4q_spt.fits to ./science/mastDownload/HST/ick903n4q/ick903n4q_spt.fits ... [Done]\n",
      "Downloading URL https://mast.stsci.edu/api/v0.1/Download/file?uri=mast:HST/product/ick903n4q_flt.fits to ./science/mastDownload/HST/ick903n4q/ick903n4q_flt.fits ... [Done]\n",
      "Downloading URL https://mast.stsci.edu/api/v0.1/Download/file?uri=mast:HST/product/ick903ncq_spt.fits to ./science/mastDownload/HST/ick903ncq/ick903ncq_spt.fits ... [Done]\n",
      "Downloading URL https://mast.stsci.edu/api/v0.1/Download/file?uri=mast:HST/product/ick903ncq_flt.fits to ./science/mastDownload/HST/ick903ncq/ick903ncq_flt.fits ... [Done]\n",
      "INFO: Found cached file ./science/mastDownload/HST/hst_13926_04_wfc3_ir_f160w_ick904ob/hst_13926_04_wfc3_ir_f160w_ick904ob_flt.fits with expected size 16646400. [astroquery.query]\n",
      "INFO: Found cached file ./science/mastDownload/HST/hst_13926_04_wfc3_ir_f160w_ick904og/hst_13926_04_wfc3_ir_f160w_ick904og_flt.fits with expected size 16646400. [astroquery.query]\n",
      "INFO: Found cached file ./science/mastDownload/HST/ick904030/ick904030_spt.fits with expected size 2424960. [astroquery.query]\n",
      "INFO: Found cached file ./science/mastDownload/HST/ick904obq/ick904obq_spt.fits with expected size 1226880. [astroquery.query]\n",
      "INFO: Found cached file ./science/mastDownload/HST/ick904obq/ick904obq_flt.fits with expected size 16634880. [astroquery.query]\n",
      "INFO: Found cached file ./science/mastDownload/HST/ick904ogq/ick904ogq_spt.fits with expected size 1226880. [astroquery.query]\n",
      "INFO: Found cached file ./science/mastDownload/HST/ick904ogq/ick904ogq_flt.fits with expected size 16634880. [astroquery.query]\n",
      "INFO: Found cached file ./science/mastDownload/HST/hst_13926_03_wfc3_ir_f160w_ick903n4/hst_13926_03_wfc3_ir_f160w_ick903n4_flt.fits with expected size 16646400. [astroquery.query]\n",
      "INFO: Found cached file ./science/mastDownload/HST/hst_13926_03_wfc3_ir_f160w_ick903nc/hst_13926_03_wfc3_ir_f160w_ick903nc_flt.fits with expected size 16646400. [astroquery.query]\n",
      "INFO: Found cached file ./science/mastDownload/HST/ick903030/ick903030_spt.fits with expected size 2424960. [astroquery.query]\n",
      "INFO: Found cached file ./science/mastDownload/HST/ick903n4q/ick903n4q_spt.fits with expected size 1226880. [astroquery.query]\n",
      "INFO: Found cached file ./science/mastDownload/HST/ick903n4q/ick903n4q_flt.fits with expected size 16634880. [astroquery.query]\n",
      "INFO: Found cached file ./science/mastDownload/HST/ick903ncq/ick903ncq_spt.fits with expected size 1226880. [astroquery.query]\n",
      "INFO: Found cached file ./science/mastDownload/HST/ick903ncq/ick903ncq_flt.fits with expected size 16634880. [astroquery.query]\n",
      "INFO: Found cached file ./science/mastDownload/HST/hst_13926_02_wfc3_ir_f160w_ick902n9/hst_13926_02_wfc3_ir_f160w_ick902n9_flt.fits with expected size 16634880. [astroquery.query]\n",
      "INFO: Found cached file ./science/mastDownload/HST/hst_13926_02_wfc3_ir_f160w_ick902ne/hst_13926_02_wfc3_ir_f160w_ick902ne_flt.fits with expected size 16634880. [astroquery.query]\n",
      "INFO: Found cached file ./science/mastDownload/HST/ick902030/ick902030_spt.fits with expected size 2424960. [astroquery.query]\n",
      "INFO: Found cached file ./science/mastDownload/HST/ick902n9q/ick902n9q_spt.fits with expected size 1226880. [astroquery.query]\n",
      "INFO: Found cached file ./science/mastDownload/HST/ick902n9q/ick902n9q_flt.fits with expected size 16623360. [astroquery.query]\n",
      "INFO: Found cached file ./science/mastDownload/HST/ick902neq/ick902neq_spt.fits with expected size 1226880. [astroquery.query]\n",
      "INFO: Found cached file ./science/mastDownload/HST/ick902neq/ick902neq_flt.fits with expected size 16623360. [astroquery.query]\n",
      "INFO: Found cached file ./science/mastDownload/HST/hst_13926_01_wfc3_ir_f160w_ick901hz/hst_13926_01_wfc3_ir_f160w_ick901hz_flt.fits with expected size 16646400. [astroquery.query]\n",
      "INFO: Found cached file ./science/mastDownload/HST/hst_13926_01_wfc3_ir_f160w_ick901i7/hst_13926_01_wfc3_ir_f160w_ick901i7_flt.fits with expected size 16646400. [astroquery.query]\n",
      "INFO: Found cached file ./science/mastDownload/HST/ick901030/ick901030_spt.fits with expected size 2424960. [astroquery.query]\n",
      "INFO: Found cached file ./science/mastDownload/HST/ick901hzq/ick901hzq_spt.fits with expected size 1226880. [astroquery.query]\n",
      "INFO: Found cached file ./science/mastDownload/HST/ick901hzq/ick901hzq_flt.fits with expected size 16634880. [astroquery.query]\n",
      "INFO: Found cached file ./science/mastDownload/HST/ick901i7q/ick901i7q_spt.fits with expected size 1226880. [astroquery.query]\n",
      "INFO: Found cached file ./science/mastDownload/HST/ick901i7q/ick901i7q_flt.fits with expected size 16634880. [astroquery.query]\n"
     ]
    }
   ],
   "source": [
    "# Retrieve the IR/F160W calibrated FLT and SPT data products  \n",
    "science_list = Observations.query_criteria(proposal_id='13926', filters='F160W')\n",
    "Observations.download_products(science_list['obsid'], mrp_only=False, download_dir='./science',\n",
    "                               productSubGroupDescription=['FLT', 'SPT'])\n",
    "\n",
    "science_files = glob.glob(os.path.join(os.curdir, 'science', 'mastDownload', 'HST', '*', '*fits'))\n",
    "for im in science_files:\n",
    "    root = im.split('/')[-1]\n",
    "    os.rename(im, './' + root)\n",
    "shutil.rmtree('science/')"
   ]
  },
  {
   "cell_type": "code",
   "execution_count": 3,
   "metadata": {},
   "outputs": [
    {
     "name": "stdout",
     "output_type": "stream",
     "text": [
      "Downloading URL https://mast.stsci.edu/api/v0.1/Download/file?uri=mast:HST/product/hst_13926_05_wfc3_uvis_f657n_ick905k5_flc.fits to ./science/mastDownload/HST/hst_13926_05_wfc3_uvis_f657n_ick905k5/hst_13926_05_wfc3_uvis_f657n_ick905k5_flc.fits ... [Done]\n",
      "Downloading URL https://mast.stsci.edu/api/v0.1/Download/file?uri=mast:HST/product/hst_13926_05_wfc3_uvis_f657n_ick905ke_flc.fits to ./science/mastDownload/HST/hst_13926_05_wfc3_uvis_f657n_ick905ke/hst_13926_05_wfc3_uvis_f657n_ick905ke_flc.fits ... [Done]\n",
      "Downloading URL https://mast.stsci.edu/api/v0.1/Download/file?uri=mast:HST/product/hst_13926_05_wfc3_uvis_f657n_ick905kn_flc.fits to ./science/mastDownload/HST/hst_13926_05_wfc3_uvis_f657n_ick905kn/hst_13926_05_wfc3_uvis_f657n_ick905kn_flc.fits ... [Done]\n",
      "Downloading URL https://mast.stsci.edu/api/v0.1/Download/file?uri=mast:HST/product/ick905040_spt.fits to ./science/mastDownload/HST/ick905040/ick905040_spt.fits ... [Done]\n",
      "Downloading URL https://mast.stsci.edu/api/v0.1/Download/file?uri=mast:HST/product/ick905k5q_spt.fits to ./science/mastDownload/HST/ick905k5q/ick905k5q_spt.fits ... [Done]\n",
      "Downloading URL https://mast.stsci.edu/api/v0.1/Download/file?uri=mast:HST/product/ick905k5q_flc.fits to ./science/mastDownload/HST/ick905k5q/ick905k5q_flc.fits ... [Done]\n",
      "Downloading URL https://mast.stsci.edu/api/v0.1/Download/file?uri=mast:HST/product/ick905keq_spt.fits to ./science/mastDownload/HST/ick905keq/ick905keq_spt.fits ... [Done]\n",
      "Downloading URL https://mast.stsci.edu/api/v0.1/Download/file?uri=mast:HST/product/ick905keq_flc.fits to ./science/mastDownload/HST/ick905keq/ick905keq_flc.fits ... [Done]\n",
      "Downloading URL https://mast.stsci.edu/api/v0.1/Download/file?uri=mast:HST/product/ick905knq_spt.fits to ./science/mastDownload/HST/ick905knq/ick905knq_spt.fits ... [Done]\n",
      "Downloading URL https://mast.stsci.edu/api/v0.1/Download/file?uri=mast:HST/product/ick905knq_flc.fits to ./science/mastDownload/HST/ick905knq/ick905knq_flc.fits ... [Done]\n",
      "Downloading URL https://mast.stsci.edu/api/v0.1/Download/file?uri=mast:HST/product/hst_13926_08_wfc3_uvis_f657n_ick908pb_flc.fits to ./science/mastDownload/HST/hst_13926_08_wfc3_uvis_f657n_ick908pb/hst_13926_08_wfc3_uvis_f657n_ick908pb_flc.fits ... [Done]\n",
      "Downloading URL https://mast.stsci.edu/api/v0.1/Download/file?uri=mast:HST/product/hst_13926_08_wfc3_uvis_f657n_ick908pk_flc.fits to ./science/mastDownload/HST/hst_13926_08_wfc3_uvis_f657n_ick908pk/hst_13926_08_wfc3_uvis_f657n_ick908pk_flc.fits ... [Done]\n",
      "Downloading URL https://mast.stsci.edu/api/v0.1/Download/file?uri=mast:HST/product/hst_13926_08_wfc3_uvis_f657n_ick908pt_flc.fits to ./science/mastDownload/HST/hst_13926_08_wfc3_uvis_f657n_ick908pt/hst_13926_08_wfc3_uvis_f657n_ick908pt_flc.fits ... [Done]\n",
      "Downloading URL https://mast.stsci.edu/api/v0.1/Download/file?uri=mast:HST/product/ick908040_spt.fits to ./science/mastDownload/HST/ick908040/ick908040_spt.fits ... [Done]\n",
      "Downloading URL https://mast.stsci.edu/api/v0.1/Download/file?uri=mast:HST/product/ick908pbq_spt.fits to ./science/mastDownload/HST/ick908pbq/ick908pbq_spt.fits ... [Done]\n",
      "Downloading URL https://mast.stsci.edu/api/v0.1/Download/file?uri=mast:HST/product/ick908pbq_flc.fits to ./science/mastDownload/HST/ick908pbq/ick908pbq_flc.fits ... [Done]\n",
      "Downloading URL https://mast.stsci.edu/api/v0.1/Download/file?uri=mast:HST/product/ick908pkq_spt.fits to ./science/mastDownload/HST/ick908pkq/ick908pkq_spt.fits ... [Done]\n",
      "Downloading URL https://mast.stsci.edu/api/v0.1/Download/file?uri=mast:HST/product/ick908pkq_flc.fits to ./science/mastDownload/HST/ick908pkq/ick908pkq_flc.fits ... [Done]\n",
      "Downloading URL https://mast.stsci.edu/api/v0.1/Download/file?uri=mast:HST/product/ick908ptq_spt.fits to ./science/mastDownload/HST/ick908ptq/ick908ptq_spt.fits ... [Done]\n",
      "Downloading URL https://mast.stsci.edu/api/v0.1/Download/file?uri=mast:HST/product/ick908ptq_flc.fits to ./science/mastDownload/HST/ick908ptq/ick908ptq_flc.fits ... [Done]\n",
      "Downloading URL https://mast.stsci.edu/api/v0.1/Download/file?uri=mast:HST/product/hst_13926_07_wfc3_uvis_f657n_ick907nk_flc.fits to ./science/mastDownload/HST/hst_13926_07_wfc3_uvis_f657n_ick907nk/hst_13926_07_wfc3_uvis_f657n_ick907nk_flc.fits ... [Done]\n",
      "Downloading URL https://mast.stsci.edu/api/v0.1/Download/file?uri=mast:HST/product/hst_13926_07_wfc3_uvis_f657n_ick907o1_flc.fits to ./science/mastDownload/HST/hst_13926_07_wfc3_uvis_f657n_ick907o1/hst_13926_07_wfc3_uvis_f657n_ick907o1_flc.fits ... [Done]\n",
      "Downloading URL https://mast.stsci.edu/api/v0.1/Download/file?uri=mast:HST/product/hst_13926_07_wfc3_uvis_f657n_ick907ou_flc.fits to ./science/mastDownload/HST/hst_13926_07_wfc3_uvis_f657n_ick907ou/hst_13926_07_wfc3_uvis_f657n_ick907ou_flc.fits ... [Done]\n",
      "Downloading URL https://mast.stsci.edu/api/v0.1/Download/file?uri=mast:HST/product/ick907040_spt.fits to ./science/mastDownload/HST/ick907040/ick907040_spt.fits ... [Done]\n",
      "Downloading URL https://mast.stsci.edu/api/v0.1/Download/file?uri=mast:HST/product/ick907nkq_spt.fits to ./science/mastDownload/HST/ick907nkq/ick907nkq_spt.fits ... [Done]\n",
      "Downloading URL https://mast.stsci.edu/api/v0.1/Download/file?uri=mast:HST/product/ick907nkq_flc.fits to ./science/mastDownload/HST/ick907nkq/ick907nkq_flc.fits ... [Done]\n",
      "Downloading URL https://mast.stsci.edu/api/v0.1/Download/file?uri=mast:HST/product/ick907o1q_spt.fits to ./science/mastDownload/HST/ick907o1q/ick907o1q_spt.fits ... [Done]\n",
      "Downloading URL https://mast.stsci.edu/api/v0.1/Download/file?uri=mast:HST/product/ick907o1q_flc.fits to ./science/mastDownload/HST/ick907o1q/ick907o1q_flc.fits ... [Done]\n",
      "Downloading URL https://mast.stsci.edu/api/v0.1/Download/file?uri=mast:HST/product/ick907ouq_spt.fits to ./science/mastDownload/HST/ick907ouq/ick907ouq_spt.fits ... [Done]\n",
      "Downloading URL https://mast.stsci.edu/api/v0.1/Download/file?uri=mast:HST/product/ick907ouq_flc.fits to ./science/mastDownload/HST/ick907ouq/ick907ouq_flc.fits ... [Done]\n",
      "Downloading URL https://mast.stsci.edu/api/v0.1/Download/file?uri=mast:HST/product/hst_13926_06_wfc3_uvis_f657n_ick906kw_flc.fits to ./science/mastDownload/HST/hst_13926_06_wfc3_uvis_f657n_ick906kw/hst_13926_06_wfc3_uvis_f657n_ick906kw_flc.fits ... [Done]\n",
      "Downloading URL https://mast.stsci.edu/api/v0.1/Download/file?uri=mast:HST/product/hst_13926_06_wfc3_uvis_f657n_ick906l5_flc.fits to ./science/mastDownload/HST/hst_13926_06_wfc3_uvis_f657n_ick906l5/hst_13926_06_wfc3_uvis_f657n_ick906l5_flc.fits ... [Done]\n",
      "Downloading URL https://mast.stsci.edu/api/v0.1/Download/file?uri=mast:HST/product/hst_13926_06_wfc3_uvis_f657n_ick906le_flc.fits to ./science/mastDownload/HST/hst_13926_06_wfc3_uvis_f657n_ick906le/hst_13926_06_wfc3_uvis_f657n_ick906le_flc.fits ... [Done]\n",
      "Downloading URL https://mast.stsci.edu/api/v0.1/Download/file?uri=mast:HST/product/ick906040_spt.fits to ./science/mastDownload/HST/ick906040/ick906040_spt.fits ... [Done]\n",
      "Downloading URL https://mast.stsci.edu/api/v0.1/Download/file?uri=mast:HST/product/ick906kwq_spt.fits to ./science/mastDownload/HST/ick906kwq/ick906kwq_spt.fits ... [Done]\n",
      "Downloading URL https://mast.stsci.edu/api/v0.1/Download/file?uri=mast:HST/product/ick906kwq_flc.fits to ./science/mastDownload/HST/ick906kwq/ick906kwq_flc.fits ... [Done]\n",
      "Downloading URL https://mast.stsci.edu/api/v0.1/Download/file?uri=mast:HST/product/ick906l5q_spt.fits to ./science/mastDownload/HST/ick906l5q/ick906l5q_spt.fits ... [Done]\n",
      "Downloading URL https://mast.stsci.edu/api/v0.1/Download/file?uri=mast:HST/product/ick906l5q_flc.fits to ./science/mastDownload/HST/ick906l5q/ick906l5q_flc.fits ... [Done]\n",
      "Downloading URL https://mast.stsci.edu/api/v0.1/Download/file?uri=mast:HST/product/ick906leq_spt.fits to ./science/mastDownload/HST/ick906leq/ick906leq_spt.fits ... [Done]\n",
      "Downloading URL https://mast.stsci.edu/api/v0.1/Download/file?uri=mast:HST/product/ick906leq_flc.fits to ./science/mastDownload/HST/ick906leq/ick906leq_flc.fits ... [Done]\n"
     ]
    }
   ],
   "source": [
    "# Obtain the UVIS/F657N calibrated FLC and SPT data products from visits 05-08 \n",
    "science_list = Observations.query_criteria(proposal_id='13926', filters='F657N', obs_id='ICK90[5678]*')\n",
    "Observations.download_products(science_list['obsid'], mrp_only=False, download_dir='./science',\n",
    "                               productSubGroupDescription=['FLC', 'SPT'])\n",
    "\n",
    "science_files = glob.glob(os.path.join(os.curdir, 'science', 'mastDownload', 'HST', '*', '*fits'))\n",
    "for im in science_files:\n",
    "    root = im.split('/')[-1]\n",
    "    os.rename(im, './' + root)\n",
    "shutil.rmtree('science/')"
   ]
  },
  {
   "cell_type": "markdown",
   "metadata": {},
   "source": [
    "# 3. Dithers\n",
    "\n",
    "## 3a. IR detector\n",
    "IR exposures were obtained in Visits 01-04. (The visit ID is found in the 5th and 6th character of the filename). Each visit (mosaic tile) consists of a pair of exposures using the WFC3-IR-DITHER-BLOB dither of 7.2\" along the y-axis (pattern_orient=90 degrees). This dither can be seen when comparing the POSTARG2 keyword between pairs of exposures in a given visit in the table below. \n",
    "\n",
    "Pairs of IR exposures making up each visit are referred to as v01a and v01b in this notebook. The first four images listed in the table below are associated with v01a and the last four with v01b. "
   ]
  },
  {
   "cell_type": "code",
   "execution_count": 4,
   "metadata": {},
   "outputs": [
    {
     "data": {
      "text/html": [
       "<div><i>Table masked=True length=16</i>\n",
       "<table id=\"table140612002426016\" class=\"table-striped table-bordered table-condensed\">\n",
       "<thead><tr><th>file</th><th>asn_id</th><th>detector</th><th>filter</th><th>nsamp</th><th>exptime</th><th>postarg1</th><th>postarg2</th></tr></thead>\n",
       "<thead><tr><th>str44</th><th>str9</th><th>str2</th><th>str5</th><th>int64</th><th>float64</th><th>float64</th><th>float64</th></tr></thead>\n",
       "<tr><td>hst_13926_01_wfc3_ir_f160w_ick901hz_flt.fits</td><td>ICK901030</td><td>IR</td><td>F160W</td><td>16</td><td>702.9</td><td>-62.57</td><td>-62.05</td></tr>\n",
       "<tr><td>hst_13926_01_wfc3_ir_f160w_ick901i7_flt.fits</td><td>ICK901030</td><td>IR</td><td>F160W</td><td>16</td><td>702.9</td><td>-62.57</td><td>-54.85</td></tr>\n",
       "<tr><td>hst_13926_02_wfc3_ir_f160w_ick902n9_flt.fits</td><td>ICK902030</td><td>IR</td><td>F160W</td><td>16</td><td>702.9</td><td>62.57</td><td>-62.05</td></tr>\n",
       "<tr><td>hst_13926_02_wfc3_ir_f160w_ick902ne_flt.fits</td><td>ICK902030</td><td>IR</td><td>F160W</td><td>16</td><td>702.9</td><td>62.57</td><td>-54.85</td></tr>\n",
       "<tr><td>hst_13926_03_wfc3_ir_f160w_ick903n4_flt.fits</td><td>ICK903030</td><td>IR</td><td>F160W</td><td>16</td><td>702.9</td><td>-62.57</td><td>54.85</td></tr>\n",
       "<tr><td>hst_13926_03_wfc3_ir_f160w_ick903nc_flt.fits</td><td>ICK903030</td><td>IR</td><td>F160W</td><td>16</td><td>702.9</td><td>-62.57</td><td>62.05</td></tr>\n",
       "<tr><td>hst_13926_04_wfc3_ir_f160w_ick904ob_flt.fits</td><td>ICK904030</td><td>IR</td><td>F160W</td><td>16</td><td>702.9</td><td>62.57</td><td>54.85</td></tr>\n",
       "<tr><td>hst_13926_04_wfc3_ir_f160w_ick904og_flt.fits</td><td>ICK904030</td><td>IR</td><td>F160W</td><td>16</td><td>702.9</td><td>62.57</td><td>62.05</td></tr>\n",
       "<tr><td>ick901hzq_flt.fits</td><td>ICK901030</td><td>IR</td><td>F160W</td><td>16</td><td>702.9</td><td>-62.57</td><td>-62.05</td></tr>\n",
       "<tr><td>ick901i7q_flt.fits</td><td>ICK901030</td><td>IR</td><td>F160W</td><td>16</td><td>702.9</td><td>-62.57</td><td>-54.85</td></tr>\n",
       "<tr><td>ick902n9q_flt.fits</td><td>ICK902030</td><td>IR</td><td>F160W</td><td>16</td><td>702.9</td><td>62.57</td><td>-62.05</td></tr>\n",
       "<tr><td>ick902neq_flt.fits</td><td>ICK902030</td><td>IR</td><td>F160W</td><td>16</td><td>702.9</td><td>62.57</td><td>-54.85</td></tr>\n",
       "<tr><td>ick903n4q_flt.fits</td><td>ICK903030</td><td>IR</td><td>F160W</td><td>16</td><td>702.9</td><td>-62.57</td><td>54.85</td></tr>\n",
       "<tr><td>ick903ncq_flt.fits</td><td>ICK903030</td><td>IR</td><td>F160W</td><td>16</td><td>702.9</td><td>-62.57</td><td>62.05</td></tr>\n",
       "<tr><td>ick904obq_flt.fits</td><td>ICK904030</td><td>IR</td><td>F160W</td><td>16</td><td>702.9</td><td>62.57</td><td>54.85</td></tr>\n",
       "<tr><td>ick904ogq_flt.fits</td><td>ICK904030</td><td>IR</td><td>F160W</td><td>16</td><td>702.9</td><td>62.57</td><td>62.05</td></tr>\n",
       "</table></div>"
      ],
      "text/plain": [
       "<Table masked=True length=16>\n",
       "                    file                       asn_id  detector filter nsamp exptime postarg1 postarg2\n",
       "                   str44                        str9     str2    str5  int64 float64 float64  float64 \n",
       "-------------------------------------------- --------- -------- ------ ----- ------- -------- --------\n",
       "hst_13926_01_wfc3_ir_f160w_ick901hz_flt.fits ICK901030       IR  F160W    16   702.9   -62.57   -62.05\n",
       "hst_13926_01_wfc3_ir_f160w_ick901i7_flt.fits ICK901030       IR  F160W    16   702.9   -62.57   -54.85\n",
       "hst_13926_02_wfc3_ir_f160w_ick902n9_flt.fits ICK902030       IR  F160W    16   702.9    62.57   -62.05\n",
       "hst_13926_02_wfc3_ir_f160w_ick902ne_flt.fits ICK902030       IR  F160W    16   702.9    62.57   -54.85\n",
       "hst_13926_03_wfc3_ir_f160w_ick903n4_flt.fits ICK903030       IR  F160W    16   702.9   -62.57    54.85\n",
       "hst_13926_03_wfc3_ir_f160w_ick903nc_flt.fits ICK903030       IR  F160W    16   702.9   -62.57    62.05\n",
       "hst_13926_04_wfc3_ir_f160w_ick904ob_flt.fits ICK904030       IR  F160W    16   702.9    62.57    54.85\n",
       "hst_13926_04_wfc3_ir_f160w_ick904og_flt.fits ICK904030       IR  F160W    16   702.9    62.57    62.05\n",
       "                          ick901hzq_flt.fits ICK901030       IR  F160W    16   702.9   -62.57   -62.05\n",
       "                          ick901i7q_flt.fits ICK901030       IR  F160W    16   702.9   -62.57   -54.85\n",
       "                          ick902n9q_flt.fits ICK902030       IR  F160W    16   702.9    62.57   -62.05\n",
       "                          ick902neq_flt.fits ICK902030       IR  F160W    16   702.9    62.57   -54.85\n",
       "                          ick903n4q_flt.fits ICK903030       IR  F160W    16   702.9   -62.57    54.85\n",
       "                          ick903ncq_flt.fits ICK903030       IR  F160W    16   702.9   -62.57    62.05\n",
       "                          ick904obq_flt.fits ICK904030       IR  F160W    16   702.9    62.57    54.85\n",
       "                          ick904ogq_flt.fits ICK904030       IR  F160W    16   702.9    62.57    62.05"
      ]
     },
     "execution_count": 4,
     "metadata": {},
     "output_type": "execute_result"
    }
   ],
   "source": [
    "collect_ir = ImageFileCollection('./', glob_include=\"*flt.fits\", ext=0,\n",
    "                                 keywords=[\"asn_id\", \"detector\", \"filter\", \"nsamp\",\n",
    "                                           \"exptime\", \"postarg1\", \"postarg2\"])\n",
    "\n",
    "ir_table = collect_ir.summary\n",
    "ir_table['exptime'].format = '7.1f'\n",
    "ir_table['postarg1'].format = '7.2f'\n",
    "ir_table['postarg2'].format = '7.2f'\n",
    "ir_table"
   ]
  },
  {
   "cell_type": "markdown",
   "metadata": {},
   "source": [
    "## 3b. UVIS detector\n",
    "\n",
    "UVIS exposures were acquired in Visits 05-08. Each UVIS visit (tile) consists of a set of 3 dithered exposures using the WFC3-UVIS-MOSAIC-LINE pattern, with an offset ~12\" along a 65 degree diagonal. This dither can be seen in the POSTARG1, POSTARG2 offsets which are ~5\" in X and ~10\" in Y between exposures in a given visit. \n",
    "\n",
    "Sets of three exposures making up each UVIS visit are referred to as v05a, v05b, v05c in this notebook."
   ]
  },
  {
   "cell_type": "code",
   "execution_count": 5,
   "metadata": {},
   "outputs": [
    {
     "data": {
      "text/html": [
       "<div><i>Table masked=True length=24</i>\n",
       "<table id=\"table140611736077312\" class=\"table-striped table-bordered table-condensed\">\n",
       "<thead><tr><th>file</th><th>asn_id</th><th>detector</th><th>filter</th><th>exptime</th><th>postarg1</th><th>postarg2</th></tr></thead>\n",
       "<thead><tr><th>str46</th><th>str9</th><th>str4</th><th>str5</th><th>float64</th><th>float64</th><th>float64</th></tr></thead>\n",
       "<tr><td>hst_13926_05_wfc3_uvis_f657n_ick905k5_flc.fits</td><td>ICK905040</td><td>UVIS</td><td>F657N</td><td>600.0</td><td>-65.38</td><td>-74.27</td></tr>\n",
       "<tr><td>hst_13926_05_wfc3_uvis_f657n_ick905ke_flc.fits</td><td>ICK905040</td><td>UVIS</td><td>F657N</td><td>600.0</td><td>-60.31</td><td>-63.40</td></tr>\n",
       "<tr><td>hst_13926_05_wfc3_uvis_f657n_ick905kn_flc.fits</td><td>ICK905040</td><td>UVIS</td><td>F657N</td><td>600.0</td><td>-55.24</td><td>-52.52</td></tr>\n",
       "<tr><td>hst_13926_06_wfc3_uvis_f657n_ick906kw_flc.fits</td><td>ICK906040</td><td>UVIS</td><td>F657N</td><td>600.0</td><td>65.38</td><td>-65.13</td></tr>\n",
       "<tr><td>hst_13926_06_wfc3_uvis_f657n_ick906l5_flc.fits</td><td>ICK906040</td><td>UVIS</td><td>F657N</td><td>600.0</td><td>70.46</td><td>-54.25</td></tr>\n",
       "<tr><td>hst_13926_06_wfc3_uvis_f657n_ick906le_flc.fits</td><td>ICK906040</td><td>UVIS</td><td>F657N</td><td>600.0</td><td>75.53</td><td>-43.38</td></tr>\n",
       "<tr><td>hst_13926_07_wfc3_uvis_f657n_ick907nk_flc.fits</td><td>ICK907040</td><td>UVIS</td><td>F657N</td><td>600.0</td><td>-65.38</td><td>65.13</td></tr>\n",
       "<tr><td>hst_13926_07_wfc3_uvis_f657n_ick907o1_flc.fits</td><td>ICK907040</td><td>UVIS</td><td>F657N</td><td>600.0</td><td>-60.31</td><td>76.00</td></tr>\n",
       "<tr><td>hst_13926_07_wfc3_uvis_f657n_ick907ou_flc.fits</td><td>ICK907040</td><td>UVIS</td><td>F657N</td><td>600.0</td><td>-55.24</td><td>86.88</td></tr>\n",
       "<tr><td>hst_13926_08_wfc3_uvis_f657n_ick908pb_flc.fits</td><td>ICK908040</td><td>UVIS</td><td>F657N</td><td>600.0</td><td>65.38</td><td>74.27</td></tr>\n",
       "<tr><td>hst_13926_08_wfc3_uvis_f657n_ick908pk_flc.fits</td><td>ICK908040</td><td>UVIS</td><td>F657N</td><td>600.0</td><td>70.46</td><td>85.15</td></tr>\n",
       "<tr><td>hst_13926_08_wfc3_uvis_f657n_ick908pt_flc.fits</td><td>ICK908040</td><td>UVIS</td><td>F657N</td><td>600.0</td><td>75.53</td><td>96.02</td></tr>\n",
       "<tr><td>ick905k5q_flc.fits</td><td>ICK905040</td><td>UVIS</td><td>F657N</td><td>600.0</td><td>-65.38</td><td>-74.27</td></tr>\n",
       "<tr><td>ick905keq_flc.fits</td><td>ICK905040</td><td>UVIS</td><td>F657N</td><td>600.0</td><td>-60.31</td><td>-63.40</td></tr>\n",
       "<tr><td>ick905knq_flc.fits</td><td>ICK905040</td><td>UVIS</td><td>F657N</td><td>600.0</td><td>-55.24</td><td>-52.52</td></tr>\n",
       "<tr><td>ick906kwq_flc.fits</td><td>ICK906040</td><td>UVIS</td><td>F657N</td><td>600.0</td><td>65.38</td><td>-65.13</td></tr>\n",
       "<tr><td>ick906l5q_flc.fits</td><td>ICK906040</td><td>UVIS</td><td>F657N</td><td>600.0</td><td>70.46</td><td>-54.25</td></tr>\n",
       "<tr><td>ick906leq_flc.fits</td><td>ICK906040</td><td>UVIS</td><td>F657N</td><td>600.0</td><td>75.53</td><td>-43.38</td></tr>\n",
       "<tr><td>ick907nkq_flc.fits</td><td>ICK907040</td><td>UVIS</td><td>F657N</td><td>600.0</td><td>-65.38</td><td>65.13</td></tr>\n",
       "<tr><td>ick907o1q_flc.fits</td><td>ICK907040</td><td>UVIS</td><td>F657N</td><td>600.0</td><td>-60.31</td><td>76.00</td></tr>\n",
       "<tr><td>ick907ouq_flc.fits</td><td>ICK907040</td><td>UVIS</td><td>F657N</td><td>600.0</td><td>-55.24</td><td>86.88</td></tr>\n",
       "<tr><td>ick908pbq_flc.fits</td><td>ICK908040</td><td>UVIS</td><td>F657N</td><td>600.0</td><td>65.38</td><td>74.27</td></tr>\n",
       "<tr><td>ick908pkq_flc.fits</td><td>ICK908040</td><td>UVIS</td><td>F657N</td><td>600.0</td><td>70.46</td><td>85.15</td></tr>\n",
       "<tr><td>ick908ptq_flc.fits</td><td>ICK908040</td><td>UVIS</td><td>F657N</td><td>600.0</td><td>75.53</td><td>96.02</td></tr>\n",
       "</table></div>"
      ],
      "text/plain": [
       "<Table masked=True length=24>\n",
       "                     file                        asn_id  detector filter exptime postarg1 postarg2\n",
       "                    str46                         str9     str4    str5  float64 float64  float64 \n",
       "---------------------------------------------- --------- -------- ------ ------- -------- --------\n",
       "hst_13926_05_wfc3_uvis_f657n_ick905k5_flc.fits ICK905040     UVIS  F657N   600.0   -65.38   -74.27\n",
       "hst_13926_05_wfc3_uvis_f657n_ick905ke_flc.fits ICK905040     UVIS  F657N   600.0   -60.31   -63.40\n",
       "hst_13926_05_wfc3_uvis_f657n_ick905kn_flc.fits ICK905040     UVIS  F657N   600.0   -55.24   -52.52\n",
       "hst_13926_06_wfc3_uvis_f657n_ick906kw_flc.fits ICK906040     UVIS  F657N   600.0    65.38   -65.13\n",
       "hst_13926_06_wfc3_uvis_f657n_ick906l5_flc.fits ICK906040     UVIS  F657N   600.0    70.46   -54.25\n",
       "hst_13926_06_wfc3_uvis_f657n_ick906le_flc.fits ICK906040     UVIS  F657N   600.0    75.53   -43.38\n",
       "hst_13926_07_wfc3_uvis_f657n_ick907nk_flc.fits ICK907040     UVIS  F657N   600.0   -65.38    65.13\n",
       "hst_13926_07_wfc3_uvis_f657n_ick907o1_flc.fits ICK907040     UVIS  F657N   600.0   -60.31    76.00\n",
       "hst_13926_07_wfc3_uvis_f657n_ick907ou_flc.fits ICK907040     UVIS  F657N   600.0   -55.24    86.88\n",
       "hst_13926_08_wfc3_uvis_f657n_ick908pb_flc.fits ICK908040     UVIS  F657N   600.0    65.38    74.27\n",
       "hst_13926_08_wfc3_uvis_f657n_ick908pk_flc.fits ICK908040     UVIS  F657N   600.0    70.46    85.15\n",
       "hst_13926_08_wfc3_uvis_f657n_ick908pt_flc.fits ICK908040     UVIS  F657N   600.0    75.53    96.02\n",
       "                            ick905k5q_flc.fits ICK905040     UVIS  F657N   600.0   -65.38   -74.27\n",
       "                            ick905keq_flc.fits ICK905040     UVIS  F657N   600.0   -60.31   -63.40\n",
       "                            ick905knq_flc.fits ICK905040     UVIS  F657N   600.0   -55.24   -52.52\n",
       "                            ick906kwq_flc.fits ICK906040     UVIS  F657N   600.0    65.38   -65.13\n",
       "                            ick906l5q_flc.fits ICK906040     UVIS  F657N   600.0    70.46   -54.25\n",
       "                            ick906leq_flc.fits ICK906040     UVIS  F657N   600.0    75.53   -43.38\n",
       "                            ick907nkq_flc.fits ICK907040     UVIS  F657N   600.0   -65.38    65.13\n",
       "                            ick907o1q_flc.fits ICK907040     UVIS  F657N   600.0   -60.31    76.00\n",
       "                            ick907ouq_flc.fits ICK907040     UVIS  F657N   600.0   -55.24    86.88\n",
       "                            ick908pbq_flc.fits ICK908040     UVIS  F657N   600.0    65.38    74.27\n",
       "                            ick908pkq_flc.fits ICK908040     UVIS  F657N   600.0    70.46    85.15\n",
       "                            ick908ptq_flc.fits ICK908040     UVIS  F657N   600.0    75.53    96.02"
      ]
     },
     "execution_count": 5,
     "metadata": {},
     "output_type": "execute_result"
    }
   ],
   "source": [
    "collect_uvis = ImageFileCollection('./', glob_include=\"*flc.fits\", ext=0,\n",
    "                                   keywords=[\"asn_id\", \"detector\", \"filter\", \"exptime\", \"postarg1\", \"postarg2\"])\n",
    "    \n",
    "uvis_table = collect_uvis.summary\n",
    "uvis_table['exptime'].format = '7.1f'\n",
    "uvis_table['postarg1'].format = '7.2f'\n",
    "uvis_table['postarg2'].format = '7.2f'\n",
    "uvis_table"
   ]
  },
  {
   "cell_type": "markdown",
   "metadata": {
    "nbpresent": {
     "id": "927b9c58-0191-49a0-a5fd-faa64b7b800e"
    }
   },
   "source": [
    "# 4. TweakReg for Mosaics\n",
    "\n",
    "Before combining observations with AstroDrizzle, the WCS keywords in the header of each input frame\n",
    "should be aligned to sub-pixel accuracy. This may be achieved with TweakReg, which allows users to align sets of images to one another or to an external astrometric reference frame. TweakReg has been enhanced to support the alignment of observations that cover a large area on the sky. Making use of the `expand_refcat` parameter, TweakReg will build up an expanded reference catalog on the sky to be used for alignment. When set to 'True', TweakReg selects two images from the input list with the largest overlap on the sky, generates source catalogs for each image, and computes a fit (shift, rotation, and/or scale change) from the matched source list. \n",
    "\n",
    "Next, the algorithm computes the area of overlap of each of these two images with the rest of the input images, and the one with the largest total overlap on the sky is selected as the reference image. Sources from the second image that have not been matched to the reference image catalog are considered good new sources and are added to the reference catalog. In this way, the reference catalog keeps expanding with each new matched image. With a large (expanded) reference catalog it is therefore possible to align images that had no direct overlap with the starting image."
   ]
  },
  {
   "cell_type": "markdown",
   "metadata": {},
   "source": [
    "## 4a. IR Alignment\n",
    "\n",
    "For this large multi-filter dataset, the user should carefully consider which observations to align and combine first. These will serve as a reference image for aligning additional filters. The broadband IR images of M16 contain a large number of stars distributed uniformly over the field of view. The UVIS frames, on the other hand, are largely devoid of point sources and full of cosmic-rays which can trip up TweakReg when trying to compute a fit. Even though the IR detector has a smaller footprint on the sky and the IR PSF is more undersampled, the high density of stars makes it a better anchor for aligning the UVIS tiles.\n",
    "\n",
    "Of the two IR filters, F160W has the largest number of point sources and therefore makes a good choice for the reference image. To generate source lists for matching, the TweakReg parameter `conv_width` should be set to approximately twice the FWHM of the PSF, ~2.5 pixels for IR observations and ~3.5 pixels for UVIS observations. TweakReg will automatically compute the standard deviation of the sky background (`skysigma`), so the number of sources in each catalog may be controlled simply by changing the ‘threshold’ parameter. \n",
    "\n",
    "In this example, TweakReg is run in ‘non-interactive’ mode (`interactive='False'`) so that the astrometric fit residuals and vectors diagrams will be saved as png files in the user’s local directory for inspection. Once the parameters have been fine-tuned and the fit looks adequate, users may run TweakReg a second time (see below) to update the image header WCS keywords by setting the parameter `updatehdr` to True."
   ]
  },
  {
   "cell_type": "code",
   "execution_count": 6,
   "metadata": {},
   "outputs": [
    {
     "name": "stderr",
     "output_type": "stream",
     "text": [
      "INFO:drizzlepac.util:Setting up logfile :  tweakreg.log\n"
     ]
    },
    {
     "name": "stdout",
     "output_type": "stream",
     "text": [
      "Setting up logfile :  tweakreg.log\n"
     ]
    },
    {
     "name": "stderr",
     "output_type": "stream",
     "text": [
      "INFO:drizzlepac.tweakreg:TweakReg Version 3.5.0 started at: 10:45:17.226 (20/10/2022) \n"
     ]
    },
    {
     "name": "stdout",
     "output_type": "stream",
     "text": [
      "TweakReg Version 3.5.0 started at: 10:45:17.226 (20/10/2022) \n"
     ]
    },
    {
     "name": "stderr",
     "output_type": "stream",
     "text": [
      "INFO:drizzlepac.tweakreg:\n"
     ]
    },
    {
     "name": "stdout",
     "output_type": "stream",
     "text": [
      "\n"
     ]
    },
    {
     "name": "stderr",
     "output_type": "stream",
     "text": [
      "INFO:drizzlepac.util:Version Information\n"
     ]
    },
    {
     "name": "stdout",
     "output_type": "stream",
     "text": [
      "Version Information\n"
     ]
    },
    {
     "name": "stderr",
     "output_type": "stream",
     "text": [
      "INFO:drizzlepac.util:--------------------\n"
     ]
    },
    {
     "name": "stdout",
     "output_type": "stream",
     "text": [
      "--------------------\n"
     ]
    },
    {
     "name": "stderr",
     "output_type": "stream",
     "text": [
      "INFO:drizzlepac.util:Python Version [Clang 10.0.0 ]\n"
     ]
    },
    {
     "name": "stdout",
     "output_type": "stream",
     "text": [
      "Python Version [Clang 10.0.0 ]\n"
     ]
    },
    {
     "name": "stderr",
     "output_type": "stream",
     "text": [
      "INFO:drizzlepac.util:3.8.10 (default, May 19 2021, 11:01:55) \n"
     ]
    },
    {
     "name": "stdout",
     "output_type": "stream",
     "text": [
      "3.8.10 (default, May 19 2021, 11:01:55) \n"
     ]
    },
    {
     "name": "stderr",
     "output_type": "stream",
     "text": [
      "INFO:drizzlepac.util:numpy Version -> 1.23.4 \n"
     ]
    },
    {
     "name": "stdout",
     "output_type": "stream",
     "text": [
      "numpy Version -> 1.23.4 \n"
     ]
    },
    {
     "name": "stderr",
     "output_type": "stream",
     "text": [
      "INFO:drizzlepac.util:astropy Version -> 5.1 \n"
     ]
    },
    {
     "name": "stdout",
     "output_type": "stream",
     "text": [
      "astropy Version -> 5.1 \n"
     ]
    },
    {
     "name": "stderr",
     "output_type": "stream",
     "text": [
      "INFO:drizzlepac.util:stwcs Version -> 1.7.2 \n"
     ]
    },
    {
     "name": "stdout",
     "output_type": "stream",
     "text": [
      "stwcs Version -> 1.7.2 \n"
     ]
    },
    {
     "name": "stderr",
     "output_type": "stream",
     "text": [
      "INFO:drizzlepac.tweakreg:\n",
      "INFO:drizzlepac.tweakreg:USER INPUT PARAMETERS common to all Processing Steps:\n",
      "INFO:drizzlepac.tweakreg:\tclean :\tFalse\n",
      "INFO:drizzlepac.tweakreg:\tenforce_user_order :\tFalse\n",
      "INFO:drizzlepac.tweakreg:\texclusions :\t\n",
      "INFO:drizzlepac.tweakreg:\texpand_refcat :\tTrue\n",
      "INFO:drizzlepac.tweakreg:\tinput :\t*flt.fits\n",
      "INFO:drizzlepac.tweakreg:\tinteractive :\tFalse\n",
      "INFO:drizzlepac.tweakreg:\trefimage :\t\n",
      "INFO:drizzlepac.tweakreg:\trunfile :\ttweakreg.log\n",
      "INFO:drizzlepac.tweakreg:\tupdatewcs :\tFalse\n",
      "INFO:drizzlepac.tweakreg:\tverbose :\tFalse\n",
      "INFO:drizzlepac.tweakreg:\twritecat :\tTrue\n",
      "INFO:drizzlepac.tweakreg:\n"
     ]
    },
    {
     "name": "stdout",
     "output_type": "stream",
     "text": [
      "\n"
     ]
    },
    {
     "name": "stderr",
     "output_type": "stream",
     "text": [
      "INFO:drizzlepac.tweakreg:Finding shifts for: \n"
     ]
    },
    {
     "name": "stdout",
     "output_type": "stream",
     "text": [
      "Finding shifts for: \n"
     ]
    },
    {
     "name": "stderr",
     "output_type": "stream",
     "text": [
      "INFO:drizzlepac.tweakreg:    hst_13926_01_wfc3_ir_f160w_ick901hz_flt.fits\n"
     ]
    },
    {
     "name": "stdout",
     "output_type": "stream",
     "text": [
      "    hst_13926_01_wfc3_ir_f160w_ick901hz_flt.fits\n"
     ]
    },
    {
     "name": "stderr",
     "output_type": "stream",
     "text": [
      "INFO:drizzlepac.tweakreg:    hst_13926_01_wfc3_ir_f160w_ick901i7_flt.fits\n"
     ]
    },
    {
     "name": "stdout",
     "output_type": "stream",
     "text": [
      "    hst_13926_01_wfc3_ir_f160w_ick901i7_flt.fits\n"
     ]
    },
    {
     "name": "stderr",
     "output_type": "stream",
     "text": [
      "INFO:drizzlepac.tweakreg:    hst_13926_02_wfc3_ir_f160w_ick902n9_flt.fits\n"
     ]
    },
    {
     "name": "stdout",
     "output_type": "stream",
     "text": [
      "    hst_13926_02_wfc3_ir_f160w_ick902n9_flt.fits\n"
     ]
    },
    {
     "name": "stderr",
     "output_type": "stream",
     "text": [
      "INFO:drizzlepac.tweakreg:    hst_13926_02_wfc3_ir_f160w_ick902ne_flt.fits\n"
     ]
    },
    {
     "name": "stdout",
     "output_type": "stream",
     "text": [
      "    hst_13926_02_wfc3_ir_f160w_ick902ne_flt.fits\n"
     ]
    },
    {
     "name": "stderr",
     "output_type": "stream",
     "text": [
      "INFO:drizzlepac.tweakreg:    hst_13926_03_wfc3_ir_f160w_ick903n4_flt.fits\n"
     ]
    },
    {
     "name": "stdout",
     "output_type": "stream",
     "text": [
      "    hst_13926_03_wfc3_ir_f160w_ick903n4_flt.fits\n"
     ]
    },
    {
     "name": "stderr",
     "output_type": "stream",
     "text": [
      "INFO:drizzlepac.tweakreg:    hst_13926_03_wfc3_ir_f160w_ick903nc_flt.fits\n"
     ]
    },
    {
     "name": "stdout",
     "output_type": "stream",
     "text": [
      "    hst_13926_03_wfc3_ir_f160w_ick903nc_flt.fits\n"
     ]
    },
    {
     "name": "stderr",
     "output_type": "stream",
     "text": [
      "INFO:drizzlepac.tweakreg:    hst_13926_04_wfc3_ir_f160w_ick904ob_flt.fits\n"
     ]
    },
    {
     "name": "stdout",
     "output_type": "stream",
     "text": [
      "    hst_13926_04_wfc3_ir_f160w_ick904ob_flt.fits\n"
     ]
    },
    {
     "name": "stderr",
     "output_type": "stream",
     "text": [
      "INFO:drizzlepac.tweakreg:    hst_13926_04_wfc3_ir_f160w_ick904og_flt.fits\n"
     ]
    },
    {
     "name": "stdout",
     "output_type": "stream",
     "text": [
      "    hst_13926_04_wfc3_ir_f160w_ick904og_flt.fits\n"
     ]
    },
    {
     "name": "stderr",
     "output_type": "stream",
     "text": [
      "INFO:drizzlepac.tweakreg:    ick901hzq_flt.fits\n"
     ]
    },
    {
     "name": "stdout",
     "output_type": "stream",
     "text": [
      "    ick901hzq_flt.fits\n"
     ]
    },
    {
     "name": "stderr",
     "output_type": "stream",
     "text": [
      "INFO:drizzlepac.tweakreg:    ick901i7q_flt.fits\n"
     ]
    },
    {
     "name": "stdout",
     "output_type": "stream",
     "text": [
      "    ick901i7q_flt.fits\n"
     ]
    },
    {
     "name": "stderr",
     "output_type": "stream",
     "text": [
      "INFO:drizzlepac.tweakreg:    ick902n9q_flt.fits\n"
     ]
    },
    {
     "name": "stdout",
     "output_type": "stream",
     "text": [
      "    ick902n9q_flt.fits\n"
     ]
    },
    {
     "name": "stderr",
     "output_type": "stream",
     "text": [
      "INFO:drizzlepac.tweakreg:    ick902neq_flt.fits\n"
     ]
    },
    {
     "name": "stdout",
     "output_type": "stream",
     "text": [
      "    ick902neq_flt.fits\n"
     ]
    },
    {
     "name": "stderr",
     "output_type": "stream",
     "text": [
      "INFO:drizzlepac.tweakreg:    ick903n4q_flt.fits\n"
     ]
    },
    {
     "name": "stdout",
     "output_type": "stream",
     "text": [
      "    ick903n4q_flt.fits\n"
     ]
    },
    {
     "name": "stderr",
     "output_type": "stream",
     "text": [
      "INFO:drizzlepac.tweakreg:    ick903ncq_flt.fits\n"
     ]
    },
    {
     "name": "stdout",
     "output_type": "stream",
     "text": [
      "    ick903ncq_flt.fits\n"
     ]
    },
    {
     "name": "stderr",
     "output_type": "stream",
     "text": [
      "INFO:drizzlepac.tweakreg:    ick904obq_flt.fits\n"
     ]
    },
    {
     "name": "stdout",
     "output_type": "stream",
     "text": [
      "    ick904obq_flt.fits\n"
     ]
    },
    {
     "name": "stderr",
     "output_type": "stream",
     "text": [
      "INFO:drizzlepac.tweakreg:    ick904ogq_flt.fits\n"
     ]
    },
    {
     "name": "stdout",
     "output_type": "stream",
     "text": [
      "    ick904ogq_flt.fits\n"
     ]
    },
    {
     "name": "stderr",
     "output_type": "stream",
     "text": [
      "INFO:drizzlepac.tweakreg:\n"
     ]
    },
    {
     "name": "stdout",
     "output_type": "stream",
     "text": [
      "\n"
     ]
    },
    {
     "name": "stderr",
     "output_type": "stream",
     "text": [
      "INFO:drizzlepac.tweakreg:USER INPUT PARAMETERS for finding sources for each input image:\n",
      "INFO:drizzlepac.tweakreg:\tclean :\tFalse\n",
      "INFO:drizzlepac.tweakreg:\tcomputesig :\tTrue\n",
      "INFO:drizzlepac.tweakreg:\tconv_width :\t2.5\n",
      "INFO:drizzlepac.tweakreg:\tdqbits :\t\n",
      "INFO:drizzlepac.tweakreg:\tenforce_user_order :\tFalse\n",
      "INFO:drizzlepac.tweakreg:\texpand_refcat :\tTrue\n",
      "INFO:drizzlepac.tweakreg:\tfluxmax :\tNone\n",
      "INFO:drizzlepac.tweakreg:\tfluxmin :\tNone\n",
      "INFO:drizzlepac.tweakreg:\tinput :\t*flt.fits\n",
      "INFO:drizzlepac.tweakreg:\tinteractive :\tFalse\n",
      "INFO:drizzlepac.tweakreg:\tnsigma :\t1.5\n",
      "INFO:drizzlepac.tweakreg:\tpeakmax :\tNone\n",
      "INFO:drizzlepac.tweakreg:\tpeakmin :\tNone\n",
      "INFO:drizzlepac.tweakreg:\tratio :\t1.0\n",
      "INFO:drizzlepac.tweakreg:\trefimage :\t\n",
      "INFO:drizzlepac.tweakreg:\troundhi :\t1.0\n",
      "INFO:drizzlepac.tweakreg:\troundlo :\t-1.0\n",
      "INFO:drizzlepac.tweakreg:\trunfile :\ttweakreg.log\n",
      "INFO:drizzlepac.tweakreg:\tsharphi :\t1.0\n",
      "INFO:drizzlepac.tweakreg:\tsharplo :\t0.2\n",
      "INFO:drizzlepac.tweakreg:\tskysigma :\t0.0\n",
      "INFO:drizzlepac.tweakreg:\ttheta :\t0.0\n",
      "INFO:drizzlepac.tweakreg:\tthreshold :\t50\n",
      "INFO:drizzlepac.tweakreg:\tupdatehdr :\tTrue\n",
      "INFO:drizzlepac.tweakreg:\tupdatewcs :\tFalse\n",
      "INFO:drizzlepac.tweakreg:\tuse_sharp_round :\tFalse\n",
      "INFO:drizzlepac.tweakreg:\tverbose :\tFalse\n",
      "INFO:drizzlepac.tweakreg:\twritecat :\tTrue\n",
      "INFO:drizzlepac.tweakreg:\txyunits :\tpixels\n",
      "INFO:drizzlepac.tweakreg:\n",
      "INFO:drizzlepac.imgclasses:===  Source finding for image 'hst_13926_01_wfc3_ir_f160w_ick901hz_flt.fits':\n"
     ]
    },
    {
     "name": "stdout",
     "output_type": "stream",
     "text": [
      "===  Source finding for image 'hst_13926_01_wfc3_ir_f160w_ick901hz_flt.fits':\n"
     ]
    },
    {
     "name": "stderr",
     "output_type": "stream",
     "text": [
      "INFO:drizzlepac.catalogs:  #  Source finding for 'hst_13926_01_wfc3_ir_f160w_ick901hz_flt.fits', EXT=('SCI', 1) started at: 10:45:18.234 (20/10/2022)\n"
     ]
    },
    {
     "name": "stdout",
     "output_type": "stream",
     "text": [
      "  #  Source finding for 'hst_13926_01_wfc3_ir_f160w_ick901hz_flt.fits', EXT=('SCI', 1) started at: 10:45:18.234 (20/10/2022)\n"
     ]
    },
    {
     "name": "stderr",
     "output_type": "stream",
     "text": [
      "INFO:drizzlepac.catalogs:   Finding sources using sky sigma = 3.029214\n",
      "INFO:drizzlepac.catalogs:###Source finding finished at: 10:45:18.340 (20/10/2022)\n",
      "INFO:drizzlepac.catalogs:     Found 545 objects.\n"
     ]
    },
    {
     "name": "stdout",
     "output_type": "stream",
     "text": [
      "     Found 545 objects.\n"
     ]
    },
    {
     "name": "stderr",
     "output_type": "stream",
     "text": [
      "INFO:drizzlepac.imgclasses:===  FINAL number of objects in image 'hst_13926_01_wfc3_ir_f160w_ick901hz_flt.fits': 545\n"
     ]
    },
    {
     "name": "stdout",
     "output_type": "stream",
     "text": [
      "===  FINAL number of objects in image 'hst_13926_01_wfc3_ir_f160w_ick901hz_flt.fits': 545\n"
     ]
    },
    {
     "name": "stderr",
     "output_type": "stream",
     "text": [
      "INFO:drizzlepac.imgclasses:\n"
     ]
    },
    {
     "name": "stdout",
     "output_type": "stream",
     "text": [
      "\n"
     ]
    },
    {
     "name": "stderr",
     "output_type": "stream",
     "text": [
      "INFO:drizzlepac.imgclasses:===  Source finding for image 'hst_13926_01_wfc3_ir_f160w_ick901i7_flt.fits':\n"
     ]
    },
    {
     "name": "stdout",
     "output_type": "stream",
     "text": [
      "===  Source finding for image 'hst_13926_01_wfc3_ir_f160w_ick901i7_flt.fits':\n"
     ]
    },
    {
     "name": "stderr",
     "output_type": "stream",
     "text": [
      "INFO:drizzlepac.catalogs:  #  Source finding for 'hst_13926_01_wfc3_ir_f160w_ick901i7_flt.fits', EXT=('SCI', 1) started at: 10:45:18.478 (20/10/2022)\n"
     ]
    },
    {
     "name": "stdout",
     "output_type": "stream",
     "text": [
      "  #  Source finding for 'hst_13926_01_wfc3_ir_f160w_ick901i7_flt.fits', EXT=('SCI', 1) started at: 10:45:18.478 (20/10/2022)\n"
     ]
    },
    {
     "name": "stderr",
     "output_type": "stream",
     "text": [
      "INFO:drizzlepac.catalogs:   Finding sources using sky sigma = 3.042417\n",
      "INFO:drizzlepac.catalogs:###Source finding finished at: 10:45:18.621 (20/10/2022)\n",
      "INFO:drizzlepac.catalogs:     Found 524 objects.\n"
     ]
    },
    {
     "name": "stdout",
     "output_type": "stream",
     "text": [
      "     Found 524 objects.\n"
     ]
    },
    {
     "name": "stderr",
     "output_type": "stream",
     "text": [
      "INFO:drizzlepac.imgclasses:===  FINAL number of objects in image 'hst_13926_01_wfc3_ir_f160w_ick901i7_flt.fits': 524\n"
     ]
    },
    {
     "name": "stdout",
     "output_type": "stream",
     "text": [
      "===  FINAL number of objects in image 'hst_13926_01_wfc3_ir_f160w_ick901i7_flt.fits': 524\n"
     ]
    },
    {
     "name": "stderr",
     "output_type": "stream",
     "text": [
      "INFO:drizzlepac.imgclasses:\n"
     ]
    },
    {
     "name": "stdout",
     "output_type": "stream",
     "text": [
      "\n"
     ]
    },
    {
     "name": "stderr",
     "output_type": "stream",
     "text": [
      "INFO:drizzlepac.imgclasses:===  Source finding for image 'hst_13926_02_wfc3_ir_f160w_ick902n9_flt.fits':\n"
     ]
    },
    {
     "name": "stdout",
     "output_type": "stream",
     "text": [
      "===  Source finding for image 'hst_13926_02_wfc3_ir_f160w_ick902n9_flt.fits':\n"
     ]
    },
    {
     "name": "stderr",
     "output_type": "stream",
     "text": [
      "INFO:drizzlepac.catalogs:  #  Source finding for 'hst_13926_02_wfc3_ir_f160w_ick902n9_flt.fits', EXT=('SCI', 1) started at: 10:45:18.783 (20/10/2022)\n"
     ]
    },
    {
     "name": "stdout",
     "output_type": "stream",
     "text": [
      "  #  Source finding for 'hst_13926_02_wfc3_ir_f160w_ick902n9_flt.fits', EXT=('SCI', 1) started at: 10:45:18.783 (20/10/2022)\n"
     ]
    },
    {
     "name": "stderr",
     "output_type": "stream",
     "text": [
      "INFO:drizzlepac.catalogs:   Finding sources using sky sigma = 3.440079\n",
      "INFO:drizzlepac.catalogs:###Source finding finished at: 10:45:18.875 (20/10/2022)\n",
      "INFO:drizzlepac.catalogs:     Found 577 objects.\n"
     ]
    },
    {
     "name": "stdout",
     "output_type": "stream",
     "text": [
      "     Found 577 objects.\n"
     ]
    },
    {
     "name": "stderr",
     "output_type": "stream",
     "text": [
      "INFO:drizzlepac.imgclasses:===  FINAL number of objects in image 'hst_13926_02_wfc3_ir_f160w_ick902n9_flt.fits': 577\n"
     ]
    },
    {
     "name": "stdout",
     "output_type": "stream",
     "text": [
      "===  FINAL number of objects in image 'hst_13926_02_wfc3_ir_f160w_ick902n9_flt.fits': 577\n"
     ]
    },
    {
     "name": "stderr",
     "output_type": "stream",
     "text": [
      "INFO:drizzlepac.imgclasses:\n"
     ]
    },
    {
     "name": "stdout",
     "output_type": "stream",
     "text": [
      "\n"
     ]
    },
    {
     "name": "stderr",
     "output_type": "stream",
     "text": [
      "INFO:drizzlepac.imgclasses:===  Source finding for image 'hst_13926_02_wfc3_ir_f160w_ick902ne_flt.fits':\n"
     ]
    },
    {
     "name": "stdout",
     "output_type": "stream",
     "text": [
      "===  Source finding for image 'hst_13926_02_wfc3_ir_f160w_ick902ne_flt.fits':\n"
     ]
    },
    {
     "name": "stderr",
     "output_type": "stream",
     "text": [
      "INFO:drizzlepac.catalogs:  #  Source finding for 'hst_13926_02_wfc3_ir_f160w_ick902ne_flt.fits', EXT=('SCI', 1) started at: 10:45:19.07 (20/10/2022)\n"
     ]
    },
    {
     "name": "stdout",
     "output_type": "stream",
     "text": [
      "  #  Source finding for 'hst_13926_02_wfc3_ir_f160w_ick902ne_flt.fits', EXT=('SCI', 1) started at: 10:45:19.07 (20/10/2022)\n"
     ]
    },
    {
     "name": "stderr",
     "output_type": "stream",
     "text": [
      "INFO:drizzlepac.catalogs:   Finding sources using sky sigma = 3.440899\n",
      "INFO:drizzlepac.catalogs:###Source finding finished at: 10:45:19.175 (20/10/2022)\n",
      "INFO:drizzlepac.catalogs:     Found 602 objects.\n"
     ]
    },
    {
     "name": "stdout",
     "output_type": "stream",
     "text": [
      "     Found 602 objects.\n"
     ]
    },
    {
     "name": "stderr",
     "output_type": "stream",
     "text": [
      "INFO:drizzlepac.imgclasses:===  FINAL number of objects in image 'hst_13926_02_wfc3_ir_f160w_ick902ne_flt.fits': 602\n"
     ]
    },
    {
     "name": "stdout",
     "output_type": "stream",
     "text": [
      "===  FINAL number of objects in image 'hst_13926_02_wfc3_ir_f160w_ick902ne_flt.fits': 602\n"
     ]
    },
    {
     "name": "stderr",
     "output_type": "stream",
     "text": [
      "INFO:drizzlepac.imgclasses:\n"
     ]
    },
    {
     "name": "stdout",
     "output_type": "stream",
     "text": [
      "\n"
     ]
    },
    {
     "name": "stderr",
     "output_type": "stream",
     "text": [
      "INFO:drizzlepac.imgclasses:===  Source finding for image 'hst_13926_03_wfc3_ir_f160w_ick903n4_flt.fits':\n"
     ]
    },
    {
     "name": "stdout",
     "output_type": "stream",
     "text": [
      "===  Source finding for image 'hst_13926_03_wfc3_ir_f160w_ick903n4_flt.fits':\n"
     ]
    },
    {
     "name": "stderr",
     "output_type": "stream",
     "text": [
      "INFO:drizzlepac.catalogs:  #  Source finding for 'hst_13926_03_wfc3_ir_f160w_ick903n4_flt.fits', EXT=('SCI', 1) started at: 10:45:19.322 (20/10/2022)\n"
     ]
    },
    {
     "name": "stdout",
     "output_type": "stream",
     "text": [
      "  #  Source finding for 'hst_13926_03_wfc3_ir_f160w_ick903n4_flt.fits', EXT=('SCI', 1) started at: 10:45:19.322 (20/10/2022)\n"
     ]
    },
    {
     "name": "stderr",
     "output_type": "stream",
     "text": [
      "INFO:drizzlepac.catalogs:   Finding sources using sky sigma = 3.478898\n",
      "INFO:drizzlepac.catalogs:###Source finding finished at: 10:45:19.404 (20/10/2022)\n",
      "INFO:drizzlepac.catalogs:     Found 481 objects.\n"
     ]
    },
    {
     "name": "stdout",
     "output_type": "stream",
     "text": [
      "     Found 481 objects.\n"
     ]
    },
    {
     "name": "stderr",
     "output_type": "stream",
     "text": [
      "INFO:drizzlepac.imgclasses:===  FINAL number of objects in image 'hst_13926_03_wfc3_ir_f160w_ick903n4_flt.fits': 481\n"
     ]
    },
    {
     "name": "stdout",
     "output_type": "stream",
     "text": [
      "===  FINAL number of objects in image 'hst_13926_03_wfc3_ir_f160w_ick903n4_flt.fits': 481\n"
     ]
    },
    {
     "name": "stderr",
     "output_type": "stream",
     "text": [
      "INFO:drizzlepac.imgclasses:\n"
     ]
    },
    {
     "name": "stdout",
     "output_type": "stream",
     "text": [
      "\n"
     ]
    },
    {
     "name": "stderr",
     "output_type": "stream",
     "text": [
      "INFO:drizzlepac.imgclasses:===  Source finding for image 'hst_13926_03_wfc3_ir_f160w_ick903nc_flt.fits':\n"
     ]
    },
    {
     "name": "stdout",
     "output_type": "stream",
     "text": [
      "===  Source finding for image 'hst_13926_03_wfc3_ir_f160w_ick903nc_flt.fits':\n"
     ]
    },
    {
     "name": "stderr",
     "output_type": "stream",
     "text": [
      "INFO:drizzlepac.catalogs:  #  Source finding for 'hst_13926_03_wfc3_ir_f160w_ick903nc_flt.fits', EXT=('SCI', 1) started at: 10:45:19.55 (20/10/2022)\n"
     ]
    },
    {
     "name": "stdout",
     "output_type": "stream",
     "text": [
      "  #  Source finding for 'hst_13926_03_wfc3_ir_f160w_ick903nc_flt.fits', EXT=('SCI', 1) started at: 10:45:19.55 (20/10/2022)\n"
     ]
    },
    {
     "name": "stderr",
     "output_type": "stream",
     "text": [
      "INFO:drizzlepac.catalogs:   Finding sources using sky sigma = 3.462718\n",
      "INFO:drizzlepac.catalogs:###Source finding finished at: 10:45:19.637 (20/10/2022)\n",
      "INFO:drizzlepac.catalogs:     Found 498 objects.\n"
     ]
    },
    {
     "name": "stdout",
     "output_type": "stream",
     "text": [
      "     Found 498 objects.\n"
     ]
    },
    {
     "name": "stderr",
     "output_type": "stream",
     "text": [
      "INFO:drizzlepac.imgclasses:===  FINAL number of objects in image 'hst_13926_03_wfc3_ir_f160w_ick903nc_flt.fits': 498\n"
     ]
    },
    {
     "name": "stdout",
     "output_type": "stream",
     "text": [
      "===  FINAL number of objects in image 'hst_13926_03_wfc3_ir_f160w_ick903nc_flt.fits': 498\n"
     ]
    },
    {
     "name": "stderr",
     "output_type": "stream",
     "text": [
      "INFO:drizzlepac.imgclasses:\n"
     ]
    },
    {
     "name": "stdout",
     "output_type": "stream",
     "text": [
      "\n"
     ]
    },
    {
     "name": "stderr",
     "output_type": "stream",
     "text": [
      "INFO:drizzlepac.imgclasses:===  Source finding for image 'hst_13926_04_wfc3_ir_f160w_ick904ob_flt.fits':\n"
     ]
    },
    {
     "name": "stdout",
     "output_type": "stream",
     "text": [
      "===  Source finding for image 'hst_13926_04_wfc3_ir_f160w_ick904ob_flt.fits':\n"
     ]
    },
    {
     "name": "stderr",
     "output_type": "stream",
     "text": [
      "INFO:drizzlepac.catalogs:  #  Source finding for 'hst_13926_04_wfc3_ir_f160w_ick904ob_flt.fits', EXT=('SCI', 1) started at: 10:45:19.771 (20/10/2022)\n"
     ]
    },
    {
     "name": "stdout",
     "output_type": "stream",
     "text": [
      "  #  Source finding for 'hst_13926_04_wfc3_ir_f160w_ick904ob_flt.fits', EXT=('SCI', 1) started at: 10:45:19.771 (20/10/2022)\n"
     ]
    },
    {
     "name": "stderr",
     "output_type": "stream",
     "text": [
      "INFO:drizzlepac.catalogs:   Finding sources using sky sigma = 3.456442\n",
      "INFO:drizzlepac.catalogs:###Source finding finished at: 10:45:19.871 (20/10/2022)\n",
      "INFO:drizzlepac.catalogs:     Found 477 objects.\n"
     ]
    },
    {
     "name": "stdout",
     "output_type": "stream",
     "text": [
      "     Found 477 objects.\n"
     ]
    },
    {
     "name": "stderr",
     "output_type": "stream",
     "text": [
      "INFO:drizzlepac.imgclasses:===  FINAL number of objects in image 'hst_13926_04_wfc3_ir_f160w_ick904ob_flt.fits': 477\n"
     ]
    },
    {
     "name": "stdout",
     "output_type": "stream",
     "text": [
      "===  FINAL number of objects in image 'hst_13926_04_wfc3_ir_f160w_ick904ob_flt.fits': 477\n"
     ]
    },
    {
     "name": "stderr",
     "output_type": "stream",
     "text": [
      "INFO:drizzlepac.imgclasses:\n"
     ]
    },
    {
     "name": "stdout",
     "output_type": "stream",
     "text": [
      "\n"
     ]
    },
    {
     "name": "stderr",
     "output_type": "stream",
     "text": [
      "INFO:drizzlepac.imgclasses:===  Source finding for image 'hst_13926_04_wfc3_ir_f160w_ick904og_flt.fits':\n"
     ]
    },
    {
     "name": "stdout",
     "output_type": "stream",
     "text": [
      "===  Source finding for image 'hst_13926_04_wfc3_ir_f160w_ick904og_flt.fits':\n"
     ]
    },
    {
     "name": "stderr",
     "output_type": "stream",
     "text": [
      "INFO:drizzlepac.catalogs:  #  Source finding for 'hst_13926_04_wfc3_ir_f160w_ick904og_flt.fits', EXT=('SCI', 1) started at: 10:45:20.04 (20/10/2022)\n"
     ]
    },
    {
     "name": "stdout",
     "output_type": "stream",
     "text": [
      "  #  Source finding for 'hst_13926_04_wfc3_ir_f160w_ick904og_flt.fits', EXT=('SCI', 1) started at: 10:45:20.04 (20/10/2022)\n"
     ]
    },
    {
     "name": "stderr",
     "output_type": "stream",
     "text": [
      "INFO:drizzlepac.catalogs:   Finding sources using sky sigma = 3.423880\n",
      "INFO:drizzlepac.catalogs:###Source finding finished at: 10:45:20.122 (20/10/2022)\n",
      "INFO:drizzlepac.catalogs:     Found 445 objects.\n"
     ]
    },
    {
     "name": "stdout",
     "output_type": "stream",
     "text": [
      "     Found 445 objects.\n"
     ]
    },
    {
     "name": "stderr",
     "output_type": "stream",
     "text": [
      "INFO:drizzlepac.imgclasses:===  FINAL number of objects in image 'hst_13926_04_wfc3_ir_f160w_ick904og_flt.fits': 445\n"
     ]
    },
    {
     "name": "stdout",
     "output_type": "stream",
     "text": [
      "===  FINAL number of objects in image 'hst_13926_04_wfc3_ir_f160w_ick904og_flt.fits': 445\n"
     ]
    },
    {
     "name": "stderr",
     "output_type": "stream",
     "text": [
      "INFO:drizzlepac.imgclasses:\n"
     ]
    },
    {
     "name": "stdout",
     "output_type": "stream",
     "text": [
      "\n"
     ]
    },
    {
     "name": "stderr",
     "output_type": "stream",
     "text": [
      "INFO:drizzlepac.imgclasses:===  Source finding for image 'ick901hzq_flt.fits':\n"
     ]
    },
    {
     "name": "stdout",
     "output_type": "stream",
     "text": [
      "===  Source finding for image 'ick901hzq_flt.fits':\n"
     ]
    },
    {
     "name": "stderr",
     "output_type": "stream",
     "text": [
      "INFO:drizzlepac.catalogs:  #  Source finding for 'ick901hzq_flt.fits', EXT=('SCI', 1) started at: 10:45:20.245 (20/10/2022)\n"
     ]
    },
    {
     "name": "stdout",
     "output_type": "stream",
     "text": [
      "  #  Source finding for 'ick901hzq_flt.fits', EXT=('SCI', 1) started at: 10:45:20.245 (20/10/2022)\n"
     ]
    },
    {
     "name": "stderr",
     "output_type": "stream",
     "text": [
      "INFO:drizzlepac.catalogs:   Finding sources using sky sigma = 3.029214\n",
      "INFO:drizzlepac.catalogs:###Source finding finished at: 10:45:20.327 (20/10/2022)\n",
      "INFO:drizzlepac.catalogs:     Found 545 objects.\n"
     ]
    },
    {
     "name": "stdout",
     "output_type": "stream",
     "text": [
      "     Found 545 objects.\n"
     ]
    },
    {
     "name": "stderr",
     "output_type": "stream",
     "text": [
      "INFO:drizzlepac.imgclasses:===  FINAL number of objects in image 'ick901hzq_flt.fits': 545\n"
     ]
    },
    {
     "name": "stdout",
     "output_type": "stream",
     "text": [
      "===  FINAL number of objects in image 'ick901hzq_flt.fits': 545\n"
     ]
    },
    {
     "name": "stderr",
     "output_type": "stream",
     "text": [
      "INFO:drizzlepac.imgclasses:\n"
     ]
    },
    {
     "name": "stdout",
     "output_type": "stream",
     "text": [
      "\n"
     ]
    },
    {
     "name": "stderr",
     "output_type": "stream",
     "text": [
      "INFO:drizzlepac.imgclasses:===  Source finding for image 'ick901i7q_flt.fits':\n"
     ]
    },
    {
     "name": "stdout",
     "output_type": "stream",
     "text": [
      "===  Source finding for image 'ick901i7q_flt.fits':\n"
     ]
    },
    {
     "name": "stderr",
     "output_type": "stream",
     "text": [
      "INFO:drizzlepac.catalogs:  #  Source finding for 'ick901i7q_flt.fits', EXT=('SCI', 1) started at: 10:45:20.459 (20/10/2022)\n"
     ]
    },
    {
     "name": "stdout",
     "output_type": "stream",
     "text": [
      "  #  Source finding for 'ick901i7q_flt.fits', EXT=('SCI', 1) started at: 10:45:20.459 (20/10/2022)\n"
     ]
    },
    {
     "name": "stderr",
     "output_type": "stream",
     "text": [
      "INFO:drizzlepac.catalogs:   Finding sources using sky sigma = 3.042417\n",
      "INFO:drizzlepac.catalogs:###Source finding finished at: 10:45:20.542 (20/10/2022)\n",
      "INFO:drizzlepac.catalogs:     Found 524 objects.\n"
     ]
    },
    {
     "name": "stdout",
     "output_type": "stream",
     "text": [
      "     Found 524 objects.\n"
     ]
    },
    {
     "name": "stderr",
     "output_type": "stream",
     "text": [
      "INFO:drizzlepac.imgclasses:===  FINAL number of objects in image 'ick901i7q_flt.fits': 524\n"
     ]
    },
    {
     "name": "stdout",
     "output_type": "stream",
     "text": [
      "===  FINAL number of objects in image 'ick901i7q_flt.fits': 524\n"
     ]
    },
    {
     "name": "stderr",
     "output_type": "stream",
     "text": [
      "INFO:drizzlepac.imgclasses:\n"
     ]
    },
    {
     "name": "stdout",
     "output_type": "stream",
     "text": [
      "\n"
     ]
    },
    {
     "name": "stderr",
     "output_type": "stream",
     "text": [
      "INFO:drizzlepac.imgclasses:===  Source finding for image 'ick902n9q_flt.fits':\n"
     ]
    },
    {
     "name": "stdout",
     "output_type": "stream",
     "text": [
      "===  Source finding for image 'ick902n9q_flt.fits':\n"
     ]
    },
    {
     "name": "stderr",
     "output_type": "stream",
     "text": [
      "INFO:drizzlepac.catalogs:  #  Source finding for 'ick902n9q_flt.fits', EXT=('SCI', 1) started at: 10:45:20.681 (20/10/2022)\n"
     ]
    },
    {
     "name": "stdout",
     "output_type": "stream",
     "text": [
      "  #  Source finding for 'ick902n9q_flt.fits', EXT=('SCI', 1) started at: 10:45:20.681 (20/10/2022)\n"
     ]
    },
    {
     "name": "stderr",
     "output_type": "stream",
     "text": [
      "INFO:drizzlepac.catalogs:   Finding sources using sky sigma = 3.440079\n",
      "INFO:drizzlepac.catalogs:###Source finding finished at: 10:45:20.771 (20/10/2022)\n",
      "INFO:drizzlepac.catalogs:     Found 577 objects.\n"
     ]
    },
    {
     "name": "stdout",
     "output_type": "stream",
     "text": [
      "     Found 577 objects.\n"
     ]
    },
    {
     "name": "stderr",
     "output_type": "stream",
     "text": [
      "INFO:drizzlepac.imgclasses:===  FINAL number of objects in image 'ick902n9q_flt.fits': 577\n"
     ]
    },
    {
     "name": "stdout",
     "output_type": "stream",
     "text": [
      "===  FINAL number of objects in image 'ick902n9q_flt.fits': 577\n"
     ]
    },
    {
     "name": "stderr",
     "output_type": "stream",
     "text": [
      "INFO:drizzlepac.imgclasses:\n"
     ]
    },
    {
     "name": "stdout",
     "output_type": "stream",
     "text": [
      "\n"
     ]
    },
    {
     "name": "stderr",
     "output_type": "stream",
     "text": [
      "INFO:drizzlepac.imgclasses:===  Source finding for image 'ick902neq_flt.fits':\n"
     ]
    },
    {
     "name": "stdout",
     "output_type": "stream",
     "text": [
      "===  Source finding for image 'ick902neq_flt.fits':\n"
     ]
    },
    {
     "name": "stderr",
     "output_type": "stream",
     "text": [
      "INFO:drizzlepac.catalogs:  #  Source finding for 'ick902neq_flt.fits', EXT=('SCI', 1) started at: 10:45:20.894 (20/10/2022)\n"
     ]
    },
    {
     "name": "stdout",
     "output_type": "stream",
     "text": [
      "  #  Source finding for 'ick902neq_flt.fits', EXT=('SCI', 1) started at: 10:45:20.894 (20/10/2022)\n"
     ]
    },
    {
     "name": "stderr",
     "output_type": "stream",
     "text": [
      "INFO:drizzlepac.catalogs:   Finding sources using sky sigma = 3.440899\n",
      "INFO:drizzlepac.catalogs:###Source finding finished at: 10:45:20.979 (20/10/2022)\n",
      "INFO:drizzlepac.catalogs:     Found 602 objects.\n"
     ]
    },
    {
     "name": "stdout",
     "output_type": "stream",
     "text": [
      "     Found 602 objects.\n"
     ]
    },
    {
     "name": "stderr",
     "output_type": "stream",
     "text": [
      "INFO:drizzlepac.imgclasses:===  FINAL number of objects in image 'ick902neq_flt.fits': 602\n"
     ]
    },
    {
     "name": "stdout",
     "output_type": "stream",
     "text": [
      "===  FINAL number of objects in image 'ick902neq_flt.fits': 602\n"
     ]
    },
    {
     "name": "stderr",
     "output_type": "stream",
     "text": [
      "INFO:drizzlepac.imgclasses:\n"
     ]
    },
    {
     "name": "stdout",
     "output_type": "stream",
     "text": [
      "\n"
     ]
    },
    {
     "name": "stderr",
     "output_type": "stream",
     "text": [
      "INFO:drizzlepac.imgclasses:===  Source finding for image 'ick903n4q_flt.fits':\n"
     ]
    },
    {
     "name": "stdout",
     "output_type": "stream",
     "text": [
      "===  Source finding for image 'ick903n4q_flt.fits':\n"
     ]
    },
    {
     "name": "stderr",
     "output_type": "stream",
     "text": [
      "INFO:drizzlepac.catalogs:  #  Source finding for 'ick903n4q_flt.fits', EXT=('SCI', 1) started at: 10:45:21.096 (20/10/2022)\n"
     ]
    },
    {
     "name": "stdout",
     "output_type": "stream",
     "text": [
      "  #  Source finding for 'ick903n4q_flt.fits', EXT=('SCI', 1) started at: 10:45:21.096 (20/10/2022)\n"
     ]
    },
    {
     "name": "stderr",
     "output_type": "stream",
     "text": [
      "INFO:drizzlepac.catalogs:   Finding sources using sky sigma = 3.478898\n",
      "INFO:drizzlepac.catalogs:###Source finding finished at: 10:45:21.174 (20/10/2022)\n",
      "INFO:drizzlepac.catalogs:     Found 481 objects.\n"
     ]
    },
    {
     "name": "stdout",
     "output_type": "stream",
     "text": [
      "     Found 481 objects.\n"
     ]
    },
    {
     "name": "stderr",
     "output_type": "stream",
     "text": [
      "INFO:drizzlepac.imgclasses:===  FINAL number of objects in image 'ick903n4q_flt.fits': 481\n"
     ]
    },
    {
     "name": "stdout",
     "output_type": "stream",
     "text": [
      "===  FINAL number of objects in image 'ick903n4q_flt.fits': 481\n"
     ]
    },
    {
     "name": "stderr",
     "output_type": "stream",
     "text": [
      "INFO:drizzlepac.imgclasses:\n"
     ]
    },
    {
     "name": "stdout",
     "output_type": "stream",
     "text": [
      "\n"
     ]
    },
    {
     "name": "stderr",
     "output_type": "stream",
     "text": [
      "INFO:drizzlepac.imgclasses:===  Source finding for image 'ick903ncq_flt.fits':\n"
     ]
    },
    {
     "name": "stdout",
     "output_type": "stream",
     "text": [
      "===  Source finding for image 'ick903ncq_flt.fits':\n"
     ]
    },
    {
     "name": "stderr",
     "output_type": "stream",
     "text": [
      "INFO:drizzlepac.catalogs:  #  Source finding for 'ick903ncq_flt.fits', EXT=('SCI', 1) started at: 10:45:21.287 (20/10/2022)\n"
     ]
    },
    {
     "name": "stdout",
     "output_type": "stream",
     "text": [
      "  #  Source finding for 'ick903ncq_flt.fits', EXT=('SCI', 1) started at: 10:45:21.287 (20/10/2022)\n"
     ]
    },
    {
     "name": "stderr",
     "output_type": "stream",
     "text": [
      "INFO:drizzlepac.catalogs:   Finding sources using sky sigma = 3.462718\n",
      "INFO:drizzlepac.catalogs:###Source finding finished at: 10:45:21.364 (20/10/2022)\n",
      "INFO:drizzlepac.catalogs:     Found 498 objects.\n"
     ]
    },
    {
     "name": "stdout",
     "output_type": "stream",
     "text": [
      "     Found 498 objects.\n"
     ]
    },
    {
     "name": "stderr",
     "output_type": "stream",
     "text": [
      "INFO:drizzlepac.imgclasses:===  FINAL number of objects in image 'ick903ncq_flt.fits': 498\n"
     ]
    },
    {
     "name": "stdout",
     "output_type": "stream",
     "text": [
      "===  FINAL number of objects in image 'ick903ncq_flt.fits': 498\n"
     ]
    },
    {
     "name": "stderr",
     "output_type": "stream",
     "text": [
      "INFO:drizzlepac.imgclasses:\n"
     ]
    },
    {
     "name": "stdout",
     "output_type": "stream",
     "text": [
      "\n"
     ]
    },
    {
     "name": "stderr",
     "output_type": "stream",
     "text": [
      "INFO:drizzlepac.imgclasses:===  Source finding for image 'ick904obq_flt.fits':\n"
     ]
    },
    {
     "name": "stdout",
     "output_type": "stream",
     "text": [
      "===  Source finding for image 'ick904obq_flt.fits':\n"
     ]
    },
    {
     "name": "stderr",
     "output_type": "stream",
     "text": [
      "INFO:drizzlepac.catalogs:  #  Source finding for 'ick904obq_flt.fits', EXT=('SCI', 1) started at: 10:45:21.549 (20/10/2022)\n"
     ]
    },
    {
     "name": "stdout",
     "output_type": "stream",
     "text": [
      "  #  Source finding for 'ick904obq_flt.fits', EXT=('SCI', 1) started at: 10:45:21.549 (20/10/2022)\n"
     ]
    },
    {
     "name": "stderr",
     "output_type": "stream",
     "text": [
      "INFO:drizzlepac.catalogs:   Finding sources using sky sigma = 3.456442\n",
      "INFO:drizzlepac.catalogs:###Source finding finished at: 10:45:21.628 (20/10/2022)\n",
      "INFO:drizzlepac.catalogs:     Found 477 objects.\n"
     ]
    },
    {
     "name": "stdout",
     "output_type": "stream",
     "text": [
      "     Found 477 objects.\n"
     ]
    },
    {
     "name": "stderr",
     "output_type": "stream",
     "text": [
      "INFO:drizzlepac.imgclasses:===  FINAL number of objects in image 'ick904obq_flt.fits': 477\n"
     ]
    },
    {
     "name": "stdout",
     "output_type": "stream",
     "text": [
      "===  FINAL number of objects in image 'ick904obq_flt.fits': 477\n"
     ]
    },
    {
     "name": "stderr",
     "output_type": "stream",
     "text": [
      "INFO:drizzlepac.imgclasses:\n"
     ]
    },
    {
     "name": "stdout",
     "output_type": "stream",
     "text": [
      "\n"
     ]
    },
    {
     "name": "stderr",
     "output_type": "stream",
     "text": [
      "INFO:drizzlepac.imgclasses:===  Source finding for image 'ick904ogq_flt.fits':\n"
     ]
    },
    {
     "name": "stdout",
     "output_type": "stream",
     "text": [
      "===  Source finding for image 'ick904ogq_flt.fits':\n"
     ]
    },
    {
     "name": "stderr",
     "output_type": "stream",
     "text": [
      "INFO:drizzlepac.catalogs:  #  Source finding for 'ick904ogq_flt.fits', EXT=('SCI', 1) started at: 10:45:21.767 (20/10/2022)\n"
     ]
    },
    {
     "name": "stdout",
     "output_type": "stream",
     "text": [
      "  #  Source finding for 'ick904ogq_flt.fits', EXT=('SCI', 1) started at: 10:45:21.767 (20/10/2022)\n"
     ]
    },
    {
     "name": "stderr",
     "output_type": "stream",
     "text": [
      "INFO:drizzlepac.catalogs:   Finding sources using sky sigma = 3.423880\n",
      "INFO:drizzlepac.catalogs:###Source finding finished at: 10:45:21.853 (20/10/2022)\n",
      "INFO:drizzlepac.catalogs:     Found 445 objects.\n"
     ]
    },
    {
     "name": "stdout",
     "output_type": "stream",
     "text": [
      "     Found 445 objects.\n"
     ]
    },
    {
     "name": "stderr",
     "output_type": "stream",
     "text": [
      "INFO:drizzlepac.imgclasses:===  FINAL number of objects in image 'ick904ogq_flt.fits': 445\n"
     ]
    },
    {
     "name": "stdout",
     "output_type": "stream",
     "text": [
      "===  FINAL number of objects in image 'ick904ogq_flt.fits': 445\n"
     ]
    },
    {
     "name": "stderr",
     "output_type": "stream",
     "text": [
      "INFO:drizzlepac.imgclasses:\n"
     ]
    },
    {
     "name": "stdout",
     "output_type": "stream",
     "text": [
      "\n"
     ]
    },
    {
     "name": "stderr",
     "output_type": "stream",
     "text": [
      "INFO:drizzlepac.imgclasses:Converting RA/Dec positions of reference sources from \"hst_13926_02_wfc3_ir_f160w_ick902ne_flt.fits\" to X,Y positions in reference WCS...\n",
      "INFO:drizzlepac.tweakreg:\n"
     ]
    },
    {
     "name": "stdout",
     "output_type": "stream",
     "text": [
      "\n"
     ]
    },
    {
     "name": "stderr",
     "output_type": "stream",
     "text": [
      "INFO:drizzlepac.tweakreg:===============================================================\n"
     ]
    },
    {
     "name": "stdout",
     "output_type": "stream",
     "text": [
      "===============================================================\n"
     ]
    },
    {
     "name": "stderr",
     "output_type": "stream",
     "text": [
      "INFO:drizzlepac.tweakreg:Performing alignment in the projection plane defined by the WCS\n"
     ]
    },
    {
     "name": "stdout",
     "output_type": "stream",
     "text": [
      "Performing alignment in the projection plane defined by the WCS\n"
     ]
    },
    {
     "name": "stderr",
     "output_type": "stream",
     "text": [
      "INFO:drizzlepac.tweakreg:derived from 'hst_13926_02_wfc3_ir_f160w_ick902ne_flt.fits'\n"
     ]
    },
    {
     "name": "stdout",
     "output_type": "stream",
     "text": [
      "derived from 'hst_13926_02_wfc3_ir_f160w_ick902ne_flt.fits'\n"
     ]
    },
    {
     "name": "stderr",
     "output_type": "stream",
     "text": [
      "INFO:drizzlepac.tweakreg:===============================================================\n"
     ]
    },
    {
     "name": "stdout",
     "output_type": "stream",
     "text": [
      "===============================================================\n"
     ]
    },
    {
     "name": "stderr",
     "output_type": "stream",
     "text": [
      "INFO:drizzlepac.tweakreg:\n"
     ]
    },
    {
     "name": "stdout",
     "output_type": "stream",
     "text": [
      "\n"
     ]
    },
    {
     "name": "stderr",
     "output_type": "stream",
     "text": [
      "INFO:drizzlepac.tweakreg:USER INPUT PARAMETERS for matching sources:\n",
      "INFO:drizzlepac.tweakreg:\tminobj :\t15\n",
      "INFO:drizzlepac.tweakreg:\tresidplot :\tboth\n",
      "INFO:drizzlepac.tweakreg:\tsearchrad :\t2.0\n",
      "INFO:drizzlepac.tweakreg:\tsearchunits :\tarcseconds\n",
      "INFO:drizzlepac.tweakreg:\tsee2dplot :\tTrue\n",
      "INFO:drizzlepac.tweakreg:\tseparation :\t0.5\n",
      "INFO:drizzlepac.tweakreg:\ttolerance :\t1.0\n",
      "INFO:drizzlepac.tweakreg:\tuse2dhist :\tTrue\n",
      "INFO:drizzlepac.tweakreg:\txoffset :\t0.0\n",
      "INFO:drizzlepac.tweakreg:\tyoffset :\t0.0\n",
      "INFO:drizzlepac.tweakreg:\n",
      "INFO:drizzlepac.tweakreg:USER INPUT PARAMETERS for fitting source lists:\n",
      "INFO:drizzlepac.tweakreg:\tfitgeometry :\trscale\n",
      "INFO:drizzlepac.tweakreg:\tlabelsize :\t8\n",
      "INFO:drizzlepac.tweakreg:\tminobj :\t15\n",
      "INFO:drizzlepac.tweakreg:\tnclip :\t3\n",
      "INFO:drizzlepac.tweakreg:\tresidplot :\tboth\n",
      "INFO:drizzlepac.tweakreg:\tsigma :\t3.0\n",
      "INFO:drizzlepac.tweakreg:\tylimit :\t0.3\n",
      "INFO:drizzlepac.tweakreg:\n",
      "INFO:drizzlepac.tweakreg:USER INPUT PARAMETERS for creating a shiftfile:\n",
      "INFO:drizzlepac.tweakreg:\toutshifts :\tshift160_flt.txt\n",
      "INFO:drizzlepac.tweakreg:\toutwcs :\tshifts_wcs.fits\n",
      "INFO:drizzlepac.tweakreg:\tshiftfile :\tTrue\n",
      "INFO:drizzlepac.tweakreg:\n"
     ]
    },
    {
     "name": "stdout",
     "output_type": "stream",
     "text": [
      "\n"
     ]
    },
    {
     "name": "stderr",
     "output_type": "stream",
     "text": [
      "INFO:drizzlepac.tweakreg:====================\n"
     ]
    },
    {
     "name": "stdout",
     "output_type": "stream",
     "text": [
      "====================\n"
     ]
    },
    {
     "name": "stderr",
     "output_type": "stream",
     "text": [
      "INFO:drizzlepac.tweakreg:Performing fit for: ick902neq_flt.fits\n"
     ]
    },
    {
     "name": "stdout",
     "output_type": "stream",
     "text": [
      "Performing fit for: ick902neq_flt.fits\n"
     ]
    },
    {
     "name": "stderr",
     "output_type": "stream",
     "text": [
      "INFO:drizzlepac.tweakreg:\n"
     ]
    },
    {
     "name": "stdout",
     "output_type": "stream",
     "text": [
      "\n"
     ]
    },
    {
     "name": "stderr",
     "output_type": "stream",
     "text": [
      "INFO:drizzlepac.imgclasses:Matching sources from 'ick902neq_flt.fits' with sources from reference image 'hst_13926_02_wfc3_ir_f160w_ick902ne_flt.fits'\n"
     ]
    },
    {
     "name": "stdout",
     "output_type": "stream",
     "text": [
      "Matching sources from 'ick902neq_flt.fits' with sources from reference image 'hst_13926_02_wfc3_ir_f160w_ick902ne_flt.fits'\n"
     ]
    },
    {
     "name": "stderr",
     "output_type": "stream",
     "text": [
      "INFO:drizzlepac.imgclasses:Computing initial guess for X and Y shifts...\n"
     ]
    },
    {
     "name": "stdout",
     "output_type": "stream",
     "text": [
      "Computing initial guess for X and Y shifts...\n"
     ]
    },
    {
     "name": "stderr",
     "output_type": "stream",
     "text": [
      "INFO:drizzlepac.imgclasses:Found initial X and Y shifts of 0.4563, 0.4452 with significance of 535.9 and 628 matches\n"
     ]
    },
    {
     "name": "stdout",
     "output_type": "stream",
     "text": [
      "Found initial X and Y shifts of 0.4563, 0.4452 with significance of 535.9 and 628 matches\n"
     ]
    },
    {
     "name": "stderr",
     "output_type": "stream",
     "text": [
      "INFO:drizzlepac.imgclasses:Found 601 matches for ick902neq_flt.fits...\n"
     ]
    },
    {
     "name": "stdout",
     "output_type": "stream",
     "text": [
      "Found 601 matches for ick902neq_flt.fits...\n"
     ]
    },
    {
     "name": "stderr",
     "output_type": "stream",
     "text": [
      "INFO:drizzlepac.linearfit:Performing \"rscale\" fit\n",
      "INFO:drizzlepac.linearfit:Performing \"rscale\" fit\n",
      "INFO:drizzlepac.linearfit:Performing \"rscale\" fit\n",
      "INFO:drizzlepac.linearfit:Performing \"rscale\" fit\n",
      "INFO:drizzlepac.imgclasses:Computed  rscale  fit for  ick902neq_flt.fits : \n"
     ]
    },
    {
     "name": "stdout",
     "output_type": "stream",
     "text": [
      "Computed  rscale  fit for  ick902neq_flt.fits : \n"
     ]
    },
    {
     "name": "stderr",
     "output_type": "stream",
     "text": [
      "INFO:drizzlepac.imgclasses:XSH: -0.2431  YSH: 0.2057    ROT: 359.998917    SCALE: 0.999528\n"
     ]
    },
    {
     "name": "stdout",
     "output_type": "stream",
     "text": [
      "XSH: -0.2431  YSH: 0.2057    ROT: 359.998917    SCALE: 0.999528\n"
     ]
    },
    {
     "name": "stderr",
     "output_type": "stream",
     "text": [
      "INFO:drizzlepac.imgclasses:FIT XRMS: 0.00067    FIT YRMS: 0.0006 \n"
     ]
    },
    {
     "name": "stdout",
     "output_type": "stream",
     "text": [
      "FIT XRMS: 0.00067    FIT YRMS: 0.0006 \n"
     ]
    },
    {
     "name": "stderr",
     "output_type": "stream",
     "text": [
      "INFO:drizzlepac.imgclasses:FIT RMSE: 0.0009     FIT MAE: 0.00084\n"
     ]
    },
    {
     "name": "stdout",
     "output_type": "stream",
     "text": [
      "FIT RMSE: 0.0009     FIT MAE: 0.00084\n"
     ]
    },
    {
     "name": "stderr",
     "output_type": "stream",
     "text": [
      "INFO:drizzlepac.imgclasses:\n"
     ]
    },
    {
     "name": "stdout",
     "output_type": "stream",
     "text": [
      "\n"
     ]
    },
    {
     "name": "stderr",
     "output_type": "stream",
     "text": [
      "INFO:drizzlepac.imgclasses:RMS_RA: 3.3e-08 (deg)   RMS_DEC: 3.9e-09 (deg)\n"
     ]
    },
    {
     "name": "stdout",
     "output_type": "stream",
     "text": [
      "RMS_RA: 3.3e-08 (deg)   RMS_DEC: 3.9e-09 (deg)\n"
     ]
    },
    {
     "name": "stderr",
     "output_type": "stream",
     "text": [
      "INFO:drizzlepac.imgclasses:\n"
     ]
    },
    {
     "name": "stdout",
     "output_type": "stream",
     "text": [
      "\n"
     ]
    },
    {
     "name": "stderr",
     "output_type": "stream",
     "text": [
      "INFO:drizzlepac.imgclasses:Final solution based on  601  objects.\n"
     ]
    },
    {
     "name": "stdout",
     "output_type": "stream",
     "text": [
      "Final solution based on  601  objects.\n"
     ]
    },
    {
     "name": "stderr",
     "output_type": "stream",
     "text": [
      "INFO:drizzlepac.imgclasses:Creating catalog for the fit: ick902neq_flt_catalog_fit.match\n",
      "INFO:drizzlepac.tweakutils:wrote XY data to:  ick902neq_flt_catalog_fit.match\n"
     ]
    },
    {
     "name": "stdout",
     "output_type": "stream",
     "text": [
      "wrote XY data to:  ick902neq_flt_catalog_fit.match\n"
     ]
    },
    {
     "name": "stderr",
     "output_type": "stream",
     "text": [
      "INFO:drizzlepac.tweakutils:Total # points: 601\n"
     ]
    },
    {
     "name": "stdout",
     "output_type": "stream",
     "text": [
      "Total # points: 601\n"
     ]
    },
    {
     "name": "stderr",
     "output_type": "stream",
     "text": [
      "INFO:drizzlepac.tweakutils:# of points after clipping: 601\n"
     ]
    },
    {
     "name": "stdout",
     "output_type": "stream",
     "text": [
      "# of points after clipping: 601\n"
     ]
    },
    {
     "name": "stderr",
     "output_type": "stream",
     "text": [
      "INFO:drizzlepac.tweakutils:Total # points: 601\n"
     ]
    },
    {
     "name": "stdout",
     "output_type": "stream",
     "text": [
      "Total # points: 601\n"
     ]
    },
    {
     "name": "stderr",
     "output_type": "stream",
     "text": [
      "INFO:drizzlepac.tweakutils:# of points after clipping: 601\n"
     ]
    },
    {
     "name": "stdout",
     "output_type": "stream",
     "text": [
      "# of points after clipping: 601\n"
     ]
    },
    {
     "name": "stderr",
     "output_type": "stream",
     "text": [
      "INFO:drizzlepac.imgclasses:Adding 1 new sources to the reference catalog for a total of 603 sources.\n"
     ]
    },
    {
     "name": "stdout",
     "output_type": "stream",
     "text": [
      "Adding 1 new sources to the reference catalog for a total of 603 sources.\n"
     ]
    },
    {
     "name": "stderr",
     "output_type": "stream",
     "text": [
      "INFO:drizzlepac.updatehdr:\n"
     ]
    },
    {
     "name": "stdout",
     "output_type": "stream",
     "text": [
      "\n"
     ]
    },
    {
     "name": "stderr",
     "output_type": "stream",
     "text": [
      "INFO:drizzlepac.updatehdr:....Updating header for 'ick902neq_flt.fits' ...\n"
     ]
    },
    {
     "name": "stdout",
     "output_type": "stream",
     "text": [
      "....Updating header for 'ick902neq_flt.fits' ...\n"
     ]
    },
    {
     "name": "stderr",
     "output_type": "stream",
     "text": [
      "INFO:drizzlepac.updatehdr:\n"
     ]
    },
    {
     "name": "stdout",
     "output_type": "stream",
     "text": [
      "\n"
     ]
    },
    {
     "name": "stderr",
     "output_type": "stream",
     "text": [
      "INFO:drizzlepac.updatehdr:\n"
     ]
    },
    {
     "name": "stdout",
     "output_type": "stream",
     "text": [
      "\n"
     ]
    },
    {
     "name": "stderr",
     "output_type": "stream",
     "text": [
      "INFO:drizzlepac.updatehdr:Processing ick902neq_flt.fits['SCI',1]\n"
     ]
    },
    {
     "name": "stdout",
     "output_type": "stream",
     "text": [
      "Processing ick902neq_flt.fits['SCI',1]\n"
     ]
    },
    {
     "name": "stderr",
     "output_type": "stream",
     "text": [
      "INFO:drizzlepac.updatehdr:\n"
     ]
    },
    {
     "name": "stdout",
     "output_type": "stream",
     "text": [
      "\n"
     ]
    },
    {
     "name": "stderr",
     "output_type": "stream",
     "text": [
      "INFO:drizzlepac.updatehdr:Updating header for ick902neq_flt.fits[1]\n"
     ]
    },
    {
     "name": "stdout",
     "output_type": "stream",
     "text": [
      "Updating header for ick902neq_flt.fits[1]\n"
     ]
    },
    {
     "name": "stderr",
     "output_type": "stream",
     "text": [
      "INFO:drizzlepac.updatehdr:    with WCS of\n",
      "INFO:stwcs.wcsutil.hstwcs:WCS Keywords\n"
     ]
    },
    {
     "name": "stdout",
     "output_type": "stream",
     "text": [
      "WCS Keywords\n"
     ]
    },
    {
     "name": "stderr",
     "output_type": "stream",
     "text": [
      "INFO:stwcs.wcsutil.hstwcs:\n"
     ]
    },
    {
     "name": "stdout",
     "output_type": "stream",
     "text": [
      "\n"
     ]
    },
    {
     "name": "stderr",
     "output_type": "stream",
     "text": [
      "INFO:stwcs.wcsutil.hstwcs:CD_11  CD_12: -3.076101075736376e-05 -1.9449199587636616e-05\n"
     ]
    },
    {
     "name": "stdout",
     "output_type": "stream",
     "text": [
      "CD_11  CD_12: -3.076101075736376e-05 -1.9449199587636616e-05\n"
     ]
    },
    {
     "name": "stderr",
     "output_type": "stream",
     "text": [
      "INFO:stwcs.wcsutil.hstwcs:CD_21  CD_22: -2.1673829127999243e-05 2.7411388774370328e-05\n"
     ]
    },
    {
     "name": "stdout",
     "output_type": "stream",
     "text": [
      "CD_21  CD_22: -2.1673829127999243e-05 2.7411388774370328e-05\n"
     ]
    },
    {
     "name": "stderr",
     "output_type": "stream",
     "text": [
      "INFO:stwcs.wcsutil.hstwcs:CRVAL    : 274.72317303779994 -13.813735864077275\n"
     ]
    },
    {
     "name": "stdout",
     "output_type": "stream",
     "text": [
      "CRVAL    : 274.72317303779994 -13.813735864077275\n"
     ]
    },
    {
     "name": "stderr",
     "output_type": "stream",
     "text": [
      "INFO:stwcs.wcsutil.hstwcs:CRPIX    : 507.0 507.0\n"
     ]
    },
    {
     "name": "stdout",
     "output_type": "stream",
     "text": [
      "CRPIX    : 507.0 507.0\n"
     ]
    },
    {
     "name": "stderr",
     "output_type": "stream",
     "text": [
      "INFO:stwcs.wcsutil.hstwcs:NAXIS    : 1014 1014\n"
     ]
    },
    {
     "name": "stdout",
     "output_type": "stream",
     "text": [
      "NAXIS    : 1014 1014\n"
     ]
    },
    {
     "name": "stderr",
     "output_type": "stream",
     "text": [
      "INFO:stwcs.wcsutil.hstwcs:Plate Scale : 0.13540302127009443\n"
     ]
    },
    {
     "name": "stdout",
     "output_type": "stream",
     "text": [
      "Plate Scale : 0.13540302127009443\n"
     ]
    },
    {
     "name": "stderr",
     "output_type": "stream",
     "text": [
      "INFO:stwcs.wcsutil.hstwcs:ORIENTAT : -35.35683983551735\n"
     ]
    },
    {
     "name": "stdout",
     "output_type": "stream",
     "text": [
      "ORIENTAT : -35.35683983551735\n"
     ]
    },
    {
     "name": "stderr",
     "output_type": "stream",
     "text": [
      "INFO:drizzlepac.updatehdr:WCSNAME  :  IR_FLT\n"
     ]
    },
    {
     "name": "stdout",
     "output_type": "stream",
     "text": [
      "WCSNAME  :  IR_FLT\n"
     ]
    },
    {
     "name": "stderr",
     "output_type": "stream",
     "text": [
      "INFO:drizzlepac.imgclasses:Updating WCSCORR table with new WCS solution \"IR_FLT\"\n",
      "INFO:drizzlepac.tweakreg:\n"
     ]
    },
    {
     "name": "stdout",
     "output_type": "stream",
     "text": [
      "\n"
     ]
    },
    {
     "name": "stderr",
     "output_type": "stream",
     "text": [
      "INFO:drizzlepac.tweakreg:====================\n"
     ]
    },
    {
     "name": "stdout",
     "output_type": "stream",
     "text": [
      "====================\n"
     ]
    },
    {
     "name": "stderr",
     "output_type": "stream",
     "text": [
      "INFO:drizzlepac.tweakreg:Performing fit for: hst_13926_02_wfc3_ir_f160w_ick902n9_flt.fits\n"
     ]
    },
    {
     "name": "stdout",
     "output_type": "stream",
     "text": [
      "Performing fit for: hst_13926_02_wfc3_ir_f160w_ick902n9_flt.fits\n"
     ]
    },
    {
     "name": "stderr",
     "output_type": "stream",
     "text": [
      "INFO:drizzlepac.tweakreg:\n"
     ]
    },
    {
     "name": "stdout",
     "output_type": "stream",
     "text": [
      "\n"
     ]
    },
    {
     "name": "stderr",
     "output_type": "stream",
     "text": [
      "INFO:drizzlepac.imgclasses:Matching sources from 'hst_13926_02_wfc3_ir_f160w_ick902n9_flt.fits' with sources from reference image 'hst_13926_02_wfc3_ir_f160w_ick902ne_flt.fits'\n"
     ]
    },
    {
     "name": "stdout",
     "output_type": "stream",
     "text": [
      "Matching sources from 'hst_13926_02_wfc3_ir_f160w_ick902n9_flt.fits' with sources from reference image 'hst_13926_02_wfc3_ir_f160w_ick902ne_flt.fits'\n"
     ]
    },
    {
     "name": "stderr",
     "output_type": "stream",
     "text": [
      "INFO:drizzlepac.imgclasses:Computing initial guess for X and Y shifts...\n"
     ]
    },
    {
     "name": "stdout",
     "output_type": "stream",
     "text": [
      "Computing initial guess for X and Y shifts...\n"
     ]
    },
    {
     "name": "stderr",
     "output_type": "stream",
     "text": [
      "INFO:drizzlepac.imgclasses:Found initial X and Y shifts of 0.5052, 0.4027 with significance of 450 and 525 matches\n"
     ]
    },
    {
     "name": "stdout",
     "output_type": "stream",
     "text": [
      "Found initial X and Y shifts of 0.5052, 0.4027 with significance of 450 and 525 matches\n"
     ]
    },
    {
     "name": "stderr",
     "output_type": "stream",
     "text": [
      "INFO:drizzlepac.imgclasses:Found 498 matches for hst_13926_02_wfc3_ir_f160w_ick902n9_flt.fits...\n"
     ]
    },
    {
     "name": "stdout",
     "output_type": "stream",
     "text": [
      "Found 498 matches for hst_13926_02_wfc3_ir_f160w_ick902n9_flt.fits...\n"
     ]
    },
    {
     "name": "stderr",
     "output_type": "stream",
     "text": [
      "INFO:drizzlepac.linearfit:Performing \"rscale\" fit\n",
      "INFO:drizzlepac.linearfit:Performing \"rscale\" fit\n",
      "INFO:drizzlepac.linearfit:Performing \"rscale\" fit\n",
      "INFO:drizzlepac.linearfit:Performing \"rscale\" fit\n",
      "INFO:drizzlepac.imgclasses:Computed  rscale  fit for  hst_13926_02_wfc3_ir_f160w_ick902n9_flt.fits : \n"
     ]
    },
    {
     "name": "stdout",
     "output_type": "stream",
     "text": [
      "Computed  rscale  fit for  hst_13926_02_wfc3_ir_f160w_ick902n9_flt.fits : \n"
     ]
    },
    {
     "name": "stderr",
     "output_type": "stream",
     "text": [
      "INFO:drizzlepac.imgclasses:XSH: -0.0021  YSH: 0.0095    ROT: 0.00033942293    SCALE: 0.999989\n"
     ]
    },
    {
     "name": "stdout",
     "output_type": "stream",
     "text": [
      "XSH: -0.0021  YSH: 0.0095    ROT: 0.00033942293    SCALE: 0.999989\n"
     ]
    },
    {
     "name": "stderr",
     "output_type": "stream",
     "text": [
      "INFO:drizzlepac.imgclasses:FIT XRMS: 0.062      FIT YRMS: 0.045  \n"
     ]
    },
    {
     "name": "stdout",
     "output_type": "stream",
     "text": [
      "FIT XRMS: 0.062      FIT YRMS: 0.045  \n"
     ]
    },
    {
     "name": "stderr",
     "output_type": "stream",
     "text": [
      "INFO:drizzlepac.imgclasses:FIT RMSE: 0.077      FIT MAE: 0.067  \n"
     ]
    },
    {
     "name": "stdout",
     "output_type": "stream",
     "text": [
      "FIT RMSE: 0.077      FIT MAE: 0.067  \n"
     ]
    },
    {
     "name": "stderr",
     "output_type": "stream",
     "text": [
      "INFO:drizzlepac.imgclasses:\n"
     ]
    },
    {
     "name": "stdout",
     "output_type": "stream",
     "text": [
      "\n"
     ]
    },
    {
     "name": "stderr",
     "output_type": "stream",
     "text": [
      "INFO:drizzlepac.imgclasses:RMS_RA: 2.8e-06 (deg)   RMS_DEC: 4.3e-08 (deg)\n"
     ]
    },
    {
     "name": "stdout",
     "output_type": "stream",
     "text": [
      "RMS_RA: 2.8e-06 (deg)   RMS_DEC: 4.3e-08 (deg)\n"
     ]
    },
    {
     "name": "stderr",
     "output_type": "stream",
     "text": [
      "INFO:drizzlepac.imgclasses:\n"
     ]
    },
    {
     "name": "stdout",
     "output_type": "stream",
     "text": [
      "\n"
     ]
    },
    {
     "name": "stderr",
     "output_type": "stream",
     "text": [
      "INFO:drizzlepac.imgclasses:Final solution based on  484  objects.\n"
     ]
    },
    {
     "name": "stdout",
     "output_type": "stream",
     "text": [
      "Final solution based on  484  objects.\n"
     ]
    },
    {
     "name": "stderr",
     "output_type": "stream",
     "text": [
      "INFO:drizzlepac.imgclasses:Creating catalog for the fit: hst_13926_02_wfc3_ir_f160w_ick902n9_flt_catalog_fit.match\n",
      "INFO:drizzlepac.tweakutils:wrote XY data to:  hst_13926_02_wfc3_ir_f160w_ick902n9_flt_catalog_fit.match\n"
     ]
    },
    {
     "name": "stdout",
     "output_type": "stream",
     "text": [
      "wrote XY data to:  hst_13926_02_wfc3_ir_f160w_ick902n9_flt_catalog_fit.match\n"
     ]
    },
    {
     "name": "stderr",
     "output_type": "stream",
     "text": [
      "INFO:drizzlepac.tweakutils:Total # points: 484\n"
     ]
    },
    {
     "name": "stdout",
     "output_type": "stream",
     "text": [
      "Total # points: 484\n"
     ]
    },
    {
     "name": "stderr",
     "output_type": "stream",
     "text": [
      "INFO:drizzlepac.tweakutils:# of points after clipping: 484\n"
     ]
    },
    {
     "name": "stdout",
     "output_type": "stream",
     "text": [
      "# of points after clipping: 484\n"
     ]
    },
    {
     "name": "stderr",
     "output_type": "stream",
     "text": [
      "INFO:drizzlepac.tweakutils:Total # points: 484\n"
     ]
    },
    {
     "name": "stdout",
     "output_type": "stream",
     "text": [
      "Total # points: 484\n"
     ]
    },
    {
     "name": "stderr",
     "output_type": "stream",
     "text": [
      "INFO:drizzlepac.tweakutils:# of points after clipping: 484\n"
     ]
    },
    {
     "name": "stdout",
     "output_type": "stream",
     "text": [
      "# of points after clipping: 484\n"
     ]
    },
    {
     "name": "stderr",
     "output_type": "stream",
     "text": [
      "INFO:drizzlepac.imgclasses:Adding 79 new sources to the reference catalog for a total of 682 sources.\n"
     ]
    },
    {
     "name": "stdout",
     "output_type": "stream",
     "text": [
      "Adding 79 new sources to the reference catalog for a total of 682 sources.\n"
     ]
    },
    {
     "name": "stderr",
     "output_type": "stream",
     "text": [
      "INFO:drizzlepac.updatehdr:\n"
     ]
    },
    {
     "name": "stdout",
     "output_type": "stream",
     "text": [
      "\n"
     ]
    },
    {
     "name": "stderr",
     "output_type": "stream",
     "text": [
      "INFO:drizzlepac.updatehdr:....Updating header for 'hst_13926_02_wfc3_ir_f160w_ick902n9_flt.fits' ...\n"
     ]
    },
    {
     "name": "stdout",
     "output_type": "stream",
     "text": [
      "....Updating header for 'hst_13926_02_wfc3_ir_f160w_ick902n9_flt.fits' ...\n"
     ]
    },
    {
     "name": "stderr",
     "output_type": "stream",
     "text": [
      "INFO:drizzlepac.updatehdr:\n"
     ]
    },
    {
     "name": "stdout",
     "output_type": "stream",
     "text": [
      "\n"
     ]
    },
    {
     "name": "stderr",
     "output_type": "stream",
     "text": [
      "INFO:drizzlepac.updatehdr:\n"
     ]
    },
    {
     "name": "stdout",
     "output_type": "stream",
     "text": [
      "\n"
     ]
    },
    {
     "name": "stderr",
     "output_type": "stream",
     "text": [
      "INFO:drizzlepac.updatehdr:Processing hst_13926_02_wfc3_ir_f160w_ick902n9_flt.fits['SCI',1]\n"
     ]
    },
    {
     "name": "stdout",
     "output_type": "stream",
     "text": [
      "Processing hst_13926_02_wfc3_ir_f160w_ick902n9_flt.fits['SCI',1]\n"
     ]
    },
    {
     "name": "stderr",
     "output_type": "stream",
     "text": [
      "INFO:drizzlepac.updatehdr:\n"
     ]
    },
    {
     "name": "stdout",
     "output_type": "stream",
     "text": [
      "\n"
     ]
    },
    {
     "name": "stderr",
     "output_type": "stream",
     "text": [
      "INFO:drizzlepac.updatehdr:Updating header for hst_13926_02_wfc3_ir_f160w_ick902n9_flt.fits[1]\n"
     ]
    },
    {
     "name": "stdout",
     "output_type": "stream",
     "text": [
      "Updating header for hst_13926_02_wfc3_ir_f160w_ick902n9_flt.fits[1]\n"
     ]
    },
    {
     "name": "stderr",
     "output_type": "stream",
     "text": [
      "INFO:drizzlepac.updatehdr:    with WCS of\n",
      "INFO:stwcs.wcsutil.hstwcs:WCS Keywords\n"
     ]
    },
    {
     "name": "stdout",
     "output_type": "stream",
     "text": [
      "WCS Keywords\n"
     ]
    },
    {
     "name": "stderr",
     "output_type": "stream",
     "text": [
      "INFO:stwcs.wcsutil.hstwcs:\n"
     ]
    },
    {
     "name": "stdout",
     "output_type": "stream",
     "text": [
      "\n"
     ]
    },
    {
     "name": "stderr",
     "output_type": "stream",
     "text": [
      "INFO:stwcs.wcsutil.hstwcs:CD_11  CD_12: -3.0761958745010546e-05 -1.944992029182213e-05\n"
     ]
    },
    {
     "name": "stdout",
     "output_type": "stream",
     "text": [
      "CD_11  CD_12: -3.0761958745010546e-05 -1.944992029182213e-05\n"
     ]
    },
    {
     "name": "stderr",
     "output_type": "stream",
     "text": [
      "INFO:stwcs.wcsutil.hstwcs:CD_21  CD_22: -2.1674408894151e-05 2.7412100411413926e-05\n"
     ]
    },
    {
     "name": "stdout",
     "output_type": "stream",
     "text": [
      "CD_21  CD_22: -2.1674408894151e-05 2.7412100411413926e-05\n"
     ]
    },
    {
     "name": "stderr",
     "output_type": "stream",
     "text": [
      "INFO:stwcs.wcsutil.hstwcs:CRVAL    : 274.72198443942904 -13.812105303381836\n"
     ]
    },
    {
     "name": "stdout",
     "output_type": "stream",
     "text": [
      "CRVAL    : 274.72198443942904 -13.812105303381836\n"
     ]
    },
    {
     "name": "stderr",
     "output_type": "stream",
     "text": [
      "INFO:stwcs.wcsutil.hstwcs:CRPIX    : 507.0 507.0\n"
     ]
    },
    {
     "name": "stdout",
     "output_type": "stream",
     "text": [
      "CRPIX    : 507.0 507.0\n"
     ]
    },
    {
     "name": "stderr",
     "output_type": "stream",
     "text": [
      "INFO:stwcs.wcsutil.hstwcs:NAXIS    : 1014 1014\n"
     ]
    },
    {
     "name": "stdout",
     "output_type": "stream",
     "text": [
      "NAXIS    : 1014 1014\n"
     ]
    },
    {
     "name": "stderr",
     "output_type": "stream",
     "text": [
      "INFO:stwcs.wcsutil.hstwcs:Plate Scale : 0.13546941921501443\n"
     ]
    },
    {
     "name": "stdout",
     "output_type": "stream",
     "text": [
      "Plate Scale : 0.13546941921501443\n"
     ]
    },
    {
     "name": "stderr",
     "output_type": "stream",
     "text": [
      "INFO:stwcs.wcsutil.hstwcs:ORIENTAT : -35.3571398199625\n"
     ]
    },
    {
     "name": "stdout",
     "output_type": "stream",
     "text": [
      "ORIENTAT : -35.3571398199625\n"
     ]
    },
    {
     "name": "stderr",
     "output_type": "stream",
     "text": [
      "INFO:drizzlepac.updatehdr:WCSNAME  :  IR_FLT\n"
     ]
    },
    {
     "name": "stdout",
     "output_type": "stream",
     "text": [
      "WCSNAME  :  IR_FLT\n"
     ]
    },
    {
     "name": "stderr",
     "output_type": "stream",
     "text": [
      "INFO:drizzlepac.imgclasses:Updating WCSCORR table with new WCS solution \"IR_FLT\"\n",
      "INFO:drizzlepac.tweakreg:\n"
     ]
    },
    {
     "name": "stdout",
     "output_type": "stream",
     "text": [
      "\n"
     ]
    },
    {
     "name": "stderr",
     "output_type": "stream",
     "text": [
      "INFO:drizzlepac.tweakreg:====================\n"
     ]
    },
    {
     "name": "stdout",
     "output_type": "stream",
     "text": [
      "====================\n"
     ]
    },
    {
     "name": "stderr",
     "output_type": "stream",
     "text": [
      "INFO:drizzlepac.tweakreg:Performing fit for: ick902n9q_flt.fits\n"
     ]
    },
    {
     "name": "stdout",
     "output_type": "stream",
     "text": [
      "Performing fit for: ick902n9q_flt.fits\n"
     ]
    },
    {
     "name": "stderr",
     "output_type": "stream",
     "text": [
      "INFO:drizzlepac.tweakreg:\n"
     ]
    },
    {
     "name": "stdout",
     "output_type": "stream",
     "text": [
      "\n"
     ]
    },
    {
     "name": "stderr",
     "output_type": "stream",
     "text": [
      "INFO:drizzlepac.imgclasses:Matching sources from 'ick902n9q_flt.fits' with sources from reference image 'hst_13926_02_wfc3_ir_f160w_ick902ne_flt.fits'\n"
     ]
    },
    {
     "name": "stdout",
     "output_type": "stream",
     "text": [
      "Matching sources from 'ick902n9q_flt.fits' with sources from reference image 'hst_13926_02_wfc3_ir_f160w_ick902ne_flt.fits'\n"
     ]
    },
    {
     "name": "stderr",
     "output_type": "stream",
     "text": [
      "INFO:drizzlepac.imgclasses:Computing initial guess for X and Y shifts...\n"
     ]
    },
    {
     "name": "stdout",
     "output_type": "stream",
     "text": [
      "Computing initial guess for X and Y shifts...\n"
     ]
    },
    {
     "name": "stderr",
     "output_type": "stream",
     "text": [
      "INFO:drizzlepac.imgclasses:Found initial X and Y shifts of 0.4451, 0.527 with significance of 507.2 and 609 matches\n"
     ]
    },
    {
     "name": "stdout",
     "output_type": "stream",
     "text": [
      "Found initial X and Y shifts of 0.4451, 0.527 with significance of 507.2 and 609 matches\n"
     ]
    },
    {
     "name": "stderr",
     "output_type": "stream",
     "text": [
      "INFO:drizzlepac.imgclasses:Found 551 matches for ick902n9q_flt.fits...\n"
     ]
    },
    {
     "name": "stdout",
     "output_type": "stream",
     "text": [
      "Found 551 matches for ick902n9q_flt.fits...\n"
     ]
    },
    {
     "name": "stderr",
     "output_type": "stream",
     "text": [
      "INFO:drizzlepac.linearfit:Performing \"rscale\" fit\n",
      "INFO:drizzlepac.linearfit:Performing \"rscale\" fit\n",
      "INFO:drizzlepac.linearfit:Performing \"rscale\" fit\n",
      "INFO:drizzlepac.linearfit:Performing \"rscale\" fit\n",
      "INFO:drizzlepac.imgclasses:Computed  rscale  fit for  ick902n9q_flt.fits : \n"
     ]
    },
    {
     "name": "stdout",
     "output_type": "stream",
     "text": [
      "Computed  rscale  fit for  ick902n9q_flt.fits : \n"
     ]
    },
    {
     "name": "stderr",
     "output_type": "stream",
     "text": [
      "INFO:drizzlepac.imgclasses:XSH: -0.2582  YSH: 0.2175    ROT: 359.9989871    SCALE: 0.999531\n"
     ]
    },
    {
     "name": "stdout",
     "output_type": "stream",
     "text": [
      "XSH: -0.2582  YSH: 0.2175    ROT: 359.9989871    SCALE: 0.999531\n"
     ]
    },
    {
     "name": "stderr",
     "output_type": "stream",
     "text": [
      "INFO:drizzlepac.imgclasses:FIT XRMS: 0.057      FIT YRMS: 0.04   \n"
     ]
    },
    {
     "name": "stdout",
     "output_type": "stream",
     "text": [
      "FIT XRMS: 0.057      FIT YRMS: 0.04   \n"
     ]
    },
    {
     "name": "stderr",
     "output_type": "stream",
     "text": [
      "INFO:drizzlepac.imgclasses:FIT RMSE: 0.07       FIT MAE: 0.059  \n"
     ]
    },
    {
     "name": "stdout",
     "output_type": "stream",
     "text": [
      "FIT RMSE: 0.07       FIT MAE: 0.059  \n"
     ]
    },
    {
     "name": "stderr",
     "output_type": "stream",
     "text": [
      "INFO:drizzlepac.imgclasses:\n"
     ]
    },
    {
     "name": "stdout",
     "output_type": "stream",
     "text": [
      "\n"
     ]
    },
    {
     "name": "stderr",
     "output_type": "stream",
     "text": [
      "INFO:drizzlepac.imgclasses:RMS_RA: 2.6e-06 (deg)   RMS_DEC: 2e-08 (deg)\n"
     ]
    },
    {
     "name": "stdout",
     "output_type": "stream",
     "text": [
      "RMS_RA: 2.6e-06 (deg)   RMS_DEC: 2e-08 (deg)\n"
     ]
    },
    {
     "name": "stderr",
     "output_type": "stream",
     "text": [
      "INFO:drizzlepac.imgclasses:\n"
     ]
    },
    {
     "name": "stdout",
     "output_type": "stream",
     "text": [
      "\n"
     ]
    },
    {
     "name": "stderr",
     "output_type": "stream",
     "text": [
      "INFO:drizzlepac.imgclasses:Final solution based on  535  objects.\n"
     ]
    },
    {
     "name": "stdout",
     "output_type": "stream",
     "text": [
      "Final solution based on  535  objects.\n"
     ]
    },
    {
     "name": "stderr",
     "output_type": "stream",
     "text": [
      "INFO:drizzlepac.imgclasses:Creating catalog for the fit: ick902n9q_flt_catalog_fit.match\n",
      "INFO:drizzlepac.tweakutils:wrote XY data to:  ick902n9q_flt_catalog_fit.match\n"
     ]
    },
    {
     "name": "stdout",
     "output_type": "stream",
     "text": [
      "wrote XY data to:  ick902n9q_flt_catalog_fit.match\n"
     ]
    },
    {
     "name": "stderr",
     "output_type": "stream",
     "text": [
      "INFO:drizzlepac.tweakutils:Total # points: 535\n"
     ]
    },
    {
     "name": "stdout",
     "output_type": "stream",
     "text": [
      "Total # points: 535\n"
     ]
    },
    {
     "name": "stderr",
     "output_type": "stream",
     "text": [
      "INFO:drizzlepac.tweakutils:# of points after clipping: 535\n"
     ]
    },
    {
     "name": "stdout",
     "output_type": "stream",
     "text": [
      "# of points after clipping: 535\n"
     ]
    },
    {
     "name": "stderr",
     "output_type": "stream",
     "text": [
      "INFO:drizzlepac.tweakutils:Total # points: 535\n"
     ]
    },
    {
     "name": "stdout",
     "output_type": "stream",
     "text": [
      "Total # points: 535\n"
     ]
    },
    {
     "name": "stderr",
     "output_type": "stream",
     "text": [
      "INFO:drizzlepac.tweakutils:# of points after clipping: 535\n"
     ]
    },
    {
     "name": "stdout",
     "output_type": "stream",
     "text": [
      "# of points after clipping: 535\n"
     ]
    },
    {
     "name": "stderr",
     "output_type": "stream",
     "text": [
      "INFO:drizzlepac.imgclasses:Adding 26 new sources to the reference catalog for a total of 710 sources.\n"
     ]
    },
    {
     "name": "stdout",
     "output_type": "stream",
     "text": [
      "Adding 26 new sources to the reference catalog for a total of 710 sources.\n"
     ]
    },
    {
     "name": "stderr",
     "output_type": "stream",
     "text": [
      "INFO:drizzlepac.updatehdr:\n"
     ]
    },
    {
     "name": "stdout",
     "output_type": "stream",
     "text": [
      "\n"
     ]
    },
    {
     "name": "stderr",
     "output_type": "stream",
     "text": [
      "INFO:drizzlepac.updatehdr:....Updating header for 'ick902n9q_flt.fits' ...\n"
     ]
    },
    {
     "name": "stdout",
     "output_type": "stream",
     "text": [
      "....Updating header for 'ick902n9q_flt.fits' ...\n"
     ]
    },
    {
     "name": "stderr",
     "output_type": "stream",
     "text": [
      "INFO:drizzlepac.updatehdr:\n"
     ]
    },
    {
     "name": "stdout",
     "output_type": "stream",
     "text": [
      "\n"
     ]
    },
    {
     "name": "stderr",
     "output_type": "stream",
     "text": [
      "INFO:drizzlepac.updatehdr:\n"
     ]
    },
    {
     "name": "stdout",
     "output_type": "stream",
     "text": [
      "\n"
     ]
    },
    {
     "name": "stderr",
     "output_type": "stream",
     "text": [
      "INFO:drizzlepac.updatehdr:Processing ick902n9q_flt.fits['SCI',1]\n"
     ]
    },
    {
     "name": "stdout",
     "output_type": "stream",
     "text": [
      "Processing ick902n9q_flt.fits['SCI',1]\n"
     ]
    },
    {
     "name": "stderr",
     "output_type": "stream",
     "text": [
      "INFO:drizzlepac.updatehdr:\n"
     ]
    },
    {
     "name": "stdout",
     "output_type": "stream",
     "text": [
      "\n"
     ]
    },
    {
     "name": "stderr",
     "output_type": "stream",
     "text": [
      "INFO:drizzlepac.updatehdr:Updating header for ick902n9q_flt.fits[1]\n"
     ]
    },
    {
     "name": "stdout",
     "output_type": "stream",
     "text": [
      "Updating header for ick902n9q_flt.fits[1]\n"
     ]
    },
    {
     "name": "stderr",
     "output_type": "stream",
     "text": [
      "INFO:drizzlepac.updatehdr:    with WCS of\n",
      "INFO:stwcs.wcsutil.hstwcs:WCS Keywords\n"
     ]
    },
    {
     "name": "stdout",
     "output_type": "stream",
     "text": [
      "WCS Keywords\n"
     ]
    },
    {
     "name": "stderr",
     "output_type": "stream",
     "text": [
      "INFO:stwcs.wcsutil.hstwcs:\n"
     ]
    },
    {
     "name": "stdout",
     "output_type": "stream",
     "text": [
      "\n"
     ]
    },
    {
     "name": "stderr",
     "output_type": "stream",
     "text": [
      "INFO:stwcs.wcsutil.hstwcs:CD_11  CD_12: -3.076151946398945e-05 -1.944954513589586e-05\n"
     ]
    },
    {
     "name": "stdout",
     "output_type": "stream",
     "text": [
      "CD_11  CD_12: -3.076151946398945e-05 -1.944954513589586e-05\n"
     ]
    },
    {
     "name": "stderr",
     "output_type": "stream",
     "text": [
      "INFO:stwcs.wcsutil.hstwcs:CD_21  CD_22: -2.167416616139623e-05 2.7411813480700674e-05\n"
     ]
    },
    {
     "name": "stdout",
     "output_type": "stream",
     "text": [
      "CD_21  CD_22: -2.167416616139623e-05 2.7411813480700674e-05\n"
     ]
    },
    {
     "name": "stderr",
     "output_type": "stream",
     "text": [
      "INFO:stwcs.wcsutil.hstwcs:CRVAL    : 274.7219845196444 -13.812105343113926\n"
     ]
    },
    {
     "name": "stdout",
     "output_type": "stream",
     "text": [
      "CRVAL    : 274.7219845196444 -13.812105343113926\n"
     ]
    },
    {
     "name": "stderr",
     "output_type": "stream",
     "text": [
      "INFO:stwcs.wcsutil.hstwcs:CRPIX    : 507.0 507.0\n"
     ]
    },
    {
     "name": "stdout",
     "output_type": "stream",
     "text": [
      "CRPIX    : 507.0 507.0\n"
     ]
    },
    {
     "name": "stderr",
     "output_type": "stream",
     "text": [
      "INFO:stwcs.wcsutil.hstwcs:NAXIS    : 1014 1014\n"
     ]
    },
    {
     "name": "stdout",
     "output_type": "stream",
     "text": [
      "NAXIS    : 1014 1014\n"
     ]
    },
    {
     "name": "stderr",
     "output_type": "stream",
     "text": [
      "INFO:stwcs.wcsutil.hstwcs:Plate Scale : 0.13540553150163298\n"
     ]
    },
    {
     "name": "stdout",
     "output_type": "stream",
     "text": [
      "Plate Scale : 0.13540553150163298\n"
     ]
    },
    {
     "name": "stderr",
     "output_type": "stream",
     "text": [
      "INFO:stwcs.wcsutil.hstwcs:ORIENTAT : -35.35690129458154\n"
     ]
    },
    {
     "name": "stdout",
     "output_type": "stream",
     "text": [
      "ORIENTAT : -35.35690129458154\n"
     ]
    },
    {
     "name": "stderr",
     "output_type": "stream",
     "text": [
      "INFO:drizzlepac.updatehdr:WCSNAME  :  IR_FLT\n"
     ]
    },
    {
     "name": "stdout",
     "output_type": "stream",
     "text": [
      "WCSNAME  :  IR_FLT\n"
     ]
    },
    {
     "name": "stderr",
     "output_type": "stream",
     "text": [
      "INFO:drizzlepac.imgclasses:Updating WCSCORR table with new WCS solution \"IR_FLT\"\n",
      "INFO:drizzlepac.tweakreg:\n"
     ]
    },
    {
     "name": "stdout",
     "output_type": "stream",
     "text": [
      "\n"
     ]
    },
    {
     "name": "stderr",
     "output_type": "stream",
     "text": [
      "INFO:drizzlepac.tweakreg:====================\n"
     ]
    },
    {
     "name": "stdout",
     "output_type": "stream",
     "text": [
      "====================\n"
     ]
    },
    {
     "name": "stderr",
     "output_type": "stream",
     "text": [
      "INFO:drizzlepac.tweakreg:Performing fit for: hst_13926_04_wfc3_ir_f160w_ick904ob_flt.fits\n"
     ]
    },
    {
     "name": "stdout",
     "output_type": "stream",
     "text": [
      "Performing fit for: hst_13926_04_wfc3_ir_f160w_ick904ob_flt.fits\n"
     ]
    },
    {
     "name": "stderr",
     "output_type": "stream",
     "text": [
      "INFO:drizzlepac.tweakreg:\n"
     ]
    },
    {
     "name": "stdout",
     "output_type": "stream",
     "text": [
      "\n"
     ]
    },
    {
     "name": "stderr",
     "output_type": "stream",
     "text": [
      "INFO:drizzlepac.imgclasses:Matching sources from 'hst_13926_04_wfc3_ir_f160w_ick904ob_flt.fits' with sources from reference image 'hst_13926_02_wfc3_ir_f160w_ick902ne_flt.fits'\n"
     ]
    },
    {
     "name": "stdout",
     "output_type": "stream",
     "text": [
      "Matching sources from 'hst_13926_04_wfc3_ir_f160w_ick904ob_flt.fits' with sources from reference image 'hst_13926_02_wfc3_ir_f160w_ick902ne_flt.fits'\n"
     ]
    },
    {
     "name": "stderr",
     "output_type": "stream",
     "text": [
      "INFO:drizzlepac.imgclasses:Computing initial guess for X and Y shifts...\n"
     ]
    },
    {
     "name": "stdout",
     "output_type": "stream",
     "text": [
      "Computing initial guess for X and Y shifts...\n"
     ]
    },
    {
     "name": "stderr",
     "output_type": "stream",
     "text": [
      "INFO:drizzlepac.imgclasses:Found initial X and Y shifts of 0.4055, 0.4204 with significance of 66 and 67 matches\n"
     ]
    },
    {
     "name": "stdout",
     "output_type": "stream",
     "text": [
      "Found initial X and Y shifts of 0.4055, 0.4204 with significance of 66 and 67 matches\n"
     ]
    },
    {
     "name": "stderr",
     "output_type": "stream",
     "text": [
      "INFO:drizzlepac.imgclasses:Found 67 matches for hst_13926_04_wfc3_ir_f160w_ick904ob_flt.fits...\n"
     ]
    },
    {
     "name": "stdout",
     "output_type": "stream",
     "text": [
      "Found 67 matches for hst_13926_04_wfc3_ir_f160w_ick904ob_flt.fits...\n"
     ]
    },
    {
     "name": "stderr",
     "output_type": "stream",
     "text": [
      "INFO:drizzlepac.linearfit:Performing \"rscale\" fit\n",
      "INFO:drizzlepac.linearfit:Performing \"rscale\" fit\n",
      "INFO:drizzlepac.linearfit:Performing \"rscale\" fit\n",
      "INFO:drizzlepac.linearfit:Performing \"rscale\" fit\n",
      "INFO:drizzlepac.imgclasses:Computed  rscale  fit for  hst_13926_04_wfc3_ir_f160w_ick904ob_flt.fits : \n"
     ]
    },
    {
     "name": "stdout",
     "output_type": "stream",
     "text": [
      "Computed  rscale  fit for  hst_13926_04_wfc3_ir_f160w_ick904ob_flt.fits : \n"
     ]
    },
    {
     "name": "stderr",
     "output_type": "stream",
     "text": [
      "INFO:drizzlepac.imgclasses:XSH: -0.2651  YSH: 0.3127    ROT: 359.9963092    SCALE: 0.999348\n"
     ]
    },
    {
     "name": "stdout",
     "output_type": "stream",
     "text": [
      "XSH: -0.2651  YSH: 0.3127    ROT: 359.9963092    SCALE: 0.999348\n"
     ]
    },
    {
     "name": "stderr",
     "output_type": "stream",
     "text": [
      "INFO:drizzlepac.imgclasses:FIT XRMS: 0.049      FIT YRMS: 0.044  \n"
     ]
    },
    {
     "name": "stdout",
     "output_type": "stream",
     "text": [
      "FIT XRMS: 0.049      FIT YRMS: 0.044  \n"
     ]
    },
    {
     "name": "stderr",
     "output_type": "stream",
     "text": [
      "INFO:drizzlepac.imgclasses:FIT RMSE: 0.066      FIT MAE: 0.058  \n"
     ]
    },
    {
     "name": "stdout",
     "output_type": "stream",
     "text": [
      "FIT RMSE: 0.066      FIT MAE: 0.058  \n"
     ]
    },
    {
     "name": "stderr",
     "output_type": "stream",
     "text": [
      "INFO:drizzlepac.imgclasses:\n"
     ]
    },
    {
     "name": "stdout",
     "output_type": "stream",
     "text": [
      "\n"
     ]
    },
    {
     "name": "stderr",
     "output_type": "stream",
     "text": [
      "INFO:drizzlepac.imgclasses:RMS_RA: 2.4e-06 (deg)   RMS_DEC: 2.7e-07 (deg)\n"
     ]
    },
    {
     "name": "stdout",
     "output_type": "stream",
     "text": [
      "RMS_RA: 2.4e-06 (deg)   RMS_DEC: 2.7e-07 (deg)\n"
     ]
    },
    {
     "name": "stderr",
     "output_type": "stream",
     "text": [
      "INFO:drizzlepac.imgclasses:\n"
     ]
    },
    {
     "name": "stdout",
     "output_type": "stream",
     "text": [
      "\n"
     ]
    },
    {
     "name": "stderr",
     "output_type": "stream",
     "text": [
      "INFO:drizzlepac.imgclasses:Final solution based on  63  objects.\n"
     ]
    },
    {
     "name": "stdout",
     "output_type": "stream",
     "text": [
      "Final solution based on  63  objects.\n"
     ]
    },
    {
     "name": "stderr",
     "output_type": "stream",
     "text": [
      "INFO:drizzlepac.imgclasses:Creating catalog for the fit: hst_13926_04_wfc3_ir_f160w_ick904ob_flt_catalog_fit.match\n",
      "INFO:drizzlepac.tweakutils:wrote XY data to:  hst_13926_04_wfc3_ir_f160w_ick904ob_flt_catalog_fit.match\n"
     ]
    },
    {
     "name": "stdout",
     "output_type": "stream",
     "text": [
      "wrote XY data to:  hst_13926_04_wfc3_ir_f160w_ick904ob_flt_catalog_fit.match\n"
     ]
    },
    {
     "name": "stderr",
     "output_type": "stream",
     "text": [
      "INFO:drizzlepac.tweakutils:Total # points: 63\n"
     ]
    },
    {
     "name": "stdout",
     "output_type": "stream",
     "text": [
      "Total # points: 63\n"
     ]
    },
    {
     "name": "stderr",
     "output_type": "stream",
     "text": [
      "INFO:drizzlepac.tweakutils:# of points after clipping: 63\n"
     ]
    },
    {
     "name": "stdout",
     "output_type": "stream",
     "text": [
      "# of points after clipping: 63\n"
     ]
    },
    {
     "name": "stderr",
     "output_type": "stream",
     "text": [
      "INFO:drizzlepac.tweakutils:Total # points: 63\n"
     ]
    },
    {
     "name": "stdout",
     "output_type": "stream",
     "text": [
      "Total # points: 63\n"
     ]
    },
    {
     "name": "stderr",
     "output_type": "stream",
     "text": [
      "INFO:drizzlepac.tweakutils:# of points after clipping: 63\n"
     ]
    },
    {
     "name": "stdout",
     "output_type": "stream",
     "text": [
      "# of points after clipping: 63\n"
     ]
    },
    {
     "name": "stderr",
     "output_type": "stream",
     "text": [
      "INFO:drizzlepac.imgclasses:Adding 410 new sources to the reference catalog for a total of 1122 sources.\n"
     ]
    },
    {
     "name": "stdout",
     "output_type": "stream",
     "text": [
      "Adding 410 new sources to the reference catalog for a total of 1122 sources.\n"
     ]
    },
    {
     "name": "stderr",
     "output_type": "stream",
     "text": [
      "INFO:drizzlepac.updatehdr:\n"
     ]
    },
    {
     "name": "stdout",
     "output_type": "stream",
     "text": [
      "\n"
     ]
    },
    {
     "name": "stderr",
     "output_type": "stream",
     "text": [
      "INFO:drizzlepac.updatehdr:....Updating header for 'hst_13926_04_wfc3_ir_f160w_ick904ob_flt.fits' ...\n"
     ]
    },
    {
     "name": "stdout",
     "output_type": "stream",
     "text": [
      "....Updating header for 'hst_13926_04_wfc3_ir_f160w_ick904ob_flt.fits' ...\n"
     ]
    },
    {
     "name": "stderr",
     "output_type": "stream",
     "text": [
      "INFO:drizzlepac.updatehdr:\n"
     ]
    },
    {
     "name": "stdout",
     "output_type": "stream",
     "text": [
      "\n"
     ]
    },
    {
     "name": "stderr",
     "output_type": "stream",
     "text": [
      "INFO:drizzlepac.updatehdr:\n"
     ]
    },
    {
     "name": "stdout",
     "output_type": "stream",
     "text": [
      "\n"
     ]
    },
    {
     "name": "stderr",
     "output_type": "stream",
     "text": [
      "INFO:drizzlepac.updatehdr:Processing hst_13926_04_wfc3_ir_f160w_ick904ob_flt.fits['SCI',1]\n"
     ]
    },
    {
     "name": "stdout",
     "output_type": "stream",
     "text": [
      "Processing hst_13926_04_wfc3_ir_f160w_ick904ob_flt.fits['SCI',1]\n"
     ]
    },
    {
     "name": "stderr",
     "output_type": "stream",
     "text": [
      "INFO:drizzlepac.updatehdr:\n"
     ]
    },
    {
     "name": "stdout",
     "output_type": "stream",
     "text": [
      "\n"
     ]
    },
    {
     "name": "stderr",
     "output_type": "stream",
     "text": [
      "INFO:drizzlepac.updatehdr:Updating header for hst_13926_04_wfc3_ir_f160w_ick904ob_flt.fits[1]\n"
     ]
    },
    {
     "name": "stdout",
     "output_type": "stream",
     "text": [
      "Updating header for hst_13926_04_wfc3_ir_f160w_ick904ob_flt.fits[1]\n"
     ]
    },
    {
     "name": "stderr",
     "output_type": "stream",
     "text": [
      "INFO:drizzlepac.updatehdr:    with WCS of\n",
      "INFO:stwcs.wcsutil.hstwcs:WCS Keywords\n"
     ]
    },
    {
     "name": "stdout",
     "output_type": "stream",
     "text": [
      "WCS Keywords\n"
     ]
    },
    {
     "name": "stderr",
     "output_type": "stream",
     "text": [
      "INFO:stwcs.wcsutil.hstwcs:\n"
     ]
    },
    {
     "name": "stdout",
     "output_type": "stream",
     "text": [
      "\n"
     ]
    },
    {
     "name": "stderr",
     "output_type": "stream",
     "text": [
      "INFO:stwcs.wcsutil.hstwcs:CD_11  CD_12: -3.0761775993965766e-05 -1.9454676853784382e-05\n"
     ]
    },
    {
     "name": "stdout",
     "output_type": "stream",
     "text": [
      "CD_11  CD_12: -3.0761775993965766e-05 -1.9454676853784382e-05\n"
     ]
    },
    {
     "name": "stderr",
     "output_type": "stream",
     "text": [
      "INFO:stwcs.wcsutil.hstwcs:CD_21  CD_22: -2.1679938335901184e-05 2.741204235328446e-05\n"
     ]
    },
    {
     "name": "stdout",
     "output_type": "stream",
     "text": [
      "CD_21  CD_22: -2.1679938335901184e-05 2.741204235328446e-05\n"
     ]
    },
    {
     "name": "stderr",
     "output_type": "stream",
     "text": [
      "INFO:stwcs.wcsutil.hstwcs:CRVAL    : 274.74080693631385 -13.838430234330625\n"
     ]
    },
    {
     "name": "stdout",
     "output_type": "stream",
     "text": [
      "CRVAL    : 274.74080693631385 -13.838430234330625\n"
     ]
    },
    {
     "name": "stderr",
     "output_type": "stream",
     "text": [
      "INFO:stwcs.wcsutil.hstwcs:CRPIX    : 507.0 507.0\n"
     ]
    },
    {
     "name": "stdout",
     "output_type": "stream",
     "text": [
      "CRPIX    : 507.0 507.0\n"
     ]
    },
    {
     "name": "stderr",
     "output_type": "stream",
     "text": [
      "INFO:stwcs.wcsutil.hstwcs:NAXIS    : 1014 1014\n"
     ]
    },
    {
     "name": "stdout",
     "output_type": "stream",
     "text": [
      "NAXIS    : 1014 1014\n"
     ]
    },
    {
     "name": "stderr",
     "output_type": "stream",
     "text": [
      "INFO:stwcs.wcsutil.hstwcs:Plate Scale : 0.13539355255414426\n"
     ]
    },
    {
     "name": "stdout",
     "output_type": "stream",
     "text": [
      "Plate Scale : 0.13539355255414426\n"
     ]
    },
    {
     "name": "stderr",
     "output_type": "stream",
     "text": [
      "INFO:stwcs.wcsutil.hstwcs:ORIENTAT : -35.36380936716212\n"
     ]
    },
    {
     "name": "stdout",
     "output_type": "stream",
     "text": [
      "ORIENTAT : -35.36380936716212\n"
     ]
    },
    {
     "name": "stderr",
     "output_type": "stream",
     "text": [
      "INFO:drizzlepac.updatehdr:WCSNAME  :  IR_FLT\n"
     ]
    },
    {
     "name": "stdout",
     "output_type": "stream",
     "text": [
      "WCSNAME  :  IR_FLT\n"
     ]
    },
    {
     "name": "stderr",
     "output_type": "stream",
     "text": [
      "INFO:drizzlepac.imgclasses:Updating WCSCORR table with new WCS solution \"IR_FLT\"\n",
      "INFO:drizzlepac.tweakreg:\n"
     ]
    },
    {
     "name": "stdout",
     "output_type": "stream",
     "text": [
      "\n"
     ]
    },
    {
     "name": "stderr",
     "output_type": "stream",
     "text": [
      "INFO:drizzlepac.tweakreg:====================\n"
     ]
    },
    {
     "name": "stdout",
     "output_type": "stream",
     "text": [
      "====================\n"
     ]
    },
    {
     "name": "stderr",
     "output_type": "stream",
     "text": [
      "INFO:drizzlepac.tweakreg:Performing fit for: ick904obq_flt.fits\n"
     ]
    },
    {
     "name": "stdout",
     "output_type": "stream",
     "text": [
      "Performing fit for: ick904obq_flt.fits\n"
     ]
    },
    {
     "name": "stderr",
     "output_type": "stream",
     "text": [
      "INFO:drizzlepac.tweakreg:\n"
     ]
    },
    {
     "name": "stdout",
     "output_type": "stream",
     "text": [
      "\n"
     ]
    },
    {
     "name": "stderr",
     "output_type": "stream",
     "text": [
      "INFO:drizzlepac.imgclasses:Matching sources from 'ick904obq_flt.fits' with sources from reference image 'hst_13926_02_wfc3_ir_f160w_ick902ne_flt.fits'\n"
     ]
    },
    {
     "name": "stdout",
     "output_type": "stream",
     "text": [
      "Matching sources from 'ick904obq_flt.fits' with sources from reference image 'hst_13926_02_wfc3_ir_f160w_ick902ne_flt.fits'\n"
     ]
    },
    {
     "name": "stderr",
     "output_type": "stream",
     "text": [
      "INFO:drizzlepac.imgclasses:Computing initial guess for X and Y shifts...\n"
     ]
    },
    {
     "name": "stdout",
     "output_type": "stream",
     "text": [
      "Computing initial guess for X and Y shifts...\n"
     ]
    },
    {
     "name": "stderr",
     "output_type": "stream",
     "text": [
      "INFO:drizzlepac.imgclasses:Found initial X and Y shifts of -0.5933, 0.306 with significance of 261.5 and 481 matches\n"
     ]
    },
    {
     "name": "stdout",
     "output_type": "stream",
     "text": [
      "Found initial X and Y shifts of -0.5933, 0.306 with significance of 261.5 and 481 matches\n"
     ]
    },
    {
     "name": "stderr",
     "output_type": "stream",
     "text": [
      "INFO:drizzlepac.imgclasses:Found 477 matches for ick904obq_flt.fits...\n"
     ]
    },
    {
     "name": "stdout",
     "output_type": "stream",
     "text": [
      "Found 477 matches for ick904obq_flt.fits...\n"
     ]
    },
    {
     "name": "stderr",
     "output_type": "stream",
     "text": [
      "INFO:drizzlepac.linearfit:Performing \"rscale\" fit\n",
      "INFO:drizzlepac.linearfit:Performing \"rscale\" fit\n",
      "INFO:drizzlepac.linearfit:Performing \"rscale\" fit\n",
      "INFO:drizzlepac.linearfit:Performing \"rscale\" fit\n",
      "INFO:drizzlepac.imgclasses:Computed  rscale  fit for  ick904obq_flt.fits : \n"
     ]
    },
    {
     "name": "stdout",
     "output_type": "stream",
     "text": [
      "Computed  rscale  fit for  ick904obq_flt.fits : \n"
     ]
    },
    {
     "name": "stderr",
     "output_type": "stream",
     "text": [
      "INFO:drizzlepac.imgclasses:XSH: -0.3770  YSH: 0.2163    ROT: 359.9986164    SCALE: 1.000734\n"
     ]
    },
    {
     "name": "stdout",
     "output_type": "stream",
     "text": [
      "XSH: -0.3770  YSH: 0.2163    ROT: 359.9986164    SCALE: 1.000734\n"
     ]
    },
    {
     "name": "stderr",
     "output_type": "stream",
     "text": [
      "INFO:drizzlepac.imgclasses:FIT XRMS: 0.015      FIT YRMS: 0.0048 \n"
     ]
    },
    {
     "name": "stdout",
     "output_type": "stream",
     "text": [
      "FIT XRMS: 0.015      FIT YRMS: 0.0048 \n"
     ]
    },
    {
     "name": "stderr",
     "output_type": "stream",
     "text": [
      "INFO:drizzlepac.imgclasses:FIT RMSE: 0.016      FIT MAE: 0.005  \n"
     ]
    },
    {
     "name": "stdout",
     "output_type": "stream",
     "text": [
      "FIT RMSE: 0.016      FIT MAE: 0.005  \n"
     ]
    },
    {
     "name": "stderr",
     "output_type": "stream",
     "text": [
      "INFO:drizzlepac.imgclasses:\n"
     ]
    },
    {
     "name": "stdout",
     "output_type": "stream",
     "text": [
      "\n"
     ]
    },
    {
     "name": "stderr",
     "output_type": "stream",
     "text": [
      "INFO:drizzlepac.imgclasses:RMS_RA: 5.6e-07 (deg)   RMS_DEC: 1.7e-07 (deg)\n"
     ]
    },
    {
     "name": "stdout",
     "output_type": "stream",
     "text": [
      "RMS_RA: 5.6e-07 (deg)   RMS_DEC: 1.7e-07 (deg)\n"
     ]
    },
    {
     "name": "stderr",
     "output_type": "stream",
     "text": [
      "INFO:drizzlepac.imgclasses:\n"
     ]
    },
    {
     "name": "stdout",
     "output_type": "stream",
     "text": [
      "\n"
     ]
    },
    {
     "name": "stderr",
     "output_type": "stream",
     "text": [
      "INFO:drizzlepac.imgclasses:Final solution based on  419  objects.\n"
     ]
    },
    {
     "name": "stdout",
     "output_type": "stream",
     "text": [
      "Final solution based on  419  objects.\n"
     ]
    },
    {
     "name": "stderr",
     "output_type": "stream",
     "text": [
      "INFO:drizzlepac.imgclasses:Creating catalog for the fit: ick904obq_flt_catalog_fit.match\n",
      "INFO:drizzlepac.tweakutils:wrote XY data to:  ick904obq_flt_catalog_fit.match\n"
     ]
    },
    {
     "name": "stdout",
     "output_type": "stream",
     "text": [
      "wrote XY data to:  ick904obq_flt_catalog_fit.match\n"
     ]
    },
    {
     "name": "stderr",
     "output_type": "stream",
     "text": [
      "INFO:drizzlepac.tweakutils:Total # points: 419\n"
     ]
    },
    {
     "name": "stdout",
     "output_type": "stream",
     "text": [
      "Total # points: 419\n"
     ]
    },
    {
     "name": "stderr",
     "output_type": "stream",
     "text": [
      "INFO:drizzlepac.tweakutils:# of points after clipping: 419\n"
     ]
    },
    {
     "name": "stdout",
     "output_type": "stream",
     "text": [
      "# of points after clipping: 419\n"
     ]
    },
    {
     "name": "stderr",
     "output_type": "stream",
     "text": [
      "INFO:drizzlepac.tweakutils:Total # points: 419\n"
     ]
    },
    {
     "name": "stdout",
     "output_type": "stream",
     "text": [
      "Total # points: 419\n"
     ]
    },
    {
     "name": "stderr",
     "output_type": "stream",
     "text": [
      "INFO:drizzlepac.tweakutils:# of points after clipping: 419\n"
     ]
    },
    {
     "name": "stdout",
     "output_type": "stream",
     "text": [
      "# of points after clipping: 419\n"
     ]
    },
    {
     "name": "stderr",
     "output_type": "stream",
     "text": [
      "INFO:drizzlepac.updatehdr:\n"
     ]
    },
    {
     "name": "stdout",
     "output_type": "stream",
     "text": [
      "\n"
     ]
    },
    {
     "name": "stderr",
     "output_type": "stream",
     "text": [
      "INFO:drizzlepac.updatehdr:....Updating header for 'ick904obq_flt.fits' ...\n"
     ]
    },
    {
     "name": "stdout",
     "output_type": "stream",
     "text": [
      "....Updating header for 'ick904obq_flt.fits' ...\n"
     ]
    },
    {
     "name": "stderr",
     "output_type": "stream",
     "text": [
      "INFO:drizzlepac.updatehdr:\n"
     ]
    },
    {
     "name": "stdout",
     "output_type": "stream",
     "text": [
      "\n"
     ]
    },
    {
     "name": "stderr",
     "output_type": "stream",
     "text": [
      "INFO:drizzlepac.updatehdr:\n"
     ]
    },
    {
     "name": "stdout",
     "output_type": "stream",
     "text": [
      "\n"
     ]
    },
    {
     "name": "stderr",
     "output_type": "stream",
     "text": [
      "INFO:drizzlepac.updatehdr:Processing ick904obq_flt.fits['SCI',1]\n"
     ]
    },
    {
     "name": "stdout",
     "output_type": "stream",
     "text": [
      "Processing ick904obq_flt.fits['SCI',1]\n"
     ]
    },
    {
     "name": "stderr",
     "output_type": "stream",
     "text": [
      "INFO:drizzlepac.updatehdr:\n"
     ]
    },
    {
     "name": "stdout",
     "output_type": "stream",
     "text": [
      "\n"
     ]
    },
    {
     "name": "stderr",
     "output_type": "stream",
     "text": [
      "INFO:drizzlepac.updatehdr:Updating header for ick904obq_flt.fits[1]\n"
     ]
    },
    {
     "name": "stdout",
     "output_type": "stream",
     "text": [
      "Updating header for ick904obq_flt.fits[1]\n"
     ]
    },
    {
     "name": "stderr",
     "output_type": "stream",
     "text": [
      "INFO:drizzlepac.updatehdr:    with WCS of\n",
      "INFO:stwcs.wcsutil.hstwcs:WCS Keywords\n"
     ]
    },
    {
     "name": "stdout",
     "output_type": "stream",
     "text": [
      "WCS Keywords\n"
     ]
    },
    {
     "name": "stderr",
     "output_type": "stream",
     "text": [
      "INFO:stwcs.wcsutil.hstwcs:\n"
     ]
    },
    {
     "name": "stdout",
     "output_type": "stream",
     "text": [
      "\n"
     ]
    },
    {
     "name": "stderr",
     "output_type": "stream",
     "text": [
      "INFO:stwcs.wcsutil.hstwcs:CD_11  CD_12: -3.0721744420506554e-05 -1.9429240828700318e-05\n"
     ]
    },
    {
     "name": "stdout",
     "output_type": "stream",
     "text": [
      "CD_11  CD_12: -3.0721744420506554e-05 -1.9429240828700318e-05\n"
     ]
    },
    {
     "name": "stderr",
     "output_type": "stream",
     "text": [
      "INFO:stwcs.wcsutil.hstwcs:CD_21  CD_22: -2.16513390752786e-05 2.7376219988822725e-05\n"
     ]
    },
    {
     "name": "stdout",
     "output_type": "stream",
     "text": [
      "CD_21  CD_22: -2.16513390752786e-05 2.7376219988822725e-05\n"
     ]
    },
    {
     "name": "stderr",
     "output_type": "stream",
     "text": [
      "INFO:stwcs.wcsutil.hstwcs:CRVAL    : 274.74077615445685 -13.8384269040406\n"
     ]
    },
    {
     "name": "stdout",
     "output_type": "stream",
     "text": [
      "CRVAL    : 274.74077615445685 -13.8384269040406\n"
     ]
    },
    {
     "name": "stderr",
     "output_type": "stream",
     "text": [
      "INFO:stwcs.wcsutil.hstwcs:CRPIX    : 507.0 507.0\n"
     ]
    },
    {
     "name": "stdout",
     "output_type": "stream",
     "text": [
      "CRPIX    : 507.0 507.0\n"
     ]
    },
    {
     "name": "stderr",
     "output_type": "stream",
     "text": [
      "INFO:stwcs.wcsutil.hstwcs:NAXIS    : 1014 1014\n"
     ]
    },
    {
     "name": "stdout",
     "output_type": "stream",
     "text": [
      "NAXIS    : 1014 1014\n"
     ]
    },
    {
     "name": "stderr",
     "output_type": "stream",
     "text": [
      "INFO:stwcs.wcsutil.hstwcs:Plate Scale : 0.13540409882643004\n"
     ]
    },
    {
     "name": "stdout",
     "output_type": "stream",
     "text": [
      "Plate Scale : 0.13540409882643004\n"
     ]
    },
    {
     "name": "stderr",
     "output_type": "stream",
     "text": [
      "INFO:stwcs.wcsutil.hstwcs:ORIENTAT : -35.36379205941952\n"
     ]
    },
    {
     "name": "stdout",
     "output_type": "stream",
     "text": [
      "ORIENTAT : -35.36379205941952\n"
     ]
    },
    {
     "name": "stderr",
     "output_type": "stream",
     "text": [
      "INFO:drizzlepac.updatehdr:WCSNAME  :  IR_FLT\n"
     ]
    },
    {
     "name": "stdout",
     "output_type": "stream",
     "text": [
      "WCSNAME  :  IR_FLT\n"
     ]
    },
    {
     "name": "stderr",
     "output_type": "stream",
     "text": [
      "INFO:drizzlepac.imgclasses:Updating WCSCORR table with new WCS solution \"IR_FLT\"\n",
      "INFO:drizzlepac.tweakreg:\n"
     ]
    },
    {
     "name": "stdout",
     "output_type": "stream",
     "text": [
      "\n"
     ]
    },
    {
     "name": "stderr",
     "output_type": "stream",
     "text": [
      "INFO:drizzlepac.tweakreg:====================\n"
     ]
    },
    {
     "name": "stdout",
     "output_type": "stream",
     "text": [
      "====================\n"
     ]
    },
    {
     "name": "stderr",
     "output_type": "stream",
     "text": [
      "INFO:drizzlepac.tweakreg:Performing fit for: hst_13926_04_wfc3_ir_f160w_ick904og_flt.fits\n"
     ]
    },
    {
     "name": "stdout",
     "output_type": "stream",
     "text": [
      "Performing fit for: hst_13926_04_wfc3_ir_f160w_ick904og_flt.fits\n"
     ]
    },
    {
     "name": "stderr",
     "output_type": "stream",
     "text": [
      "INFO:drizzlepac.tweakreg:\n"
     ]
    },
    {
     "name": "stdout",
     "output_type": "stream",
     "text": [
      "\n"
     ]
    },
    {
     "name": "stderr",
     "output_type": "stream",
     "text": [
      "INFO:drizzlepac.imgclasses:Matching sources from 'hst_13926_04_wfc3_ir_f160w_ick904og_flt.fits' with sources from reference image 'hst_13926_02_wfc3_ir_f160w_ick902ne_flt.fits'\n"
     ]
    },
    {
     "name": "stdout",
     "output_type": "stream",
     "text": [
      "Matching sources from 'hst_13926_04_wfc3_ir_f160w_ick904og_flt.fits' with sources from reference image 'hst_13926_02_wfc3_ir_f160w_ick902ne_flt.fits'\n"
     ]
    },
    {
     "name": "stderr",
     "output_type": "stream",
     "text": [
      "INFO:drizzlepac.imgclasses:Computing initial guess for X and Y shifts...\n"
     ]
    },
    {
     "name": "stdout",
     "output_type": "stream",
     "text": [
      "Computing initial guess for X and Y shifts...\n"
     ]
    },
    {
     "name": "stderr",
     "output_type": "stream",
     "text": [
      "INFO:drizzlepac.imgclasses:Found initial X and Y shifts of -0.5945, 0.4055 with significance of 149.5 and 405 matches\n"
     ]
    },
    {
     "name": "stdout",
     "output_type": "stream",
     "text": [
      "Found initial X and Y shifts of -0.5945, 0.4055 with significance of 149.5 and 405 matches\n"
     ]
    },
    {
     "name": "stderr",
     "output_type": "stream",
     "text": [
      "INFO:drizzlepac.imgclasses:Found 398 matches for hst_13926_04_wfc3_ir_f160w_ick904og_flt.fits...\n"
     ]
    },
    {
     "name": "stdout",
     "output_type": "stream",
     "text": [
      "Found 398 matches for hst_13926_04_wfc3_ir_f160w_ick904og_flt.fits...\n"
     ]
    },
    {
     "name": "stderr",
     "output_type": "stream",
     "text": [
      "INFO:drizzlepac.linearfit:Performing \"rscale\" fit\n",
      "INFO:drizzlepac.linearfit:Performing \"rscale\" fit\n",
      "INFO:drizzlepac.linearfit:Performing \"rscale\" fit\n",
      "INFO:drizzlepac.linearfit:Performing \"rscale\" fit\n",
      "INFO:drizzlepac.imgclasses:Computed  rscale  fit for  hst_13926_04_wfc3_ir_f160w_ick904og_flt.fits : \n"
     ]
    },
    {
     "name": "stdout",
     "output_type": "stream",
     "text": [
      "Computed  rscale  fit for  hst_13926_04_wfc3_ir_f160w_ick904og_flt.fits : \n"
     ]
    },
    {
     "name": "stderr",
     "output_type": "stream",
     "text": [
      "INFO:drizzlepac.imgclasses:XSH: -0.2684  YSH: 0.2884    ROT: 359.994464    SCALE: 1.000607\n"
     ]
    },
    {
     "name": "stdout",
     "output_type": "stream",
     "text": [
      "XSH: -0.2684  YSH: 0.2884    ROT: 359.994464    SCALE: 1.000607\n"
     ]
    },
    {
     "name": "stderr",
     "output_type": "stream",
     "text": [
      "INFO:drizzlepac.imgclasses:FIT XRMS: 0.06       FIT YRMS: 0.043  \n"
     ]
    },
    {
     "name": "stdout",
     "output_type": "stream",
     "text": [
      "FIT XRMS: 0.06       FIT YRMS: 0.043  \n"
     ]
    },
    {
     "name": "stderr",
     "output_type": "stream",
     "text": [
      "INFO:drizzlepac.imgclasses:FIT RMSE: 0.074      FIT MAE: 0.065  \n"
     ]
    },
    {
     "name": "stdout",
     "output_type": "stream",
     "text": [
      "FIT RMSE: 0.074      FIT MAE: 0.065  \n"
     ]
    },
    {
     "name": "stderr",
     "output_type": "stream",
     "text": [
      "INFO:drizzlepac.imgclasses:\n"
     ]
    },
    {
     "name": "stdout",
     "output_type": "stream",
     "text": [
      "\n"
     ]
    },
    {
     "name": "stderr",
     "output_type": "stream",
     "text": [
      "INFO:drizzlepac.imgclasses:RMS_RA: 2.7e-06 (deg)   RMS_DEC: 4.2e-08 (deg)\n"
     ]
    },
    {
     "name": "stdout",
     "output_type": "stream",
     "text": [
      "RMS_RA: 2.7e-06 (deg)   RMS_DEC: 4.2e-08 (deg)\n"
     ]
    },
    {
     "name": "stderr",
     "output_type": "stream",
     "text": [
      "INFO:drizzlepac.imgclasses:\n"
     ]
    },
    {
     "name": "stdout",
     "output_type": "stream",
     "text": [
      "\n"
     ]
    },
    {
     "name": "stderr",
     "output_type": "stream",
     "text": [
      "INFO:drizzlepac.imgclasses:Final solution based on  366  objects.\n"
     ]
    },
    {
     "name": "stdout",
     "output_type": "stream",
     "text": [
      "Final solution based on  366  objects.\n"
     ]
    },
    {
     "name": "stderr",
     "output_type": "stream",
     "text": [
      "INFO:drizzlepac.imgclasses:Creating catalog for the fit: hst_13926_04_wfc3_ir_f160w_ick904og_flt_catalog_fit.match\n",
      "INFO:drizzlepac.tweakutils:wrote XY data to:  hst_13926_04_wfc3_ir_f160w_ick904og_flt_catalog_fit.match\n"
     ]
    },
    {
     "name": "stdout",
     "output_type": "stream",
     "text": [
      "wrote XY data to:  hst_13926_04_wfc3_ir_f160w_ick904og_flt_catalog_fit.match\n"
     ]
    },
    {
     "name": "stderr",
     "output_type": "stream",
     "text": [
      "INFO:drizzlepac.tweakutils:Total # points: 366\n"
     ]
    },
    {
     "name": "stdout",
     "output_type": "stream",
     "text": [
      "Total # points: 366\n"
     ]
    },
    {
     "name": "stderr",
     "output_type": "stream",
     "text": [
      "INFO:drizzlepac.tweakutils:# of points after clipping: 366\n"
     ]
    },
    {
     "name": "stdout",
     "output_type": "stream",
     "text": [
      "# of points after clipping: 366\n"
     ]
    },
    {
     "name": "stderr",
     "output_type": "stream",
     "text": [
      "INFO:drizzlepac.tweakutils:Total # points: 366\n"
     ]
    },
    {
     "name": "stdout",
     "output_type": "stream",
     "text": [
      "Total # points: 366\n"
     ]
    },
    {
     "name": "stderr",
     "output_type": "stream",
     "text": [
      "INFO:drizzlepac.tweakutils:# of points after clipping: 366\n"
     ]
    },
    {
     "name": "stdout",
     "output_type": "stream",
     "text": [
      "# of points after clipping: 366\n"
     ]
    },
    {
     "name": "stderr",
     "output_type": "stream",
     "text": [
      "INFO:drizzlepac.imgclasses:Adding 47 new sources to the reference catalog for a total of 1169 sources.\n"
     ]
    },
    {
     "name": "stdout",
     "output_type": "stream",
     "text": [
      "Adding 47 new sources to the reference catalog for a total of 1169 sources.\n"
     ]
    },
    {
     "name": "stderr",
     "output_type": "stream",
     "text": [
      "INFO:drizzlepac.updatehdr:\n"
     ]
    },
    {
     "name": "stdout",
     "output_type": "stream",
     "text": [
      "\n"
     ]
    },
    {
     "name": "stderr",
     "output_type": "stream",
     "text": [
      "INFO:drizzlepac.updatehdr:....Updating header for 'hst_13926_04_wfc3_ir_f160w_ick904og_flt.fits' ...\n"
     ]
    },
    {
     "name": "stdout",
     "output_type": "stream",
     "text": [
      "....Updating header for 'hst_13926_04_wfc3_ir_f160w_ick904og_flt.fits' ...\n"
     ]
    },
    {
     "name": "stderr",
     "output_type": "stream",
     "text": [
      "INFO:drizzlepac.updatehdr:\n"
     ]
    },
    {
     "name": "stdout",
     "output_type": "stream",
     "text": [
      "\n"
     ]
    },
    {
     "name": "stderr",
     "output_type": "stream",
     "text": [
      "INFO:drizzlepac.updatehdr:\n"
     ]
    },
    {
     "name": "stdout",
     "output_type": "stream",
     "text": [
      "\n"
     ]
    },
    {
     "name": "stderr",
     "output_type": "stream",
     "text": [
      "INFO:drizzlepac.updatehdr:Processing hst_13926_04_wfc3_ir_f160w_ick904og_flt.fits['SCI',1]\n"
     ]
    },
    {
     "name": "stdout",
     "output_type": "stream",
     "text": [
      "Processing hst_13926_04_wfc3_ir_f160w_ick904og_flt.fits['SCI',1]\n"
     ]
    },
    {
     "name": "stderr",
     "output_type": "stream",
     "text": [
      "INFO:drizzlepac.updatehdr:\n"
     ]
    },
    {
     "name": "stdout",
     "output_type": "stream",
     "text": [
      "\n"
     ]
    },
    {
     "name": "stderr",
     "output_type": "stream",
     "text": [
      "INFO:drizzlepac.updatehdr:Updating header for hst_13926_04_wfc3_ir_f160w_ick904og_flt.fits[1]\n"
     ]
    },
    {
     "name": "stdout",
     "output_type": "stream",
     "text": [
      "Updating header for hst_13926_04_wfc3_ir_f160w_ick904og_flt.fits[1]\n"
     ]
    },
    {
     "name": "stderr",
     "output_type": "stream",
     "text": [
      "INFO:drizzlepac.updatehdr:    with WCS of\n",
      "INFO:stwcs.wcsutil.hstwcs:WCS Keywords\n"
     ]
    },
    {
     "name": "stdout",
     "output_type": "stream",
     "text": [
      "WCS Keywords\n"
     ]
    },
    {
     "name": "stderr",
     "output_type": "stream",
     "text": [
      "INFO:stwcs.wcsutil.hstwcs:\n"
     ]
    },
    {
     "name": "stdout",
     "output_type": "stream",
     "text": [
      "\n"
     ]
    },
    {
     "name": "stderr",
     "output_type": "stream",
     "text": [
      "INFO:stwcs.wcsutil.hstwcs:CD_11  CD_12: -3.0720855144183354e-05 -1.9429022735999295e-05\n"
     ]
    },
    {
     "name": "stdout",
     "output_type": "stream",
     "text": [
      "CD_11  CD_12: -3.0720855144183354e-05 -1.9429022735999295e-05\n"
     ]
    },
    {
     "name": "stderr",
     "output_type": "stream",
     "text": [
      "INFO:stwcs.wcsutil.hstwcs:CD_21  CD_22: -2.165156322267398e-05 2.7375702441865404e-05\n"
     ]
    },
    {
     "name": "stdout",
     "output_type": "stream",
     "text": [
      "CD_21  CD_22: -2.165156322267398e-05 2.7375702441865404e-05\n"
     ]
    },
    {
     "name": "stderr",
     "output_type": "stream",
     "text": [
      "INFO:stwcs.wcsutil.hstwcs:CRVAL    : 274.7419630524441 -13.840055731879621\n"
     ]
    },
    {
     "name": "stdout",
     "output_type": "stream",
     "text": [
      "CRVAL    : 274.7419630524441 -13.840055731879621\n"
     ]
    },
    {
     "name": "stderr",
     "output_type": "stream",
     "text": [
      "INFO:stwcs.wcsutil.hstwcs:CRPIX    : 507.0 507.0\n"
     ]
    },
    {
     "name": "stdout",
     "output_type": "stream",
     "text": [
      "CRPIX    : 507.0 507.0\n"
     ]
    },
    {
     "name": "stderr",
     "output_type": "stream",
     "text": [
      "INFO:stwcs.wcsutil.hstwcs:NAXIS    : 1014 1014\n"
     ]
    },
    {
     "name": "stdout",
     "output_type": "stream",
     "text": [
      "NAXIS    : 1014 1014\n"
     ]
    },
    {
     "name": "stderr",
     "output_type": "stream",
     "text": [
      "INFO:stwcs.wcsutil.hstwcs:Plate Scale : 0.13538467049590805\n"
     ]
    },
    {
     "name": "stdout",
     "output_type": "stream",
     "text": [
      "Plate Scale : 0.13538467049590805\n"
     ]
    },
    {
     "name": "stderr",
     "output_type": "stream",
     "text": [
      "INFO:stwcs.wcsutil.hstwcs:ORIENTAT : -35.363999749169906\n"
     ]
    },
    {
     "name": "stdout",
     "output_type": "stream",
     "text": [
      "ORIENTAT : -35.363999749169906\n"
     ]
    },
    {
     "name": "stderr",
     "output_type": "stream",
     "text": [
      "INFO:drizzlepac.updatehdr:WCSNAME  :  IR_FLT\n"
     ]
    },
    {
     "name": "stdout",
     "output_type": "stream",
     "text": [
      "WCSNAME  :  IR_FLT\n"
     ]
    },
    {
     "name": "stderr",
     "output_type": "stream",
     "text": [
      "INFO:drizzlepac.imgclasses:Updating WCSCORR table with new WCS solution \"IR_FLT\"\n",
      "INFO:drizzlepac.tweakreg:\n"
     ]
    },
    {
     "name": "stdout",
     "output_type": "stream",
     "text": [
      "\n"
     ]
    },
    {
     "name": "stderr",
     "output_type": "stream",
     "text": [
      "INFO:drizzlepac.tweakreg:====================\n"
     ]
    },
    {
     "name": "stdout",
     "output_type": "stream",
     "text": [
      "====================\n"
     ]
    },
    {
     "name": "stderr",
     "output_type": "stream",
     "text": [
      "INFO:drizzlepac.tweakreg:Performing fit for: ick904ogq_flt.fits\n"
     ]
    },
    {
     "name": "stdout",
     "output_type": "stream",
     "text": [
      "Performing fit for: ick904ogq_flt.fits\n"
     ]
    },
    {
     "name": "stderr",
     "output_type": "stream",
     "text": [
      "INFO:drizzlepac.tweakreg:\n"
     ]
    },
    {
     "name": "stdout",
     "output_type": "stream",
     "text": [
      "\n"
     ]
    },
    {
     "name": "stderr",
     "output_type": "stream",
     "text": [
      "INFO:drizzlepac.imgclasses:Matching sources from 'ick904ogq_flt.fits' with sources from reference image 'hst_13926_02_wfc3_ir_f160w_ick902ne_flt.fits'\n"
     ]
    },
    {
     "name": "stdout",
     "output_type": "stream",
     "text": [
      "Matching sources from 'ick904ogq_flt.fits' with sources from reference image 'hst_13926_02_wfc3_ir_f160w_ick902ne_flt.fits'\n"
     ]
    },
    {
     "name": "stderr",
     "output_type": "stream",
     "text": [
      "INFO:drizzlepac.imgclasses:Computing initial guess for X and Y shifts...\n"
     ]
    },
    {
     "name": "stdout",
     "output_type": "stream",
     "text": [
      "Computing initial guess for X and Y shifts...\n"
     ]
    },
    {
     "name": "stderr",
     "output_type": "stream",
     "text": [
      "INFO:drizzlepac.imgclasses:Found initial X and Y shifts of -0.5945, 0.4055 with significance of 226.3 and 452 matches\n"
     ]
    },
    {
     "name": "stdout",
     "output_type": "stream",
     "text": [
      "Found initial X and Y shifts of -0.5945, 0.4055 with significance of 226.3 and 452 matches\n"
     ]
    },
    {
     "name": "stderr",
     "output_type": "stream",
     "text": [
      "INFO:drizzlepac.imgclasses:Found 445 matches for ick904ogq_flt.fits...\n"
     ]
    },
    {
     "name": "stdout",
     "output_type": "stream",
     "text": [
      "Found 445 matches for ick904ogq_flt.fits...\n"
     ]
    },
    {
     "name": "stderr",
     "output_type": "stream",
     "text": [
      "INFO:drizzlepac.linearfit:Performing \"rscale\" fit\n",
      "INFO:drizzlepac.linearfit:Performing \"rscale\" fit\n",
      "INFO:drizzlepac.linearfit:Performing \"rscale\" fit\n",
      "INFO:drizzlepac.linearfit:Performing \"rscale\" fit\n",
      "INFO:drizzlepac.imgclasses:Computed  rscale  fit for  ick904ogq_flt.fits : \n"
     ]
    },
    {
     "name": "stdout",
     "output_type": "stream",
     "text": [
      "Computed  rscale  fit for  ick904ogq_flt.fits : \n"
     ]
    },
    {
     "name": "stderr",
     "output_type": "stream",
     "text": [
      "INFO:drizzlepac.imgclasses:XSH: -0.3935  YSH: 0.2084    ROT: 359.9984897    SCALE: 1.000701\n"
     ]
    },
    {
     "name": "stdout",
     "output_type": "stream",
     "text": [
      "XSH: -0.3935  YSH: 0.2084    ROT: 359.9984897    SCALE: 1.000701\n"
     ]
    },
    {
     "name": "stderr",
     "output_type": "stream",
     "text": [
      "INFO:drizzlepac.imgclasses:FIT XRMS: 0.068      FIT YRMS: 0.047  \n"
     ]
    },
    {
     "name": "stdout",
     "output_type": "stream",
     "text": [
      "FIT XRMS: 0.068      FIT YRMS: 0.047  \n"
     ]
    },
    {
     "name": "stderr",
     "output_type": "stream",
     "text": [
      "INFO:drizzlepac.imgclasses:FIT RMSE: 0.083      FIT MAE: 0.07   \n"
     ]
    },
    {
     "name": "stdout",
     "output_type": "stream",
     "text": [
      "FIT RMSE: 0.083      FIT MAE: 0.07   \n"
     ]
    },
    {
     "name": "stderr",
     "output_type": "stream",
     "text": [
      "INFO:drizzlepac.imgclasses:\n"
     ]
    },
    {
     "name": "stdout",
     "output_type": "stream",
     "text": [
      "\n"
     ]
    },
    {
     "name": "stderr",
     "output_type": "stream",
     "text": [
      "INFO:drizzlepac.imgclasses:RMS_RA: 3e-06 (deg)   RMS_DEC: 3e-08 (deg)\n"
     ]
    },
    {
     "name": "stdout",
     "output_type": "stream",
     "text": [
      "RMS_RA: 3e-06 (deg)   RMS_DEC: 3e-08 (deg)\n"
     ]
    },
    {
     "name": "stderr",
     "output_type": "stream",
     "text": [
      "INFO:drizzlepac.imgclasses:\n"
     ]
    },
    {
     "name": "stdout",
     "output_type": "stream",
     "text": [
      "\n"
     ]
    },
    {
     "name": "stderr",
     "output_type": "stream",
     "text": [
      "INFO:drizzlepac.imgclasses:Final solution based on  378  objects.\n"
     ]
    },
    {
     "name": "stdout",
     "output_type": "stream",
     "text": [
      "Final solution based on  378  objects.\n"
     ]
    },
    {
     "name": "stderr",
     "output_type": "stream",
     "text": [
      "INFO:drizzlepac.imgclasses:Creating catalog for the fit: ick904ogq_flt_catalog_fit.match\n",
      "INFO:drizzlepac.tweakutils:wrote XY data to:  ick904ogq_flt_catalog_fit.match\n"
     ]
    },
    {
     "name": "stdout",
     "output_type": "stream",
     "text": [
      "wrote XY data to:  ick904ogq_flt_catalog_fit.match\n"
     ]
    },
    {
     "name": "stderr",
     "output_type": "stream",
     "text": [
      "INFO:drizzlepac.tweakutils:Total # points: 378\n"
     ]
    },
    {
     "name": "stdout",
     "output_type": "stream",
     "text": [
      "Total # points: 378\n"
     ]
    },
    {
     "name": "stderr",
     "output_type": "stream",
     "text": [
      "INFO:drizzlepac.tweakutils:# of points after clipping: 378\n"
     ]
    },
    {
     "name": "stdout",
     "output_type": "stream",
     "text": [
      "# of points after clipping: 378\n"
     ]
    },
    {
     "name": "stderr",
     "output_type": "stream",
     "text": [
      "INFO:drizzlepac.tweakutils:Total # points: 378\n"
     ]
    },
    {
     "name": "stdout",
     "output_type": "stream",
     "text": [
      "Total # points: 378\n"
     ]
    },
    {
     "name": "stderr",
     "output_type": "stream",
     "text": [
      "INFO:drizzlepac.tweakutils:# of points after clipping: 378\n"
     ]
    },
    {
     "name": "stdout",
     "output_type": "stream",
     "text": [
      "# of points after clipping: 378\n"
     ]
    },
    {
     "name": "stderr",
     "output_type": "stream",
     "text": [
      "INFO:drizzlepac.updatehdr:\n"
     ]
    },
    {
     "name": "stdout",
     "output_type": "stream",
     "text": [
      "\n"
     ]
    },
    {
     "name": "stderr",
     "output_type": "stream",
     "text": [
      "INFO:drizzlepac.updatehdr:....Updating header for 'ick904ogq_flt.fits' ...\n"
     ]
    },
    {
     "name": "stdout",
     "output_type": "stream",
     "text": [
      "....Updating header for 'ick904ogq_flt.fits' ...\n"
     ]
    },
    {
     "name": "stderr",
     "output_type": "stream",
     "text": [
      "INFO:drizzlepac.updatehdr:\n"
     ]
    },
    {
     "name": "stdout",
     "output_type": "stream",
     "text": [
      "\n"
     ]
    },
    {
     "name": "stderr",
     "output_type": "stream",
     "text": [
      "INFO:drizzlepac.updatehdr:\n"
     ]
    },
    {
     "name": "stdout",
     "output_type": "stream",
     "text": [
      "\n"
     ]
    },
    {
     "name": "stderr",
     "output_type": "stream",
     "text": [
      "INFO:drizzlepac.updatehdr:Processing ick904ogq_flt.fits['SCI',1]\n"
     ]
    },
    {
     "name": "stdout",
     "output_type": "stream",
     "text": [
      "Processing ick904ogq_flt.fits['SCI',1]\n"
     ]
    },
    {
     "name": "stderr",
     "output_type": "stream",
     "text": [
      "INFO:drizzlepac.updatehdr:\n"
     ]
    },
    {
     "name": "stdout",
     "output_type": "stream",
     "text": [
      "\n"
     ]
    },
    {
     "name": "stderr",
     "output_type": "stream",
     "text": [
      "INFO:drizzlepac.updatehdr:Updating header for ick904ogq_flt.fits[1]\n"
     ]
    },
    {
     "name": "stdout",
     "output_type": "stream",
     "text": [
      "Updating header for ick904ogq_flt.fits[1]\n"
     ]
    },
    {
     "name": "stderr",
     "output_type": "stream",
     "text": [
      "INFO:drizzlepac.updatehdr:    with WCS of\n",
      "INFO:stwcs.wcsutil.hstwcs:WCS Keywords\n"
     ]
    },
    {
     "name": "stdout",
     "output_type": "stream",
     "text": [
      "WCS Keywords\n"
     ]
    },
    {
     "name": "stderr",
     "output_type": "stream",
     "text": [
      "INFO:stwcs.wcsutil.hstwcs:\n"
     ]
    },
    {
     "name": "stdout",
     "output_type": "stream",
     "text": [
      "\n"
     ]
    },
    {
     "name": "stderr",
     "output_type": "stream",
     "text": [
      "INFO:stwcs.wcsutil.hstwcs:CD_11  CD_12: -3.072068337701219e-05 -1.9428900907476547e-05\n"
     ]
    },
    {
     "name": "stdout",
     "output_type": "stream",
     "text": [
      "CD_11  CD_12: -3.072068337701219e-05 -1.9428900907476547e-05\n"
     ]
    },
    {
     "name": "stderr",
     "output_type": "stream",
     "text": [
      "INFO:stwcs.wcsutil.hstwcs:CD_21  CD_22: -2.165095473811348e-05 2.7375269126931208e-05\n"
     ]
    },
    {
     "name": "stdout",
     "output_type": "stream",
     "text": [
      "CD_21  CD_22: -2.165095473811348e-05 2.7375269126931208e-05\n"
     ]
    },
    {
     "name": "stderr",
     "output_type": "stream",
     "text": [
      "INFO:stwcs.wcsutil.hstwcs:CRVAL    : 274.7419631200025 -13.840055681860497\n"
     ]
    },
    {
     "name": "stdout",
     "output_type": "stream",
     "text": [
      "CRVAL    : 274.7419631200025 -13.840055681860497\n"
     ]
    },
    {
     "name": "stderr",
     "output_type": "stream",
     "text": [
      "INFO:stwcs.wcsutil.hstwcs:CRPIX    : 507.0 507.0\n"
     ]
    },
    {
     "name": "stdout",
     "output_type": "stream",
     "text": [
      "CRPIX    : 507.0 507.0\n"
     ]
    },
    {
     "name": "stderr",
     "output_type": "stream",
     "text": [
      "INFO:stwcs.wcsutil.hstwcs:NAXIS    : 1014 1014\n"
     ]
    },
    {
     "name": "stdout",
     "output_type": "stream",
     "text": [
      "NAXIS    : 1014 1014\n"
     ]
    },
    {
     "name": "stderr",
     "output_type": "stream",
     "text": [
      "INFO:stwcs.wcsutil.hstwcs:Plate Scale : 0.13539574058669115\n"
     ]
    },
    {
     "name": "stdout",
     "output_type": "stream",
     "text": [
      "Plate Scale : 0.13539574058669115\n"
     ]
    },
    {
     "name": "stderr",
     "output_type": "stream",
     "text": [
      "INFO:stwcs.wcsutil.hstwcs:ORIENTAT : -35.36425822519598\n"
     ]
    },
    {
     "name": "stdout",
     "output_type": "stream",
     "text": [
      "ORIENTAT : -35.36425822519598\n"
     ]
    },
    {
     "name": "stderr",
     "output_type": "stream",
     "text": [
      "INFO:drizzlepac.updatehdr:WCSNAME  :  IR_FLT\n"
     ]
    },
    {
     "name": "stdout",
     "output_type": "stream",
     "text": [
      "WCSNAME  :  IR_FLT\n"
     ]
    },
    {
     "name": "stderr",
     "output_type": "stream",
     "text": [
      "INFO:drizzlepac.imgclasses:Updating WCSCORR table with new WCS solution \"IR_FLT\"\n",
      "INFO:drizzlepac.tweakreg:\n"
     ]
    },
    {
     "name": "stdout",
     "output_type": "stream",
     "text": [
      "\n"
     ]
    },
    {
     "name": "stderr",
     "output_type": "stream",
     "text": [
      "INFO:drizzlepac.tweakreg:====================\n"
     ]
    },
    {
     "name": "stdout",
     "output_type": "stream",
     "text": [
      "====================\n"
     ]
    },
    {
     "name": "stderr",
     "output_type": "stream",
     "text": [
      "INFO:drizzlepac.tweakreg:Performing fit for: ick901hzq_flt.fits\n"
     ]
    },
    {
     "name": "stdout",
     "output_type": "stream",
     "text": [
      "Performing fit for: ick901hzq_flt.fits\n"
     ]
    },
    {
     "name": "stderr",
     "output_type": "stream",
     "text": [
      "INFO:drizzlepac.tweakreg:\n"
     ]
    },
    {
     "name": "stdout",
     "output_type": "stream",
     "text": [
      "\n"
     ]
    },
    {
     "name": "stderr",
     "output_type": "stream",
     "text": [
      "INFO:drizzlepac.imgclasses:Matching sources from 'ick901hzq_flt.fits' with sources from reference image 'hst_13926_02_wfc3_ir_f160w_ick902ne_flt.fits'\n"
     ]
    },
    {
     "name": "stdout",
     "output_type": "stream",
     "text": [
      "Matching sources from 'ick901hzq_flt.fits' with sources from reference image 'hst_13926_02_wfc3_ir_f160w_ick902ne_flt.fits'\n"
     ]
    },
    {
     "name": "stderr",
     "output_type": "stream",
     "text": [
      "INFO:drizzlepac.imgclasses:Computing initial guess for X and Y shifts...\n"
     ]
    },
    {
     "name": "stdout",
     "output_type": "stream",
     "text": [
      "Computing initial guess for X and Y shifts...\n"
     ]
    },
    {
     "name": "stderr",
     "output_type": "stream",
     "text": [
      "INFO:drizzlepac.imgclasses:Found initial X and Y shifts of 0.3537, 0.5779 with significance of 41.72 and 58 matches\n"
     ]
    },
    {
     "name": "stdout",
     "output_type": "stream",
     "text": [
      "Found initial X and Y shifts of 0.3537, 0.5779 with significance of 41.72 and 58 matches\n"
     ]
    },
    {
     "name": "stderr",
     "output_type": "stream",
     "text": [
      "INFO:drizzlepac.imgclasses:Found 51 matches for ick901hzq_flt.fits...\n"
     ]
    },
    {
     "name": "stdout",
     "output_type": "stream",
     "text": [
      "Found 51 matches for ick901hzq_flt.fits...\n"
     ]
    },
    {
     "name": "stderr",
     "output_type": "stream",
     "text": [
      "INFO:drizzlepac.linearfit:Performing \"rscale\" fit\n",
      "INFO:drizzlepac.linearfit:Performing \"rscale\" fit\n",
      "INFO:drizzlepac.linearfit:Performing \"rscale\" fit\n",
      "INFO:drizzlepac.linearfit:Performing \"rscale\" fit\n",
      "INFO:drizzlepac.imgclasses:Computed  rscale  fit for  ick901hzq_flt.fits : \n"
     ]
    },
    {
     "name": "stdout",
     "output_type": "stream",
     "text": [
      "Computed  rscale  fit for  ick901hzq_flt.fits : \n"
     ]
    },
    {
     "name": "stderr",
     "output_type": "stream",
     "text": [
      "INFO:drizzlepac.imgclasses:XSH: -0.3428  YSH: 0.1201    ROT: 0.004016348402    SCALE: 1.000051\n"
     ]
    },
    {
     "name": "stdout",
     "output_type": "stream",
     "text": [
      "XSH: -0.3428  YSH: 0.1201    ROT: 0.004016348402    SCALE: 1.000051\n"
     ]
    },
    {
     "name": "stderr",
     "output_type": "stream",
     "text": [
      "INFO:drizzlepac.imgclasses:FIT XRMS: 0.057      FIT YRMS: 0.27   \n"
     ]
    },
    {
     "name": "stdout",
     "output_type": "stream",
     "text": [
      "FIT XRMS: 0.057      FIT YRMS: 0.27   \n"
     ]
    },
    {
     "name": "stderr",
     "output_type": "stream",
     "text": [
      "INFO:drizzlepac.imgclasses:FIT RMSE: 0.28       FIT MAE: 0.23   \n"
     ]
    },
    {
     "name": "stdout",
     "output_type": "stream",
     "text": [
      "FIT RMSE: 0.28       FIT MAE: 0.23   \n"
     ]
    },
    {
     "name": "stderr",
     "output_type": "stream",
     "text": [
      "INFO:drizzlepac.imgclasses:\n"
     ]
    },
    {
     "name": "stdout",
     "output_type": "stream",
     "text": [
      "\n"
     ]
    },
    {
     "name": "stderr",
     "output_type": "stream",
     "text": [
      "INFO:drizzlepac.imgclasses:RMS_RA: 7.4e-06 (deg)   RMS_DEC: 6.7e-06 (deg)\n"
     ]
    },
    {
     "name": "stdout",
     "output_type": "stream",
     "text": [
      "RMS_RA: 7.4e-06 (deg)   RMS_DEC: 6.7e-06 (deg)\n"
     ]
    },
    {
     "name": "stderr",
     "output_type": "stream",
     "text": [
      "INFO:drizzlepac.imgclasses:\n"
     ]
    },
    {
     "name": "stdout",
     "output_type": "stream",
     "text": [
      "\n"
     ]
    },
    {
     "name": "stderr",
     "output_type": "stream",
     "text": [
      "INFO:drizzlepac.imgclasses:Final solution based on  51  objects.\n"
     ]
    },
    {
     "name": "stdout",
     "output_type": "stream",
     "text": [
      "Final solution based on  51  objects.\n"
     ]
    },
    {
     "name": "stderr",
     "output_type": "stream",
     "text": [
      "INFO:drizzlepac.imgclasses:Creating catalog for the fit: ick901hzq_flt_catalog_fit.match\n",
      "INFO:drizzlepac.tweakutils:wrote XY data to:  ick901hzq_flt_catalog_fit.match\n"
     ]
    },
    {
     "name": "stdout",
     "output_type": "stream",
     "text": [
      "wrote XY data to:  ick901hzq_flt_catalog_fit.match\n"
     ]
    },
    {
     "name": "stderr",
     "output_type": "stream",
     "text": [
      "INFO:drizzlepac.tweakutils:Total # points: 51\n"
     ]
    },
    {
     "name": "stdout",
     "output_type": "stream",
     "text": [
      "Total # points: 51\n"
     ]
    },
    {
     "name": "stderr",
     "output_type": "stream",
     "text": [
      "INFO:drizzlepac.tweakutils:# of points after clipping: 51\n"
     ]
    },
    {
     "name": "stdout",
     "output_type": "stream",
     "text": [
      "# of points after clipping: 51\n"
     ]
    },
    {
     "name": "stderr",
     "output_type": "stream",
     "text": [
      "INFO:drizzlepac.tweakutils:Total # points: 51\n"
     ]
    },
    {
     "name": "stdout",
     "output_type": "stream",
     "text": [
      "Total # points: 51\n"
     ]
    },
    {
     "name": "stderr",
     "output_type": "stream",
     "text": [
      "INFO:drizzlepac.tweakutils:# of points after clipping: 51\n"
     ]
    },
    {
     "name": "stdout",
     "output_type": "stream",
     "text": [
      "# of points after clipping: 51\n"
     ]
    },
    {
     "name": "stderr",
     "output_type": "stream",
     "text": [
      "INFO:drizzlepac.imgclasses:Adding 494 new sources to the reference catalog for a total of 1663 sources.\n"
     ]
    },
    {
     "name": "stdout",
     "output_type": "stream",
     "text": [
      "Adding 494 new sources to the reference catalog for a total of 1663 sources.\n"
     ]
    },
    {
     "name": "stderr",
     "output_type": "stream",
     "text": [
      "INFO:drizzlepac.updatehdr:\n"
     ]
    },
    {
     "name": "stdout",
     "output_type": "stream",
     "text": [
      "\n"
     ]
    },
    {
     "name": "stderr",
     "output_type": "stream",
     "text": [
      "INFO:drizzlepac.updatehdr:....Updating header for 'ick901hzq_flt.fits' ...\n"
     ]
    },
    {
     "name": "stdout",
     "output_type": "stream",
     "text": [
      "....Updating header for 'ick901hzq_flt.fits' ...\n"
     ]
    },
    {
     "name": "stderr",
     "output_type": "stream",
     "text": [
      "INFO:drizzlepac.updatehdr:\n"
     ]
    },
    {
     "name": "stdout",
     "output_type": "stream",
     "text": [
      "\n"
     ]
    },
    {
     "name": "stderr",
     "output_type": "stream",
     "text": [
      "INFO:drizzlepac.updatehdr:\n"
     ]
    },
    {
     "name": "stdout",
     "output_type": "stream",
     "text": [
      "\n"
     ]
    },
    {
     "name": "stderr",
     "output_type": "stream",
     "text": [
      "INFO:drizzlepac.updatehdr:Processing ick901hzq_flt.fits['SCI',1]\n"
     ]
    },
    {
     "name": "stdout",
     "output_type": "stream",
     "text": [
      "Processing ick901hzq_flt.fits['SCI',1]\n"
     ]
    },
    {
     "name": "stderr",
     "output_type": "stream",
     "text": [
      "INFO:drizzlepac.updatehdr:\n"
     ]
    },
    {
     "name": "stdout",
     "output_type": "stream",
     "text": [
      "\n"
     ]
    },
    {
     "name": "stderr",
     "output_type": "stream",
     "text": [
      "INFO:drizzlepac.updatehdr:Updating header for ick901hzq_flt.fits[1]\n"
     ]
    },
    {
     "name": "stdout",
     "output_type": "stream",
     "text": [
      "Updating header for ick901hzq_flt.fits[1]\n"
     ]
    },
    {
     "name": "stderr",
     "output_type": "stream",
     "text": [
      "INFO:drizzlepac.updatehdr:    with WCS of\n",
      "INFO:stwcs.wcsutil.hstwcs:WCS Keywords\n"
     ]
    },
    {
     "name": "stdout",
     "output_type": "stream",
     "text": [
      "WCS Keywords\n"
     ]
    },
    {
     "name": "stderr",
     "output_type": "stream",
     "text": [
      "INFO:stwcs.wcsutil.hstwcs:\n"
     ]
    },
    {
     "name": "stdout",
     "output_type": "stream",
     "text": [
      "\n"
     ]
    },
    {
     "name": "stderr",
     "output_type": "stream",
     "text": [
      "INFO:stwcs.wcsutil.hstwcs:CD_11  CD_12: -3.07489734862874e-05 -1.9435683695155733e-05\n"
     ]
    },
    {
     "name": "stdout",
     "output_type": "stream",
     "text": [
      "CD_11  CD_12: -3.07489734862874e-05 -1.9435683695155733e-05\n"
     ]
    },
    {
     "name": "stderr",
     "output_type": "stream",
     "text": [
      "INFO:stwcs.wcsutil.hstwcs:CD_21  CD_22: -2.165824143362266e-05 2.7400388624142875e-05\n"
     ]
    },
    {
     "name": "stdout",
     "output_type": "stream",
     "text": [
      "CD_21  CD_22: -2.165824143362266e-05 2.7400388624142875e-05\n"
     ]
    },
    {
     "name": "stderr",
     "output_type": "stream",
     "text": [
      "INFO:stwcs.wcsutil.hstwcs:CRVAL    : 274.69277874232796 -13.832220633739112\n"
     ]
    },
    {
     "name": "stdout",
     "output_type": "stream",
     "text": [
      "CRVAL    : 274.69277874232796 -13.832220633739112\n"
     ]
    },
    {
     "name": "stderr",
     "output_type": "stream",
     "text": [
      "INFO:stwcs.wcsutil.hstwcs:CRPIX    : 507.0 507.0\n"
     ]
    },
    {
     "name": "stdout",
     "output_type": "stream",
     "text": [
      "CRPIX    : 507.0 507.0\n"
     ]
    },
    {
     "name": "stderr",
     "output_type": "stream",
     "text": [
      "INFO:stwcs.wcsutil.hstwcs:NAXIS    : 1014 1014\n"
     ]
    },
    {
     "name": "stdout",
     "output_type": "stream",
     "text": [
      "NAXIS    : 1014 1014\n"
     ]
    },
    {
     "name": "stderr",
     "output_type": "stream",
     "text": [
      "INFO:stwcs.wcsutil.hstwcs:Plate Scale : 0.13540606532341462\n"
     ]
    },
    {
     "name": "stdout",
     "output_type": "stream",
     "text": [
      "Plate Scale : 0.13540606532341462\n"
     ]
    },
    {
     "name": "stderr",
     "output_type": "stream",
     "text": [
      "INFO:stwcs.wcsutil.hstwcs:ORIENTAT : -35.348895939555426\n"
     ]
    },
    {
     "name": "stdout",
     "output_type": "stream",
     "text": [
      "ORIENTAT : -35.348895939555426\n"
     ]
    },
    {
     "name": "stderr",
     "output_type": "stream",
     "text": [
      "INFO:drizzlepac.updatehdr:WCSNAME  :  IR_FLT\n"
     ]
    },
    {
     "name": "stdout",
     "output_type": "stream",
     "text": [
      "WCSNAME  :  IR_FLT\n"
     ]
    },
    {
     "name": "stderr",
     "output_type": "stream",
     "text": [
      "INFO:drizzlepac.imgclasses:Updating WCSCORR table with new WCS solution \"IR_FLT\"\n",
      "INFO:drizzlepac.tweakreg:\n"
     ]
    },
    {
     "name": "stdout",
     "output_type": "stream",
     "text": [
      "\n"
     ]
    },
    {
     "name": "stderr",
     "output_type": "stream",
     "text": [
      "INFO:drizzlepac.tweakreg:====================\n"
     ]
    },
    {
     "name": "stdout",
     "output_type": "stream",
     "text": [
      "====================\n"
     ]
    },
    {
     "name": "stderr",
     "output_type": "stream",
     "text": [
      "INFO:drizzlepac.tweakreg:Performing fit for: hst_13926_01_wfc3_ir_f160w_ick901hz_flt.fits\n"
     ]
    },
    {
     "name": "stdout",
     "output_type": "stream",
     "text": [
      "Performing fit for: hst_13926_01_wfc3_ir_f160w_ick901hz_flt.fits\n"
     ]
    },
    {
     "name": "stderr",
     "output_type": "stream",
     "text": [
      "INFO:drizzlepac.tweakreg:\n"
     ]
    },
    {
     "name": "stdout",
     "output_type": "stream",
     "text": [
      "\n"
     ]
    },
    {
     "name": "stderr",
     "output_type": "stream",
     "text": [
      "INFO:drizzlepac.imgclasses:Matching sources from 'hst_13926_01_wfc3_ir_f160w_ick901hz_flt.fits' with sources from reference image 'hst_13926_02_wfc3_ir_f160w_ick902ne_flt.fits'\n"
     ]
    },
    {
     "name": "stdout",
     "output_type": "stream",
     "text": [
      "Matching sources from 'hst_13926_01_wfc3_ir_f160w_ick901hz_flt.fits' with sources from reference image 'hst_13926_02_wfc3_ir_f160w_ick902ne_flt.fits'\n"
     ]
    },
    {
     "name": "stderr",
     "output_type": "stream",
     "text": [
      "INFO:drizzlepac.imgclasses:Computing initial guess for X and Y shifts...\n"
     ]
    },
    {
     "name": "stdout",
     "output_type": "stream",
     "text": [
      "Computing initial guess for X and Y shifts...\n"
     ]
    },
    {
     "name": "stderr",
     "output_type": "stream",
     "text": [
      "INFO:drizzlepac.imgclasses:Found initial X and Y shifts of 0.3933, 0.412 with significance of 483.5 and 571 matches\n"
     ]
    },
    {
     "name": "stdout",
     "output_type": "stream",
     "text": [
      "Found initial X and Y shifts of 0.3933, 0.412 with significance of 483.5 and 571 matches\n"
     ]
    },
    {
     "name": "stderr",
     "output_type": "stream",
     "text": [
      "INFO:drizzlepac.util:Trailer file written to:  tweakreg.log\n"
     ]
    },
    {
     "name": "stdout",
     "output_type": "stream",
     "text": [
      "Trailer file written to:  tweakreg.log\n"
     ]
    },
    {
     "name": "stderr",
     "output_type": "stream",
     "text": [
      "ERROR:stsci.tools.logutil.exc:An unhandled exception ocurred:\n",
      "Traceback (most recent call last):\n",
      "  File \"/Users/dulude/anaconda2/envs/py_3_8_10/lib/python3.8/site-packages/drizzlepac/util.py\", line 230, in wrapper\n",
      "    result = func(*args, **kwargs)\n",
      "  File \"/Users/dulude/anaconda2/envs/py_3_8_10/lib/python3.8/site-packages/drizzlepac/tweakreg.py\", line 551, in run\n",
      "    image.match(refimage, quiet_identity=False, **objmatch_par)\n",
      "  File \"/Users/dulude/anaconda2/envs/py_3_8_10/lib/python3.8/site-packages/drizzlepac/imgclasses.py\", line 579, in match\n",
      "    matches = xyxymatch(self.outxy, ref_outxy, origin=xyoff,\n",
      "  File \"/Users/dulude/anaconda2/envs/py_3_8_10/lib/python3.8/site-packages/stsci/stimage/__init__.py\", line 236, in xyxymatch\n",
      "    return _stimage.xyxymatch(\n",
      "RuntimeError: Number of output coordinates exceeded allocation (545)\n"
     ]
    },
    {
     "ename": "RuntimeError",
     "evalue": "Number of output coordinates exceeded allocation (545)",
     "output_type": "error",
     "traceback": [
      "\u001b[0;31m---------------------------------------------------------------------------\u001b[0m",
      "\u001b[0;31mRuntimeError\u001b[0m                              Traceback (most recent call last)",
      "File \u001b[0;32m~/anaconda2/envs/py_3_8_10/lib/python3.8/site-packages/drizzlepac/util.py:230\u001b[0m, in \u001b[0;36mWithLogging.__call__.<locals>.wrapper\u001b[0;34m(*args, **kwargs)\u001b[0m\n\u001b[1;32m    223\u001b[0m \u001b[38;5;66;03m# This looks utterly bizarre, but it seems to be the only way I can\u001b[39;00m\n\u001b[1;32m    224\u001b[0m \u001b[38;5;66;03m# ensure that any exceptions that occur in the wrapped function are\u001b[39;00m\n\u001b[1;32m    225\u001b[0m \u001b[38;5;66;03m# logged before teardown_global_logging() is called.  Unless the\u001b[39;00m\n\u001b[1;32m    226\u001b[0m \u001b[38;5;66;03m# except clause is explicitly included here, even with just 'pass'\u001b[39;00m\n\u001b[1;32m    227\u001b[0m \u001b[38;5;66;03m# under it, Python discards the sys.exc_info() data by the time the\u001b[39;00m\n\u001b[1;32m    228\u001b[0m \u001b[38;5;66;03m# finally clause is reached.\u001b[39;00m\n\u001b[1;32m    229\u001b[0m \u001b[38;5;28;01mtry\u001b[39;00m:\n\u001b[0;32m--> 230\u001b[0m     result \u001b[38;5;241m=\u001b[39m \u001b[43mfunc\u001b[49m\u001b[43m(\u001b[49m\u001b[38;5;241;43m*\u001b[39;49m\u001b[43margs\u001b[49m\u001b[43m,\u001b[49m\u001b[43m \u001b[49m\u001b[38;5;241;43m*\u001b[39;49m\u001b[38;5;241;43m*\u001b[39;49m\u001b[43mkwargs\u001b[49m\u001b[43m)\u001b[49m\n\u001b[1;32m    231\u001b[0m \u001b[38;5;28;01mexcept\u001b[39;00m \u001b[38;5;167;01mException\u001b[39;00m \u001b[38;5;28;01mas\u001b[39;00m e:\n\u001b[1;32m    232\u001b[0m     errorobj \u001b[38;5;241m=\u001b[39m e\n",
      "File \u001b[0;32m~/anaconda2/envs/py_3_8_10/lib/python3.8/site-packages/drizzlepac/tweakreg.py:551\u001b[0m, in \u001b[0;36mrun\u001b[0;34m(configobj)\u001b[0m\n\u001b[1;32m    549\u001b[0m \u001b[38;5;28mprint\u001b[39m (\u001b[38;5;124m'\u001b[39m\u001b[38;5;130;01m\\n\u001b[39;00m\u001b[38;5;124m'\u001b[39m\u001b[38;5;241m+\u001b[39m\u001b[38;5;124m'\u001b[39m\u001b[38;5;124m=\u001b[39m\u001b[38;5;124m'\u001b[39m\u001b[38;5;241m*\u001b[39m\u001b[38;5;241m20\u001b[39m)\n\u001b[1;32m    550\u001b[0m \u001b[38;5;28mprint\u001b[39m (\u001b[38;5;124m'\u001b[39m\u001b[38;5;124mPerforming fit for: \u001b[39m\u001b[38;5;132;01m{}\u001b[39;00m\u001b[38;5;130;01m\\n\u001b[39;00m\u001b[38;5;124m'\u001b[39m\u001b[38;5;241m.\u001b[39mformat(image\u001b[38;5;241m.\u001b[39mname))\n\u001b[0;32m--> 551\u001b[0m \u001b[43mimage\u001b[49m\u001b[38;5;241;43m.\u001b[39;49m\u001b[43mmatch\u001b[49m\u001b[43m(\u001b[49m\u001b[43mrefimage\u001b[49m\u001b[43m,\u001b[49m\u001b[43m \u001b[49m\u001b[43mquiet_identity\u001b[49m\u001b[38;5;241;43m=\u001b[39;49m\u001b[38;5;28;43;01mFalse\u001b[39;49;00m\u001b[43m,\u001b[49m\u001b[43m \u001b[49m\u001b[38;5;241;43m*\u001b[39;49m\u001b[38;5;241;43m*\u001b[39;49m\u001b[43mobjmatch_par\u001b[49m\u001b[43m)\u001b[49m\n\u001b[1;32m    552\u001b[0m \u001b[38;5;28;01massert\u001b[39;00m(\u001b[38;5;28mlen\u001b[39m(retry_flags) \u001b[38;5;241m==\u001b[39m \u001b[38;5;28mlen\u001b[39m(input_images))\n\u001b[1;32m    554\u001b[0m \u001b[38;5;28;01mif\u001b[39;00m \u001b[38;5;129;01mnot\u001b[39;00m image\u001b[38;5;241m.\u001b[39mgoodmatch:\n\u001b[1;32m    555\u001b[0m     \u001b[38;5;66;03m# we will try to match it again once reference catalog\u001b[39;00m\n\u001b[1;32m    556\u001b[0m     \u001b[38;5;66;03m# has expanded with new sources:\u001b[39;00m\n\u001b[1;32m    557\u001b[0m     \u001b[38;5;66;03m#if expand_refcat:\u001b[39;00m\n",
      "File \u001b[0;32m~/anaconda2/envs/py_3_8_10/lib/python3.8/site-packages/drizzlepac/imgclasses.py:579\u001b[0m, in \u001b[0;36mImage.match\u001b[0;34m(self, refimage, quiet_identity, **kwargs)\u001b[0m\n\u001b[1;32m    576\u001b[0m         yoff \u001b[38;5;241m=\u001b[39m matchpars[\u001b[38;5;124m'\u001b[39m\u001b[38;5;124myoffset\u001b[39m\u001b[38;5;124m'\u001b[39m]\n\u001b[1;32m    577\u001b[0m     xyoff \u001b[38;5;241m=\u001b[39m (xoff, yoff)\n\u001b[0;32m--> 579\u001b[0m matches \u001b[38;5;241m=\u001b[39m \u001b[43mxyxymatch\u001b[49m\u001b[43m(\u001b[49m\u001b[38;5;28;43mself\u001b[39;49m\u001b[38;5;241;43m.\u001b[39;49m\u001b[43moutxy\u001b[49m\u001b[43m,\u001b[49m\u001b[43m \u001b[49m\u001b[43mref_outxy\u001b[49m\u001b[43m,\u001b[49m\u001b[43m \u001b[49m\u001b[43morigin\u001b[49m\u001b[38;5;241;43m=\u001b[39;49m\u001b[43mxyoff\u001b[49m\u001b[43m,\u001b[49m\n\u001b[1;32m    580\u001b[0m \u001b[43m                    \u001b[49m\u001b[43mtolerance\u001b[49m\u001b[38;5;241;43m=\u001b[39;49m\u001b[43mmatchpars\u001b[49m\u001b[43m[\u001b[49m\u001b[38;5;124;43m'\u001b[39;49m\u001b[38;5;124;43mtolerance\u001b[39;49m\u001b[38;5;124;43m'\u001b[39;49m\u001b[43m]\u001b[49m\u001b[43m,\u001b[49m\n\u001b[1;32m    581\u001b[0m \u001b[43m                    \u001b[49m\u001b[43mseparation\u001b[49m\u001b[38;5;241;43m=\u001b[39;49m\u001b[43mmatchpars\u001b[49m\u001b[43m[\u001b[49m\u001b[38;5;124;43m'\u001b[39;49m\u001b[38;5;124;43mseparation\u001b[39;49m\u001b[38;5;124;43m'\u001b[39;49m\u001b[43m]\u001b[49m\u001b[43m)\u001b[49m\n\u001b[1;32m    583\u001b[0m \u001b[38;5;28;01mif\u001b[39;00m \u001b[38;5;28mlen\u001b[39m(matches) \u001b[38;5;241m>\u001b[39m\u001b[38;5;241m=\u001b[39m minobj:\n\u001b[1;32m    584\u001b[0m     \u001b[38;5;28mself\u001b[39m\u001b[38;5;241m.\u001b[39mmatches[\u001b[38;5;124m'\u001b[39m\u001b[38;5;124mimage\u001b[39m\u001b[38;5;124m'\u001b[39m] \u001b[38;5;241m=\u001b[39m np\u001b[38;5;241m.\u001b[39mcolumn_stack([matches[\u001b[38;5;124m'\u001b[39m\u001b[38;5;124minput_x\u001b[39m\u001b[38;5;124m'\u001b[39m][:,\n\u001b[1;32m    585\u001b[0m                     np\u001b[38;5;241m.\u001b[39mnewaxis],matches[\u001b[38;5;124m'\u001b[39m\u001b[38;5;124minput_y\u001b[39m\u001b[38;5;124m'\u001b[39m][:,np\u001b[38;5;241m.\u001b[39mnewaxis]])\n",
      "File \u001b[0;32m~/anaconda2/envs/py_3_8_10/lib/python3.8/site-packages/stsci/stimage/__init__.py:236\u001b[0m, in \u001b[0;36mxyxymatch\u001b[0;34m(input, ref, origin, mag, rotation, ref_origin, algorithm, tolerance, separation, nmatch, maxratio, nreject)\u001b[0m\n\u001b[1;32m     35\u001b[0m \u001b[38;5;28;01mdef\u001b[39;00m \u001b[38;5;21mxyxymatch\u001b[39m(\u001b[38;5;28minput\u001b[39m,\n\u001b[1;32m     36\u001b[0m               ref,\n\u001b[1;32m     37\u001b[0m               origin \u001b[38;5;241m=\u001b[39m (\u001b[38;5;241m0.0\u001b[39m, \u001b[38;5;241m0.0\u001b[39m),\n\u001b[0;32m   (...)\u001b[0m\n\u001b[1;32m     45\u001b[0m               maxratio \u001b[38;5;241m=\u001b[39m \u001b[38;5;241m10.0\u001b[39m,\n\u001b[1;32m     46\u001b[0m               nreject \u001b[38;5;241m=\u001b[39m \u001b[38;5;241m10\u001b[39m):\n\u001b[1;32m     47\u001b[0m     \u001b[38;5;124;03m\"\"\"\u001b[39;00m\n\u001b[1;32m     48\u001b[0m \u001b[38;5;124;03m    Match pixels coordinate lists using various methods.\u001b[39;00m\n\u001b[1;32m     49\u001b[0m \n\u001b[0;32m   (...)\u001b[0m\n\u001b[1;32m    234\u001b[0m \u001b[38;5;124;03m    - *ref_idx*\u001b[39;00m\n\u001b[1;32m    235\u001b[0m \u001b[38;5;124;03m    \"\"\"\u001b[39;00m\n\u001b[0;32m--> 236\u001b[0m     \u001b[38;5;28;01mreturn\u001b[39;00m \u001b[43m_stimage\u001b[49m\u001b[38;5;241;43m.\u001b[39;49m\u001b[43mxyxymatch\u001b[49m\u001b[43m(\u001b[49m\n\u001b[1;32m    237\u001b[0m \u001b[43m        \u001b[49m\u001b[38;5;28;43minput\u001b[39;49m\u001b[43m,\u001b[49m\n\u001b[1;32m    238\u001b[0m \u001b[43m        \u001b[49m\u001b[43mref\u001b[49m\u001b[43m,\u001b[49m\n\u001b[1;32m    239\u001b[0m \u001b[43m        \u001b[49m\u001b[43morigin\u001b[49m\u001b[43m,\u001b[49m\n\u001b[1;32m    240\u001b[0m \u001b[43m        \u001b[49m\u001b[43mmag\u001b[49m\u001b[43m,\u001b[49m\n\u001b[1;32m    241\u001b[0m \u001b[43m        \u001b[49m\u001b[43mrotation\u001b[49m\u001b[43m,\u001b[49m\n\u001b[1;32m    242\u001b[0m \u001b[43m        \u001b[49m\u001b[43mref_origin\u001b[49m\u001b[43m,\u001b[49m\n\u001b[1;32m    243\u001b[0m \u001b[43m        \u001b[49m\u001b[43malgorithm\u001b[49m\u001b[43m,\u001b[49m\n\u001b[1;32m    244\u001b[0m \u001b[43m        \u001b[49m\u001b[43mtolerance\u001b[49m\u001b[43m,\u001b[49m\n\u001b[1;32m    245\u001b[0m \u001b[43m        \u001b[49m\u001b[43mseparation\u001b[49m\u001b[43m,\u001b[49m\n\u001b[1;32m    246\u001b[0m \u001b[43m        \u001b[49m\u001b[43mnmatch\u001b[49m\u001b[43m,\u001b[49m\n\u001b[1;32m    247\u001b[0m \u001b[43m        \u001b[49m\u001b[43mmaxratio\u001b[49m\u001b[43m,\u001b[49m\n\u001b[1;32m    248\u001b[0m \u001b[43m        \u001b[49m\u001b[43mnreject\u001b[49m\u001b[43m)\u001b[49m\n",
      "\u001b[0;31mRuntimeError\u001b[0m: Number of output coordinates exceeded allocation (545)"
     ]
    },
    {
     "ename": "RuntimeError",
     "evalue": "Number of output coordinates exceeded allocation (545)",
     "output_type": "error",
     "traceback": [
      "\u001b[0;31m---------------------------------------------------------------------------\u001b[0m",
      "\u001b[0;31mRuntimeError\u001b[0m                              Traceback (most recent call last)",
      "Cell \u001b[0;32mIn [6], line 1\u001b[0m\n\u001b[0;32m----> 1\u001b[0m \u001b[43mtweakreg\u001b[49m\u001b[38;5;241;43m.\u001b[39;49m\u001b[43mTweakReg\u001b[49m\u001b[43m(\u001b[49m\u001b[38;5;124;43m'\u001b[39;49m\u001b[38;5;124;43m*flt.fits\u001b[39;49m\u001b[38;5;124;43m'\u001b[39;49m\u001b[43m,\u001b[49m\n\u001b[1;32m      2\u001b[0m \u001b[43m                  \u001b[49m\u001b[43mimagefindcfg\u001b[49m\u001b[38;5;241;43m=\u001b[39;49m\u001b[43m{\u001b[49m\u001b[38;5;124;43m'\u001b[39;49m\u001b[38;5;124;43mthreshold\u001b[39;49m\u001b[38;5;124;43m'\u001b[39;49m\u001b[43m:\u001b[49m\u001b[43m \u001b[49m\u001b[38;5;241;43m50\u001b[39;49m\u001b[43m,\u001b[49m\u001b[43m \u001b[49m\u001b[38;5;124;43m'\u001b[39;49m\u001b[38;5;124;43mconv_width\u001b[39;49m\u001b[38;5;124;43m'\u001b[39;49m\u001b[43m:\u001b[49m\u001b[43m \u001b[49m\u001b[38;5;241;43m2.5\u001b[39;49m\u001b[43m}\u001b[49m\u001b[43m,\u001b[49m\n\u001b[1;32m      3\u001b[0m \u001b[43m                  \u001b[49m\u001b[43mexpand_refcat\u001b[49m\u001b[38;5;241;43m=\u001b[39;49m\u001b[38;5;28;43;01mTrue\u001b[39;49;00m\u001b[43m,\u001b[49m\n\u001b[1;32m      4\u001b[0m \u001b[43m                  \u001b[49m\u001b[43menforce_user_order\u001b[49m\u001b[38;5;241;43m=\u001b[39;49m\u001b[38;5;28;43;01mFalse\u001b[39;49;00m\u001b[43m,\u001b[49m\n\u001b[1;32m      5\u001b[0m \u001b[43m                  \u001b[49m\u001b[43mshiftfile\u001b[49m\u001b[38;5;241;43m=\u001b[39;49m\u001b[38;5;28;43;01mTrue\u001b[39;49;00m\u001b[43m,\u001b[49m\n\u001b[1;32m      6\u001b[0m \u001b[43m                  \u001b[49m\u001b[43moutshifts\u001b[49m\u001b[38;5;241;43m=\u001b[39;49m\u001b[38;5;124;43m'\u001b[39;49m\u001b[38;5;124;43mshift160_flt.txt\u001b[39;49m\u001b[38;5;124;43m'\u001b[39;49m\u001b[43m,\u001b[49m\n\u001b[1;32m      7\u001b[0m \u001b[43m                  \u001b[49m\u001b[43msearchrad\u001b[49m\u001b[38;5;241;43m=\u001b[39;49m\u001b[38;5;241;43m2.0\u001b[39;49m\u001b[43m,\u001b[49m\n\u001b[1;32m      8\u001b[0m \u001b[43m                  \u001b[49m\u001b[43mylimit\u001b[49m\u001b[38;5;241;43m=\u001b[39;49m\u001b[38;5;241;43m0.3\u001b[39;49m\u001b[43m,\u001b[49m\n\u001b[1;32m      9\u001b[0m \u001b[43m                  \u001b[49m\u001b[43mupdatehdr\u001b[49m\u001b[38;5;241;43m=\u001b[39;49m\u001b[38;5;28;43;01mTrue\u001b[39;49;00m\u001b[43m,\u001b[49m\n\u001b[1;32m     10\u001b[0m \u001b[43m                  \u001b[49m\u001b[43mreusename\u001b[49m\u001b[38;5;241;43m=\u001b[39;49m\u001b[38;5;28;43;01mTrue\u001b[39;49;00m\u001b[43m,\u001b[49m\n\u001b[1;32m     11\u001b[0m \u001b[43m                  \u001b[49m\u001b[43mwcsname\u001b[49m\u001b[38;5;241;43m=\u001b[39;49m\u001b[38;5;124;43m'\u001b[39;49m\u001b[38;5;124;43mIR_FLT\u001b[39;49m\u001b[38;5;124;43m'\u001b[39;49m\u001b[43m,\u001b[49m\n\u001b[1;32m     12\u001b[0m \u001b[43m                  \u001b[49m\u001b[43minteractive\u001b[49m\u001b[38;5;241;43m=\u001b[39;49m\u001b[38;5;28;43;01mFalse\u001b[39;49;00m\u001b[43m)\u001b[49m\n",
      "File \u001b[0;32m~/anaconda2/envs/py_3_8_10/lib/python3.8/site-packages/drizzlepac/tweakreg.py:840\u001b[0m, in \u001b[0;36mTweakReg\u001b[0;34m(files, editpars, configobj, imagefindcfg, refimagefindcfg, **input_dict)\u001b[0m\n\u001b[1;32m    836\u001b[0m \u001b[38;5;66;03m# If 'editpars' was set to True, util.getDefaultConfigObj() will have\u001b[39;00m\n\u001b[1;32m    837\u001b[0m \u001b[38;5;66;03m# already called 'run()'.\u001b[39;00m\n\u001b[1;32m    838\u001b[0m \u001b[38;5;28;01mif\u001b[39;00m \u001b[38;5;129;01mnot\u001b[39;00m editpars:\n\u001b[1;32m    839\u001b[0m     \u001b[38;5;66;03m# Pass full set of parameters on to the task\u001b[39;00m\n\u001b[0;32m--> 840\u001b[0m     \u001b[43mrun\u001b[49m\u001b[43m(\u001b[49m\u001b[43mconfigObj\u001b[49m\u001b[43m)\u001b[49m\n",
      "File \u001b[0;32m~/anaconda2/envs/py_3_8_10/lib/python3.8/site-packages/drizzlepac/util.py:244\u001b[0m, in \u001b[0;36mWithLogging.__call__.<locals>.wrapper\u001b[0;34m(*args, **kwargs)\u001b[0m\n\u001b[1;32m    240\u001b[0m         \u001b[38;5;66;03m# Insure that any exception raised by the code gets passed\u001b[39;00m\n\u001b[1;32m    241\u001b[0m         \u001b[38;5;66;03m# on (hope that end_logging didn't change the last\u001b[39;00m\n\u001b[1;32m    242\u001b[0m         \u001b[38;5;66;03m# exception raised)\u001b[39;00m\n\u001b[1;32m    243\u001b[0m         \u001b[38;5;28;01mif\u001b[39;00m errorobj:\n\u001b[0;32m--> 244\u001b[0m             \u001b[38;5;28;01mraise\u001b[39;00m errorobj\n\u001b[1;32m    245\u001b[0m \u001b[38;5;28;01mreturn\u001b[39;00m result\n",
      "File \u001b[0;32m~/anaconda2/envs/py_3_8_10/lib/python3.8/site-packages/drizzlepac/util.py:230\u001b[0m, in \u001b[0;36mWithLogging.__call__.<locals>.wrapper\u001b[0;34m(*args, **kwargs)\u001b[0m\n\u001b[1;32m    223\u001b[0m \u001b[38;5;66;03m# This looks utterly bizarre, but it seems to be the only way I can\u001b[39;00m\n\u001b[1;32m    224\u001b[0m \u001b[38;5;66;03m# ensure that any exceptions that occur in the wrapped function are\u001b[39;00m\n\u001b[1;32m    225\u001b[0m \u001b[38;5;66;03m# logged before teardown_global_logging() is called.  Unless the\u001b[39;00m\n\u001b[1;32m    226\u001b[0m \u001b[38;5;66;03m# except clause is explicitly included here, even with just 'pass'\u001b[39;00m\n\u001b[1;32m    227\u001b[0m \u001b[38;5;66;03m# under it, Python discards the sys.exc_info() data by the time the\u001b[39;00m\n\u001b[1;32m    228\u001b[0m \u001b[38;5;66;03m# finally clause is reached.\u001b[39;00m\n\u001b[1;32m    229\u001b[0m \u001b[38;5;28;01mtry\u001b[39;00m:\n\u001b[0;32m--> 230\u001b[0m     result \u001b[38;5;241m=\u001b[39m \u001b[43mfunc\u001b[49m\u001b[43m(\u001b[49m\u001b[38;5;241;43m*\u001b[39;49m\u001b[43margs\u001b[49m\u001b[43m,\u001b[49m\u001b[43m \u001b[49m\u001b[38;5;241;43m*\u001b[39;49m\u001b[38;5;241;43m*\u001b[39;49m\u001b[43mkwargs\u001b[49m\u001b[43m)\u001b[49m\n\u001b[1;32m    231\u001b[0m \u001b[38;5;28;01mexcept\u001b[39;00m \u001b[38;5;167;01mException\u001b[39;00m \u001b[38;5;28;01mas\u001b[39;00m e:\n\u001b[1;32m    232\u001b[0m     errorobj \u001b[38;5;241m=\u001b[39m e\n",
      "File \u001b[0;32m~/anaconda2/envs/py_3_8_10/lib/python3.8/site-packages/drizzlepac/tweakreg.py:551\u001b[0m, in \u001b[0;36mrun\u001b[0;34m(configobj)\u001b[0m\n\u001b[1;32m    549\u001b[0m \u001b[38;5;28mprint\u001b[39m (\u001b[38;5;124m'\u001b[39m\u001b[38;5;130;01m\\n\u001b[39;00m\u001b[38;5;124m'\u001b[39m\u001b[38;5;241m+\u001b[39m\u001b[38;5;124m'\u001b[39m\u001b[38;5;124m=\u001b[39m\u001b[38;5;124m'\u001b[39m\u001b[38;5;241m*\u001b[39m\u001b[38;5;241m20\u001b[39m)\n\u001b[1;32m    550\u001b[0m \u001b[38;5;28mprint\u001b[39m (\u001b[38;5;124m'\u001b[39m\u001b[38;5;124mPerforming fit for: \u001b[39m\u001b[38;5;132;01m{}\u001b[39;00m\u001b[38;5;130;01m\\n\u001b[39;00m\u001b[38;5;124m'\u001b[39m\u001b[38;5;241m.\u001b[39mformat(image\u001b[38;5;241m.\u001b[39mname))\n\u001b[0;32m--> 551\u001b[0m \u001b[43mimage\u001b[49m\u001b[38;5;241;43m.\u001b[39;49m\u001b[43mmatch\u001b[49m\u001b[43m(\u001b[49m\u001b[43mrefimage\u001b[49m\u001b[43m,\u001b[49m\u001b[43m \u001b[49m\u001b[43mquiet_identity\u001b[49m\u001b[38;5;241;43m=\u001b[39;49m\u001b[38;5;28;43;01mFalse\u001b[39;49;00m\u001b[43m,\u001b[49m\u001b[43m \u001b[49m\u001b[38;5;241;43m*\u001b[39;49m\u001b[38;5;241;43m*\u001b[39;49m\u001b[43mobjmatch_par\u001b[49m\u001b[43m)\u001b[49m\n\u001b[1;32m    552\u001b[0m \u001b[38;5;28;01massert\u001b[39;00m(\u001b[38;5;28mlen\u001b[39m(retry_flags) \u001b[38;5;241m==\u001b[39m \u001b[38;5;28mlen\u001b[39m(input_images))\n\u001b[1;32m    554\u001b[0m \u001b[38;5;28;01mif\u001b[39;00m \u001b[38;5;129;01mnot\u001b[39;00m image\u001b[38;5;241m.\u001b[39mgoodmatch:\n\u001b[1;32m    555\u001b[0m     \u001b[38;5;66;03m# we will try to match it again once reference catalog\u001b[39;00m\n\u001b[1;32m    556\u001b[0m     \u001b[38;5;66;03m# has expanded with new sources:\u001b[39;00m\n\u001b[1;32m    557\u001b[0m     \u001b[38;5;66;03m#if expand_refcat:\u001b[39;00m\n",
      "File \u001b[0;32m~/anaconda2/envs/py_3_8_10/lib/python3.8/site-packages/drizzlepac/imgclasses.py:579\u001b[0m, in \u001b[0;36mImage.match\u001b[0;34m(self, refimage, quiet_identity, **kwargs)\u001b[0m\n\u001b[1;32m    576\u001b[0m         yoff \u001b[38;5;241m=\u001b[39m matchpars[\u001b[38;5;124m'\u001b[39m\u001b[38;5;124myoffset\u001b[39m\u001b[38;5;124m'\u001b[39m]\n\u001b[1;32m    577\u001b[0m     xyoff \u001b[38;5;241m=\u001b[39m (xoff, yoff)\n\u001b[0;32m--> 579\u001b[0m matches \u001b[38;5;241m=\u001b[39m \u001b[43mxyxymatch\u001b[49m\u001b[43m(\u001b[49m\u001b[38;5;28;43mself\u001b[39;49m\u001b[38;5;241;43m.\u001b[39;49m\u001b[43moutxy\u001b[49m\u001b[43m,\u001b[49m\u001b[43m \u001b[49m\u001b[43mref_outxy\u001b[49m\u001b[43m,\u001b[49m\u001b[43m \u001b[49m\u001b[43morigin\u001b[49m\u001b[38;5;241;43m=\u001b[39;49m\u001b[43mxyoff\u001b[49m\u001b[43m,\u001b[49m\n\u001b[1;32m    580\u001b[0m \u001b[43m                    \u001b[49m\u001b[43mtolerance\u001b[49m\u001b[38;5;241;43m=\u001b[39;49m\u001b[43mmatchpars\u001b[49m\u001b[43m[\u001b[49m\u001b[38;5;124;43m'\u001b[39;49m\u001b[38;5;124;43mtolerance\u001b[39;49m\u001b[38;5;124;43m'\u001b[39;49m\u001b[43m]\u001b[49m\u001b[43m,\u001b[49m\n\u001b[1;32m    581\u001b[0m \u001b[43m                    \u001b[49m\u001b[43mseparation\u001b[49m\u001b[38;5;241;43m=\u001b[39;49m\u001b[43mmatchpars\u001b[49m\u001b[43m[\u001b[49m\u001b[38;5;124;43m'\u001b[39;49m\u001b[38;5;124;43mseparation\u001b[39;49m\u001b[38;5;124;43m'\u001b[39;49m\u001b[43m]\u001b[49m\u001b[43m)\u001b[49m\n\u001b[1;32m    583\u001b[0m \u001b[38;5;28;01mif\u001b[39;00m \u001b[38;5;28mlen\u001b[39m(matches) \u001b[38;5;241m>\u001b[39m\u001b[38;5;241m=\u001b[39m minobj:\n\u001b[1;32m    584\u001b[0m     \u001b[38;5;28mself\u001b[39m\u001b[38;5;241m.\u001b[39mmatches[\u001b[38;5;124m'\u001b[39m\u001b[38;5;124mimage\u001b[39m\u001b[38;5;124m'\u001b[39m] \u001b[38;5;241m=\u001b[39m np\u001b[38;5;241m.\u001b[39mcolumn_stack([matches[\u001b[38;5;124m'\u001b[39m\u001b[38;5;124minput_x\u001b[39m\u001b[38;5;124m'\u001b[39m][:,\n\u001b[1;32m    585\u001b[0m                     np\u001b[38;5;241m.\u001b[39mnewaxis],matches[\u001b[38;5;124m'\u001b[39m\u001b[38;5;124minput_y\u001b[39m\u001b[38;5;124m'\u001b[39m][:,np\u001b[38;5;241m.\u001b[39mnewaxis]])\n",
      "File \u001b[0;32m~/anaconda2/envs/py_3_8_10/lib/python3.8/site-packages/stsci/stimage/__init__.py:236\u001b[0m, in \u001b[0;36mxyxymatch\u001b[0;34m(input, ref, origin, mag, rotation, ref_origin, algorithm, tolerance, separation, nmatch, maxratio, nreject)\u001b[0m\n\u001b[1;32m     35\u001b[0m \u001b[38;5;28;01mdef\u001b[39;00m \u001b[38;5;21mxyxymatch\u001b[39m(\u001b[38;5;28minput\u001b[39m,\n\u001b[1;32m     36\u001b[0m               ref,\n\u001b[1;32m     37\u001b[0m               origin \u001b[38;5;241m=\u001b[39m (\u001b[38;5;241m0.0\u001b[39m, \u001b[38;5;241m0.0\u001b[39m),\n\u001b[0;32m   (...)\u001b[0m\n\u001b[1;32m     45\u001b[0m               maxratio \u001b[38;5;241m=\u001b[39m \u001b[38;5;241m10.0\u001b[39m,\n\u001b[1;32m     46\u001b[0m               nreject \u001b[38;5;241m=\u001b[39m \u001b[38;5;241m10\u001b[39m):\n\u001b[1;32m     47\u001b[0m     \u001b[38;5;124;03m\"\"\"\u001b[39;00m\n\u001b[1;32m     48\u001b[0m \u001b[38;5;124;03m    Match pixels coordinate lists using various methods.\u001b[39;00m\n\u001b[1;32m     49\u001b[0m \n\u001b[0;32m   (...)\u001b[0m\n\u001b[1;32m    234\u001b[0m \u001b[38;5;124;03m    - *ref_idx*\u001b[39;00m\n\u001b[1;32m    235\u001b[0m \u001b[38;5;124;03m    \"\"\"\u001b[39;00m\n\u001b[0;32m--> 236\u001b[0m     \u001b[38;5;28;01mreturn\u001b[39;00m \u001b[43m_stimage\u001b[49m\u001b[38;5;241;43m.\u001b[39;49m\u001b[43mxyxymatch\u001b[49m\u001b[43m(\u001b[49m\n\u001b[1;32m    237\u001b[0m \u001b[43m        \u001b[49m\u001b[38;5;28;43minput\u001b[39;49m\u001b[43m,\u001b[49m\n\u001b[1;32m    238\u001b[0m \u001b[43m        \u001b[49m\u001b[43mref\u001b[49m\u001b[43m,\u001b[49m\n\u001b[1;32m    239\u001b[0m \u001b[43m        \u001b[49m\u001b[43morigin\u001b[49m\u001b[43m,\u001b[49m\n\u001b[1;32m    240\u001b[0m \u001b[43m        \u001b[49m\u001b[43mmag\u001b[49m\u001b[43m,\u001b[49m\n\u001b[1;32m    241\u001b[0m \u001b[43m        \u001b[49m\u001b[43mrotation\u001b[49m\u001b[43m,\u001b[49m\n\u001b[1;32m    242\u001b[0m \u001b[43m        \u001b[49m\u001b[43mref_origin\u001b[49m\u001b[43m,\u001b[49m\n\u001b[1;32m    243\u001b[0m \u001b[43m        \u001b[49m\u001b[43malgorithm\u001b[49m\u001b[43m,\u001b[49m\n\u001b[1;32m    244\u001b[0m \u001b[43m        \u001b[49m\u001b[43mtolerance\u001b[49m\u001b[43m,\u001b[49m\n\u001b[1;32m    245\u001b[0m \u001b[43m        \u001b[49m\u001b[43mseparation\u001b[49m\u001b[43m,\u001b[49m\n\u001b[1;32m    246\u001b[0m \u001b[43m        \u001b[49m\u001b[43mnmatch\u001b[49m\u001b[43m,\u001b[49m\n\u001b[1;32m    247\u001b[0m \u001b[43m        \u001b[49m\u001b[43mmaxratio\u001b[49m\u001b[43m,\u001b[49m\n\u001b[1;32m    248\u001b[0m \u001b[43m        \u001b[49m\u001b[43mnreject\u001b[49m\u001b[43m)\u001b[49m\n",
      "\u001b[0;31mRuntimeError\u001b[0m: Number of output coordinates exceeded allocation (545)"
     ]
    },
    {
     "data": {
      "image/png": "[encoded data removed]",
      "text/plain": [
       "<Figure size 640x480 with 1 Axes>"
      ]
     },
     "metadata": {},
     "output_type": "display_data"
    },
    {
     "data": {
      "image/png": "[encoded data removed]",
      "text/plain": [
       "<Figure size 640x480 with 4 Axes>"
      ]
     },
     "metadata": {},
     "output_type": "display_data"
    },
    {
     "data": {
      "image/png": "[encoded data removed]",
      "text/plain": [
       "<Figure size 640x480 with 2 Axes>"
      ]
     },
     "metadata": {},
     "output_type": "display_data"
    }
   ],
   "source": [
    "tweakreg.TweakReg('*flt.fits',\n",
    "                  imagefindcfg={'threshold': 50, 'conv_width': 2.5},\n",
    "                  expand_refcat=True,\n",
    "                  enforce_user_order=False,\n",
    "                  shiftfile=True,\n",
    "                  outshifts='shift160_flt.txt',\n",
    "                  searchrad=2.0,\n",
    "                  ylimit=0.3,\n",
    "                  updatehdr=True,\n",
    "                  reusename=True,\n",
    "                  wcsname='IR_FLT',\n",
    "                  interactive=False)"
   ]
  },
  {
   "cell_type": "markdown",
   "metadata": {},
   "source": [
    "## 4b. Inspect the shift file to verify the pointing residuals \n",
    "\n",
    "With the `threshold` parameter set to 50 sigma, TweakReg finds ~500 objects per FLC image, matches the individual catalogs, and computes residual shifts between exposures. These offsets (given in pixels at the native IR scale=0.1283”/pixel) are recorded in an output “shift file” which is shown below.  Note that the fourth row of the shift file corresponds to the reference image ‘ick902neq_flt.fits’ which was automatically selected by TweakReg. The computed offsets reflect updates to the header WCS required to correct for small pointing errors."
   ]
  },
  {
   "cell_type": "code",
   "execution_count": null,
   "metadata": {},
   "outputs": [],
   "source": [
    "shift_table = Table.read('shift160_flt.txt',\n",
    "                         format='ascii.no_header', \n",
    "                         names=['file', 'dx', 'dy', 'rot', 'scale', 'xrms', 'yrms'])\n",
    "\n",
    "formats = ['.2f', '.2f', '.3f', '.5f', '.2f', '.2f']\n",
    "for i, col in enumerate(shift_table.colnames[1:]):\n",
    "    shift_table[col].format = formats[i]\n",
    "shift_table"
   ]
  },
  {
   "cell_type": "markdown",
   "metadata": {},
   "source": [
    "The expected pointing accuracy for various observing scenerios is summarized in the DrizzlePac Handbook [Appendix B](http://documents.stsci.edu/hst/HST_overview/documents/DrizzlePac/AppendixB2.html). Exposures making up visit-level drizzled products are typically aligned to 2-5 milliarcsecond (mas) accuracy with fine-lock on 2 guide stars. The shift file above confirms this, with offsets (dx,dy) between pairs of exposures in the same visit visit averaging ~0.05 IR pixels (6 mas). For different visits using the same set of guide stars, offsets of ~50-100 mas (0.6-1.2 IR pixels are expected. For visits with different sets of guide stars, the pointing accuracy is typically 0.2-0.5 arcseconds. \n",
    "\n",
    "The cell below shows how to check the image header for the 'Dominant' and 'Secondary' guide stars used. Since the M16 tiles (visits) each used different guide star pairs, the relatively large offsets (>1 arcsec) required for visits 03 and 04 to match the visit 02 reference image are not surprising, though are larger than expected. Note that the TweakReg `searchrad` parameter was increased to 2.0\" from the default value of 1.0\" to allow TweakReg to find the correct fit for these visits."
   ]
  },
  {
   "cell_type": "code",
   "execution_count": null,
   "metadata": {},
   "outputs": [],
   "source": [
    "collect_spt = ImageFileCollection('./', glob_include=\"ick9*0_spt.fits\", ext=0,\n",
    "                                  keywords=[\"asn_id\", \"config\", \"dgestar\", \"sgestar\"])\n",
    "table_spt = collect_spt.summary\n",
    "table_spt"
   ]
  },
  {
   "cell_type": "markdown",
   "metadata": {},
   "source": [
    "With `enforce_user_order='True'`, the FLC files were aligned in the order shown below. The exposure v02b was automatically selected as the reference and then v02a was selected as the image with the most overlap on the sky. The two input catalogs had 601 and 574 sources, respectively, and this gave 483 matches for the two exposures, after sigma-clipping. The reference catalog was then expanded by adding 73 new objects from the dithered exposure v02a to the matched catalog for a total of 674 sources. \n",
    "\n",
    "TweakReg next moved over to tile 04 and to align exposure v04a to the expanded catalog. In the overlap region between tiles, 63 matches were found along the upper edge of v04a. The reference catalog was expanded once again, adding the 411 sources from v04a to give a total of 1087 sources. Now when v04b is aligned, the number of matches is 388, since the expanded catalog now includes v04a. TweakReg continues in this way until all input frames are aligned to the expanded catalog, and the number of matches for each exposure is listed in the ascii table below. "
   ]
  },
  {
   "cell_type": "raw",
   "metadata": {},
   "source": [
    "The table below lists visit/exposure ID, the filename, and the number of matched sources for the 8 IR exposures.\n",
    "\n",
    "ID      FILE             N_Match\n",
    "v02b    ick902neq_flt          -\n",
    "v02a    ick902n9q_flt        483    \n",
    "v04a    ick904obq_flt         63    edge\n",
    "v04b    ick904ogq_flt        388   \n",
    "v01a    ick901hzq_flt         44    edge\n",
    "v01b    ick901i7q_flt        454   \n",
    "v03a    ick903n4q_flt         57    edge\n",
    "v03b    ick903ncq_flt        408   "
   ]
  },
  {
   "cell_type": "markdown",
   "metadata": {},
   "source": [
    "## 4c. Inspect the IR fits\n",
    "\n",
    "To verify that TweakReg obtained a good fit between matched source catalogs, it is useful to inspect the results before updating the image header WCS. Below sources matched with the reference frame (v02b) are overplotted on the first input image (v02a). It can be useful to check that TweakReg locked onto stars and not hot pixels or other detector artifacts before proceeding. Next, the vector residuals plot is displayed and checked for any systematics. Finally, the 4-panel plot of fit residuals: dx, dy vs X and Y is inspected to verify that the residuals cluster around zero.   "
   ]
  },
  {
   "cell_type": "code",
   "execution_count": null,
   "metadata": {},
   "outputs": [],
   "source": [
    "# v02a matches\n",
    "plt.figure(figsize = (20, 7))\n",
    "data = fits.open('ick902n9q_flt.fits')['SCI', 1].data\n",
    "zscale = ZScaleInterval()\n",
    "z1, z2 = zscale.get_limits(data)\n",
    "plt.imshow(data, cmap='Greys', origin='lower', vmin=z1, vmax=z2)\n",
    "match_tab = ascii.read('ick902n9q_flt_catalog_fit.match')  # load match file in astropy table\n",
    "x_coord, y_coord = match_tab['col11'], match_tab['col12']\n",
    "plt.scatter(x_coord, y_coord, s=30, edgecolor='r', facecolor='None')\n",
    "plt.ylim(0, 1014)\n",
    "plt.xlim(0, 1014)\n",
    "plt.title('Match: v02a to v02b(Ref)', fontsize=20)"
   ]
  },
  {
   "cell_type": "code",
   "execution_count": null,
   "metadata": {},
   "outputs": [],
   "source": [
    "# v02a vector residuals\n",
    "Image(filename='vector_ick902n9q_flt.png', width=500, height=300)"
   ]
  },
  {
   "cell_type": "code",
   "execution_count": null,
   "metadata": {},
   "outputs": [],
   "source": [
    "# v02a fit residuals\n",
    "Image(filename='residuals_ick902n9q_flt.png', width=500, height=300)"
   ]
  },
  {
   "cell_type": "code",
   "execution_count": null,
   "metadata": {},
   "outputs": [],
   "source": [
    "# v04a matches (Edge overlap region only)\n",
    "plt.figure(figsize = (20, 7))\n",
    "data = fits.open('ick904obq_flt.fits')['SCI', 1].data\n",
    "z1, z2 = zscale.get_limits(data)\n",
    "plt.imshow(data, cmap='Greys', origin='lower', vmin=z1, vmax=z2)\n",
    "match_tab = ascii.read('ick904obq_flt_catalog_fit.match')  # load match file in astropy table\n",
    "x_coord, y_coord = match_tab['col11'], match_tab['col12']\n",
    "plt.scatter(x_coord, y_coord, s=30, edgecolor='r', facecolor='None')\n",
    "plt.ylim(0, 1014)\n",
    "plt.xlim(0, 1014)\n",
    "plt.title('Match: v04a to v02b(Ref)', fontsize=20)"
   ]
  },
  {
   "cell_type": "code",
   "execution_count": null,
   "metadata": {},
   "outputs": [],
   "source": [
    "# v04a vector residuals (Edge gives narrow range of Y-values)\n",
    "Image(filename='vector_ick904obq_flt.png', width=500, height=300)"
   ]
  },
  {
   "cell_type": "code",
   "execution_count": null,
   "metadata": {},
   "outputs": [],
   "source": [
    "# v04a fit residuals (Edge gives narrow range of Y-values)\n",
    "Image(filename='residuals_ick904obq_flt.png', width=500, height=300)"
   ]
  },
  {
   "cell_type": "code",
   "execution_count": null,
   "metadata": {},
   "outputs": [],
   "source": [
    "# v04b matches (Full image since v04a already aligned)\n",
    "plt.figure(figsize = (20, 7))\n",
    "data = fits.open('ick904ogq_flt.fits')['SCI', 1].data\n",
    "z1, z2 = zscale.get_limits(data)\n",
    "plt.imshow(data, cmap='Greys', origin='lower', vmin=z1, vmax=z2)\n",
    "match_tab = ascii.read('ick904ogq_flt_catalog_fit.match')  # load match file in astropy table\n",
    "x_coord, y_coord = match_tab['col11'], match_tab['col12']\n",
    "plt.scatter(x_coord, y_coord, s=30, edgecolor='r', facecolor='None')\n",
    "plt.ylim(0, 1014)\n",
    "plt.xlim(0, 1014)\n",
    "plt.title('Match: v04b to v02b(Ref)', fontsize=20)"
   ]
  },
  {
   "cell_type": "code",
   "execution_count": null,
   "metadata": {},
   "outputs": [],
   "source": [
    "# v04b vector residuals\n",
    "Image(filename='vector_ick904ogq_flt.png', width=500, height=300)"
   ]
  },
  {
   "cell_type": "code",
   "execution_count": null,
   "metadata": {},
   "outputs": [],
   "source": [
    "# v04b fit residuals\n",
    "Image(filename='residuals_ick904ogq_flt.png', width=500, height=300)"
   ]
  },
  {
   "cell_type": "code",
   "execution_count": null,
   "metadata": {},
   "outputs": [],
   "source": [
    "# v01a matches (Edge overlap region only)\n",
    "plt.figure(figsize = (20, 7))\n",
    "data = fits.open('ick901hzq_flt.fits')['SCI',1].data\n",
    "z1, z2 = zscale.get_limits(data)\n",
    "plt.imshow(data, cmap='Greys', origin = 'lower', vmin = z1, vmax = z2)\n",
    "match_tab = ascii.read('ick901hzq_flt_catalog_fit.match')                 #load match file in astropy table\n",
    "x_coord, y_coord = match_tab['col11'], match_tab['col12']\n",
    "plt.scatter(x_coord, y_coord, s = 30, edgecolor = 'r', facecolor = 'None')\n",
    "plt.ylim(0,1014)\n",
    "plt.xlim(0,1014)\n",
    "plt.title('Match: v01a to v02b(Ref)', fontsize=20)"
   ]
  },
  {
   "cell_type": "code",
   "execution_count": null,
   "metadata": {},
   "outputs": [],
   "source": [
    "# v01a vector residuals (Left edge gives narrow range of X-values)\n",
    "Image(filename='vector_ick901hzq_flt.png', width=500, height=300)"
   ]
  },
  {
   "cell_type": "code",
   "execution_count": null,
   "metadata": {},
   "outputs": [],
   "source": [
    "# v01a fit residuals (Left edge gives narrow range of X-values)\n",
    "Image(filename='residuals_ick901hzq_flt.png', width=500, height=300)"
   ]
  },
  {
   "cell_type": "code",
   "execution_count": null,
   "metadata": {},
   "outputs": [],
   "source": [
    "# v01b matches (Full image since v01a already aligned)\n",
    "\n",
    "plt.figure(figsize = (20,7))\n",
    "data = fits.open('ick901i7q_flt.fits')['SCI',1].data\n",
    "z1, z2 = zscale.get_limits(data)\n",
    "plt.imshow(data, cmap='Greys', origin = 'lower', vmin = z1, vmax = z2)\n",
    "match_tab = ascii.read('ick901i7q_flt_catalog_fit.match')                 #load match file in astropy table\n",
    "x_coord, y_coord = match_tab['col11'], match_tab['col12']\n",
    "plt.scatter(x_coord, y_coord, s = 30, edgecolor = 'r', facecolor = 'None')\n",
    "plt.ylim(0,1014)\n",
    "plt.xlim(0,1014)\n",
    "plt.title('Match: v01b to v02b(Ref)', fontsize=20)"
   ]
  },
  {
   "cell_type": "code",
   "execution_count": null,
   "metadata": {},
   "outputs": [],
   "source": [
    "# v01b vector residuals\n",
    "Image(filename='vector_ick901i7q_flt.png', width=500, height=300)"
   ]
  },
  {
   "cell_type": "code",
   "execution_count": null,
   "metadata": {},
   "outputs": [],
   "source": [
    "# v01b fit residuals\n",
    "Image(filename='residuals_ick901i7q_flt.png', width=500, height=300)"
   ]
  },
  {
   "cell_type": "code",
   "execution_count": null,
   "metadata": {},
   "outputs": [],
   "source": [
    "# v03a matches (Top and left edge overlap regions only)\n",
    "plt.figure(figsize = (20, 7))\n",
    "data = fits.open('ick903n4q_flt.fits')['SCI', 1].data\n",
    "z1, z2 = zscale.get_limits(data)\n",
    "plt.imshow(data, cmap='Greys', origin='lower', vmin=z1, vmax=z2)\n",
    "match_tab = ascii.read('ick903n4q_flt_catalog_fit.match')  # load match file in astropy table\n",
    "x_coord, y_coord = match_tab['col11'], match_tab['col12']\n",
    "plt.scatter(x_coord, y_coord, s=30, edgecolor='r', facecolor='None')\n",
    "plt.ylim(0, 1014)\n",
    "plt.xlim(0, 1014)\n",
    "plt.title('Match: v03a to v02b(Ref)', fontsize=20)"
   ]
  },
  {
   "cell_type": "code",
   "execution_count": null,
   "metadata": {},
   "outputs": [],
   "source": [
    "# v03a vector residuals (Top and left edges)\n",
    "Image(filename='vector_ick903n4q_flt.png', width=500, height=300)"
   ]
  },
  {
   "cell_type": "code",
   "execution_count": null,
   "metadata": {},
   "outputs": [],
   "source": [
    "# v03a fit residuals\n",
    "Image(filename='residuals_ick903n4q_flt.png', width=500, height=300)"
   ]
  },
  {
   "cell_type": "code",
   "execution_count": null,
   "metadata": {},
   "outputs": [],
   "source": [
    "# v03b matches (Full image since v03a already aligned)\n",
    "plt.figure(figsize = (20, 7))\n",
    "data = fits.open('ick903ncq_flt.fits')['SCI', 1].data\n",
    "z1, z2 = zscale.get_limits(data)\n",
    "plt.imshow(data, cmap='Greys', origin='lower', vmin=z1, vmax=z2)\n",
    "match_tab = ascii.read('ick903ncq_flt_catalog_fit.match')                 #load match file in astropy table\n",
    "x_coord, y_coord = match_tab['col11'], match_tab['col12']\n",
    "plt.scatter(x_coord, y_coord, s=30, edgecolor='r', facecolor='None')\n",
    "plt.ylim(0, 1014)\n",
    "plt.xlim(0, 1014)\n",
    "plt.title('Match: v03b to v02b(Ref)', fontsize=20)"
   ]
  },
  {
   "cell_type": "code",
   "execution_count": null,
   "metadata": {},
   "outputs": [],
   "source": [
    "# v03b vector residuals\n",
    "Image(filename='vector_ick903ncq_flt.png', width=500, height=300)"
   ]
  },
  {
   "cell_type": "code",
   "execution_count": null,
   "metadata": {},
   "outputs": [],
   "source": [
    "# v03b fit residuals\n",
    "Image(filename='residuals_ick903ncq_flt.png', width=500, height=300)"
   ]
  },
  {
   "cell_type": "markdown",
   "metadata": {},
   "source": [
    "The dx,dy residuals for all IR exposures are all clustered around dx,dy=0 and have an RMS less than 0.1 pixels, indicating a good fit. If the alignment needs to be fine-tuned, changing the parameters `threshold`, `sigma`, and `searchrad` may help TweakReg to lock onto an accurate solution. "
   ]
  },
  {
   "cell_type": "markdown",
   "metadata": {},
   "source": [
    "# 5. Mosaicking Features in AstroDrizzle\n",
    "\n",
    "AstroDrizzle now makes it easier for users to match the sky background when tiling together large mosaics. In prior versions of the software, the sky background was based on clipped statistics in each image separately. The sky background was measured for each chip and the lowest sky value (in electrons/arcsec^2) among all of the chips was adopted. For observations of sparse fields, this approach generally works well. However, when large extended objects fill the detector, there is no true 'blank sky' and the background value will be an overestimate. Additionally, when extended targets are observed as mosaics (e.g. with large dithers), the 'scene' can change significantly between exposures and bias the background estimate.\n",
    "\n",
    "An error in determining the sky background may in turn impact the cosmic ray rejection, and if severe enough, the resulting photometry. Additionally, by not properly matching the sky background before combining frames, correlated noise will be added to the final drizzled products when differences in the background levels are significant. Until now, the recommended workaround has been for users to give AstroDrizzle an ASCII file (`skyfile`) containing user-defined background values. \n",
    "\n",
    "AstroDrizzle now features several new options for computing the sky. One of these, `skymethod='match'`, is useful for “equalizing” the sky background across large mosaics. This method computes differences in sky values using only pixels in common between images. The sky values will then be set relative to the value computed for the input frame with the lowest sky value for which the MDRIZSKY keyword will be set to 0. In this way, the sky background is not removed, but instead equalized before the data are combined. For more details on the sky matching functions used by AstroDrizzle, see the following [webpage](https://stsci-skypac.readthedocs.io/en/latest/skymatch.html)."
   ]
  },
  {
   "cell_type": "markdown",
   "metadata": {},
   "source": [
    "## 5a. Drizzle the IR/F160W Mosaic\n",
    "\n",
    "Now AstroDrizzle can be used to combine the full set of F160W frames. In this case the final orientation has been set to -35 degrees so that the pillars will be oriented vertically. Note that users must first set the parameter `final_wcs='True'` in order to turn on parameters in AstroDrizzle’s step 7a: `Custom WCS for Final Output`. For these observations, the IR scale (0.08”/pixel) is chosen to be exactly twice that for the UVIS mosaics (0.04”/pixel) by setting `final_scale=0.08`, and the drizzled images have been oversized slightly to match the sky area on the sky covered by the UVIS. The sky background may be equalized across mosaic tiles by setting the parameter `skymethod='match'`.\n",
    "   \n",
    "The parameter `final_bits` defines which DQ flags in the FLT image to treat as good. All other pixels with non-zero DQ values will be assumed to be bad and rejected from the final mosaic. For IR data, these two parameters are typically set to 64+512 in the pipeline, corresponding to warm pixels and IR blobs. This program included a blob dither, however, and so the 512 flag may be removed from the list of good DQ values such that these pixels will be replaced with non-flagged pixels from the accompanying dithered pair. \n",
    "\n",
    "For IR data, cosmic-rays have already rejected via the 'up-the-ramp' fitting by calwf3, so Steps 3, 4, 5, 6 in AstroDrizzle have been turned off when combining the FLT exposures.  See [this reference](https://drizzlepac.readthedocs.io/en/deployment/astrodrizzle.html) for more information about the various input parameters to AstroDrizzle."
   ]
  },
  {
   "cell_type": "code",
   "execution_count": null,
   "metadata": {},
   "outputs": [],
   "source": [
    "astrodrizzle.AstroDrizzle('*flt.fits',\n",
    "                          output='f160w',\n",
    "                          preserve=False,\n",
    "                          clean=True,\n",
    "                          build=False,\n",
    "                          context=False,\n",
    "                          skymethod='match', \n",
    "                          driz_separate=False,\n",
    "                          median=False,\n",
    "                          blot=False,\n",
    "                          driz_cr=False,\n",
    "                          final_bits='64',\n",
    "                          final_wcs=True,\n",
    "                          final_scale=0.08,\n",
    "                          final_rot=-35,\n",
    "                          final_ra=274.721587,\n",
    "                          final_dec=-13.841549,\n",
    "                          final_outnx=4000,\n",
    "                          final_outny=4500)"
   ]
  },
  {
   "cell_type": "markdown",
   "metadata": {},
   "source": [
    "## 5b. Display the combined DRZ science and weight images "
   ]
  },
  {
   "cell_type": "code",
   "execution_count": null,
   "metadata": {},
   "outputs": [],
   "source": [
    "sci = fits.getdata('f160w_drz_sci.fits')\n",
    "fig = plt.figure(figsize=(14, 14))\n",
    "plt.imshow(sci, vmin=1, vmax=6, cmap='Greys_r', origin='lower')"
   ]
  },
  {
   "cell_type": "code",
   "execution_count": null,
   "metadata": {},
   "outputs": [],
   "source": [
    "wht = fits.getdata('f160w_drz_wht.fits')\n",
    "fig = plt.figure(figsize=(14, 14))\n",
    "plt.imshow(wht, vmin=0, vmax=1700, cmap='Greys_r', origin='lower')"
   ]
  },
  {
   "cell_type": "markdown",
   "metadata": {},
   "source": [
    "# 6. Align the UVIS FLC frames to the IR mosaic\n",
    "\n",
    "The F160W drizzled mosaic defines the reference frame for aligning the UVIS filters. In [ISR 2015-09](http://www.stsci.edu/hst/wfc3/documents/ISRs/WFC3-2015-09.pdf), the UVIS visit-level DRC frames were aligned directly to the IR reference image, and this approach was chosen because the long UVIS exposures contain numerous cosmic-rays and relatively few point sources. The Drizzlepac task TweakBack was then used to propagate the updated WCS from the drizzled image header back to the individual FLC input frames making up each association prior to drizzling.\n",
    "\n",
    "In this notebook, the FLC frames may be aligned directly to the IR mosaic by making use of a new parameter in TweakReg which allows for specific flags in the DQ array of the FLC frames to be used or ignored. The `imagefindpars` parameter `dqbits` may be prepended with ‘~’ to the string value to indicate which DQ flags to consider as \"bad\" pixels. For example, when deriving source catalogs, Tweakreg will ignore any pixels flagged as cosmic-ray flags in the MAST visit-level drizzled data products when `dqbits` is set to ~4096. This dramatically cuts down the number of false detections due to cosmic rays in the input FLC science arrays. More details on `imagefindpars` options may be found on the following [webpage](https://drizzlepac.readthedocs.io/en/deployment/imagefindpars.html). \n",
    "\n",
    "In this example, the `threshold` value was manually adjusted to get ~50 matches per UVIS exposure. Note that setting the `threshold` to a very low value does not necessarily translate to a better solution, since all sources are weighted equally when computing fits to match catalogs. This is especially relevant for UVIS data where CTE tails can shift the centroid position slightly along the readout direction for faint sources and potentially bias the fit."
   ]
  },
  {
   "cell_type": "code",
   "execution_count": null,
   "metadata": {},
   "outputs": [],
   "source": [
    "tweakreg.TweakReg('*_flc.fits',\n",
    "                  enforce_user_order=False,\n",
    "                  imagefindcfg={'threshold': 200, 'conv_width': 3.5, 'dqbits': ~4096},\n",
    "                  refimage='f160w_drz_sci.fits', \n",
    "                  refimagefindcfg={'threshold': 50, 'conv_width': 2.5},\n",
    "                  shiftfile=True,\n",
    "                  outshifts='shift657_flc.txt',\n",
    "                  searchrad=5.0,\n",
    "                  ylimit=0.6,\n",
    "                  updatehdr=True,\n",
    "                  wcsname='UVIS_FLC',\n",
    "                  reusename=True,\n",
    "                  interactive=False)"
   ]
  },
  {
   "cell_type": "markdown",
   "metadata": {},
   "source": [
    "## 6a. Inspect the shift file to verify the pointing residuals \n",
    "\n",
    "With a `threshold` of 200 sigma, TweakReg generates catalogs with several hundred objects per UVIS image and it matches 20-70 objects to the IR reference catalog. The computed offsets written to the shift file are reported at the scale of the reference image (0.08”/pixel for the drizzled IR mosaic). Thus a fit rms ~0.20 pixels (below) at the IR scale is equivalent to an rms ~0.10 pixels at the native UVIS scale (0.04\"/pixel).\n",
    "\n",
    "Because each visit was acquired using a unique pair of Guide Stars, the three FLC exposures making up each visit should have roughly similar residual corrections to the WCS, which can be seen in the table below. Note that residual offsets for visit 05 are much larger than those found for the other three visits at nearly 3\"."
   ]
  },
  {
   "cell_type": "code",
   "execution_count": null,
   "metadata": {},
   "outputs": [],
   "source": [
    "shift_table=Table.read('shift657_flc.txt', format='ascii.no_header',\n",
    "                       names=['file', 'dx', 'dy', 'rot', 'scale', 'xrms', 'yrms'])\n",
    "\n",
    "formats = ['.2f', '.2f', '.3f', '.5f', '.2f', '.2f']\n",
    "for i, col in enumerate(shift_table.colnames[1:]):\n",
    "    shift_table[col].format = formats[i]\n",
    "shift_table"
   ]
  },
  {
   "cell_type": "markdown",
   "metadata": {},
   "source": [
    "## 6b. Inspect the UVIS fits"
   ]
  },
  {
   "cell_type": "code",
   "execution_count": null,
   "metadata": {},
   "outputs": [],
   "source": [
    "#v06a matched sources (chip 1)\n",
    "plt.figure(figsize=(20, 10))\n",
    "chip1_data = fits.open('ick906l5q_flc.fits')['SCI', 2].data\n",
    "z1, z2 = zscale.get_limits(chip1_data)\n",
    "plt.imshow(chip1_data, cmap='Greys', origin='lower', vmin=z1, vmax=z2)\n",
    "match_tab = ascii.read('ick906l5q_flc_catalog_fit.match')  # load match file in astropy table\n",
    "match_tab_chip1 = match_tab[match_tab['col15'] == 2]  # filter table for sources on chip 1 (on ext 4)\n",
    "x_cord, y_cord = match_tab_chip1['col11'], match_tab_chip1['col12']\n",
    "plt.scatter(x_cord, y_cord, s=50, edgecolor='r', facecolor='None', label='Matched Sources, Chip 1')\n",
    "plt.ylim(0, 2051)\n",
    "plt.xlim(0, 4096)\n",
    "plt.legend(loc='best', fontsize=20)"
   ]
  },
  {
   "cell_type": "code",
   "execution_count": null,
   "metadata": {},
   "outputs": [],
   "source": [
    "#v06a matched sources (chip 2)\n",
    "plt.figure(figsize=(20, 10))\n",
    "chip1_data = fits.open('ick906l5q_flc.fits')['SCI', 1].data\n",
    "z1, z2 = zscale.get_limits(chip1_data)\n",
    "plt.imshow(chip1_data, cmap='Greys', origin='lower', vmin=z1, vmax=z2)\n",
    "match_tab = ascii.read('ick906l5q_flc_catalog_fit.match')  # load match file in astropy table\n",
    "match_tab_chip2 = match_tab[match_tab['col15'] == 1]  # filter table for sources on chip 2 (on ext 1)\n",
    "x_cord, y_cord = match_tab_chip2['col11'], match_tab_chip2['col12']\n",
    "plt.scatter(x_cord, y_cord, s=50, edgecolor='r', facecolor='None', label='Matched Sources, Chip 2')\n",
    "plt.ylim(0, 2051)\n",
    "plt.xlim(0, 4096)\n",
    "plt.legend(loc='best', fontsize=20)"
   ]
  },
  {
   "cell_type": "code",
   "execution_count": null,
   "metadata": {},
   "outputs": [],
   "source": [
    "# v06a vector residuals\n",
    "Image(filename='vector_ick906l5q_flc.png', width=600, height=300)"
   ]
  },
  {
   "cell_type": "code",
   "execution_count": null,
   "metadata": {},
   "outputs": [],
   "source": [
    "# v06a fit residuals\n",
    "Image(filename='residuals_ick906l5q_flc.png', width=600, height=300)"
   ]
  },
  {
   "cell_type": "markdown",
   "metadata": {},
   "source": [
    "# 7. Drizzling the F657N mosaic\n",
    "\n",
    "The full set of 12 FLC frames have now been aligned and may be drizzled to a mosaic exactly half the scale (0.04\"/pixel) of the original IR mosaic (0.08\"/pixel). The same output WCS paramters: `final_rot`,`final_ra`, and `final_dec` values are used, but the `final_outnx` and `final_outny` are now twice the size of the IR mosaic at 8000x9000 pixels. \n",
    "\n",
    "To save time for this notebook, the visit-level cosmic ray flags are assumed to be adequate, Steps 3, 4, 5, 6 are turned off, and the parameter `resetbits` is set to '0' to avoid wiping out the 4096 flags in the FLC data quality arrays. Also, the sky background levels have been provided via the skyfile parameter, but users would typically set `skymethod='match'` to compute the sky background levels. \n",
    "\n",
    "To further improve cosmic-ray rejection in the chip gap, AstroDrizzle may alternatively be run with all steps turned on as shown in the text below and with `resetbits=4096` to update the DQ flags. \n",
    "\n",
    "```\n",
    "astrodrizzle.AstroDrizzle('*flc.fits',\n",
    "                          output='f657n_improved',\n",
    "                          preserve=False,\n",
    "                          clean=False,\n",
    "                          build=False,\n",
    "                          context=False,\n",
    "                          resetbits=4096,\n",
    "                          skymethod='match',\n",
    "                          combine_type='minmed',\n",
    "                          final_bits='64,16',\n",
    "                          final_wcs=True,\n",
    "                          final_scale=0.04,\n",
    "                          final_rot=-35,\n",
    "                          final_ra=274.721587,\n",
    "                          final_dec=-13.841549,\n",
    "                          final_outnx=8000,\n",
    "                          final_outny=9000)\n",
    "```"
   ]
  },
  {
   "cell_type": "code",
   "execution_count": null,
   "metadata": {},
   "outputs": [],
   "source": [
    "astrodrizzle.AstroDrizzle('*flc.fits',\n",
    "                          output='f657n',\n",
    "                          preserve=False,\n",
    "                          clean=False,\n",
    "                          build=False,\n",
    "                          context=False,\n",
    "                          resetbits=0,\n",
    "                          skyfile='skyfile.txt',\n",
    "                          driz_separate=False,\n",
    "                          median=False,\n",
    "                          blot=False,\n",
    "                          driz_cr=False,\n",
    "                          final_bits='64,16',\n",
    "                          final_wcs=True,\n",
    "                          final_scale=0.04,\n",
    "                          final_rot=-35,\n",
    "                          final_ra=274.721587,\n",
    "                          final_dec=-13.841549,\n",
    "                          final_outnx=8000,\n",
    "                          final_outny=9000)"
   ]
  },
  {
   "cell_type": "markdown",
   "metadata": {},
   "source": [
    "## 7a. Display the combined DRC science and weight images "
   ]
  },
  {
   "cell_type": "code",
   "execution_count": null,
   "metadata": {},
   "outputs": [],
   "source": [
    "sci = fits.getdata('f657n_drc_sci.fits')\n",
    "fig = plt.figure(figsize=(14, 14))\n",
    "plt.imshow(sci, vmin=0, vmax=1, cmap='Greys_r', origin='lower')"
   ]
  },
  {
   "cell_type": "code",
   "execution_count": null,
   "metadata": {},
   "outputs": [],
   "source": [
    "sci = fits.getdata('f657n_drc_wht.fits')\n",
    "fig = plt.figure(figsize=(14, 14))\n",
    "plt.imshow(sci, vmin=0, vmax=10000, cmap='Greys_r', origin='lower')"
   ]
  },
  {
   "cell_type": "markdown",
   "metadata": {
    "nbpresent": {
     "id": "6413c886-77af-4d74-9609-dbcc47d6a0b1"
    }
   },
   "source": [
    "# Summary\n",
    "\n",
    "This notebook provides the methodology for creating UVIS and IR mosaics of M16, as well as recommendations for key parameters. As such, it is relevant for users combining multi-visit observations from any HST imaging program, whether mosaics or single pointings. In this example, the IR F160W mosaic was chosen to define the reference frame, since it contained the largest number of point sources, despite the pixels being undersampled. Typically, the detector with the best resolution and PSF sampling would be selected as the reference, but in this case the UVIS catalogs were too sparse.\n",
    "\n",
    "When building up an expanded reference catalog on the sky, TweakReg was allowed to select the order in which tiles were aligned, since it made little impact on the results. For aligning mosaics with more tiles, however, users are recommended to experiment with changing the order in which images are aligned and seeing how this changes the astrometric residuals.  Generally, users are advised to start from the center of the mosaic and work their way out to avoid propogation of errors across the mosaic. \n",
    "\n",
    "Alternatively, mosaic tiles can be aligned directly to an absolute reference catalog such as GAIA, when a sufficient number of stars are available in the input frames for alignment. For more detail on this methodology, see the notebook 'aligning_to_catalogs.ipynb'. "
   ]
  },
  {
   "cell_type": "markdown",
   "metadata": {},
   "source": [
    "# About this Notebook\n",
    "\n",
    "    Author: J. Mack, STScI WFC3 Team  \n",
    "    Updated: December 17, 2018"
   ]
  }
 ],
 "metadata": {
  "language_info": {
   "name": "python"
  }
 },
 "nbformat": 4,
 "nbformat_minor": 2
}

